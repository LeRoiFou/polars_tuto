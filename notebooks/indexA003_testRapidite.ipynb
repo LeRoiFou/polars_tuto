{
 "cells": [
  {
   "attachments": {},
   "cell_type": "markdown",
   "metadata": {},
   "source": [
    "Dans ce programme, on fait un test de rapidité de chargement et de filtre d'un fichier .csv\n",
    "\n",
    "On effectue un test avec la fonction lazy()\n",
    "\n",
    "Le chargement et les traitements opérés à partir de polars sont beaucoup plus rapide que pandas\n",
    "\n",
    "Concernant l'instruction lazy() de polars, on voit ici peu de différence, mais le fichier n'a pas une taille conséquente...\n",
    "\n",
    "Date : 07-03-2023"
   ]
  },
  {
   "cell_type": "code",
   "execution_count": 1,
   "metadata": {},
   "outputs": [],
   "source": [
    "import pandas as pd\n",
    "import polars as pl"
   ]
  },
  {
   "attachments": {},
   "cell_type": "markdown",
   "metadata": {},
   "source": [
    "<font color='yellow'>Avec pandas"
   ]
  },
  {
   "cell_type": "code",
   "execution_count": 20,
   "metadata": {},
   "outputs": [
    {
     "name": "stdout",
     "output_type": "stream",
     "text": [
      "8.89 ms ± 438 µs per loop (mean ± std. dev. of 7 runs, 100 loops each)\n"
     ]
    }
   ],
   "source": [
    "%%timeit\n",
    "df_pandas = pd.read_csv('data/titanic.csv')\n",
    "(df_pandas.loc[df_pandas['Survived'] == 0]\n",
    " .groupby('Sex')['Age'].mean()).reset_index()"
   ]
  },
  {
   "attachments": {},
   "cell_type": "markdown",
   "metadata": {},
   "source": [
    "<font color='yellow'>Avec polars"
   ]
  },
  {
   "cell_type": "code",
   "execution_count": 21,
   "metadata": {},
   "outputs": [
    {
     "name": "stdout",
     "output_type": "stream",
     "text": [
      "4.51 ms ± 442 µs per loop (mean ± std. dev. of 7 runs, 100 loops each)\n"
     ]
    }
   ],
   "source": [
    "%%timeit\n",
    "df_polars = pl.read_csv('data/titanic.csv')\n",
    "(df_polars.filter(pl.col('Survived') == 0)\n",
    " .groupby('Sex')\n",
    " .agg(pl.col('Age').mean()))"
   ]
  },
  {
   "attachments": {},
   "cell_type": "markdown",
   "metadata": {},
   "source": [
    "Avec polars et en recourant à l'instruction lazy()\n",
    "\n",
    "https://towardsdatascience.com/understanding-lazy-evaluation-in-polars-b85ccb864d0c"
   ]
  },
  {
   "cell_type": "code",
   "execution_count": 22,
   "metadata": {},
   "outputs": [
    {
     "name": "stdout",
     "output_type": "stream",
     "text": [
      "5.38 ms ± 919 µs per loop (mean ± std. dev. of 7 runs, 100 loops each)\n"
     ]
    }
   ],
   "source": [
    "%%timeit\n",
    "(pl.read_csv('data/titanic.csv').lazy().filter(pl.col('Survived') == 0)\n",
    " .groupby('Sex', maintain_order=True)\n",
    " .agg(pl.col('Age').mean())).collect()"
   ]
  }
 ],
 "metadata": {
  "kernelspec": {
   "display_name": ".env",
   "language": "python",
   "name": "python3"
  },
  "language_info": {
   "codemirror_mode": {
    "name": "ipython",
    "version": 3
   },
   "file_extension": ".py",
   "mimetype": "text/x-python",
   "name": "python",
   "nbconvert_exporter": "python",
   "pygments_lexer": "ipython3",
   "version": "3.9.2"
  },
  "orig_nbformat": 4
 },
 "nbformat": 4,
 "nbformat_minor": 2
}
