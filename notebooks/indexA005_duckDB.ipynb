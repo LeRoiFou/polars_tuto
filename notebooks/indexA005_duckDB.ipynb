{
 "cells": [
  {
   "attachments": {},
   "cell_type": "markdown",
   "metadata": {},
   "source": [
    "### DUCKDB\n",
    "\n",
    "DuckDB est une librairie de Python qui semblerait récupérer des meta-données tout en étant plus rapide que PostgreSQL, SQLite...\n",
    "\n",
    "Cette librairie serait plus performante que PySpark (reconnu pour être moins rapide que la librairie Polars pour les fichiers de taille moyenne)\n",
    "\n",
    "<br>Site officiel : https://duckdb.org/\n",
    "\n",
    "Lien : https://www.youtube.com/watch?v=AjsB6lM2-zw\n",
    "\n",
    "Exercice : https://robust-dinosaur-2ef.notion.site/DuckDB-Tutorial-Getting-started-for-beginners-b80bf0de8d6142d6979e78e59ffbbefe\n",
    "\n",
    "Date : 30-03-2023"
   ]
  },
  {
   "cell_type": "code",
   "execution_count": 1,
   "metadata": {},
   "outputs": [],
   "source": [
    "# %pip install duckdb"
   ]
  },
  {
   "cell_type": "code",
   "execution_count": 16,
   "metadata": {},
   "outputs": [],
   "source": [
    "import pandas as pd\n",
    "import glob # pour récupérer un certain nombre de fichiers\n",
    "import time\n",
    "import duckdb"
   ]
  },
  {
   "cell_type": "code",
   "execution_count": 17,
   "metadata": {},
   "outputs": [],
   "source": [
    "# Connection sql\n",
    "conn = duckdb.connect()"
   ]
  },
  {
   "cell_type": "code",
   "execution_count": 18,
   "metadata": {},
   "outputs": [],
   "source": [
    "# Assignation d'un minuteur\n",
    "cur_time = time.time()"
   ]
  },
  {
   "cell_type": "code",
   "execution_count": 19,
   "metadata": {},
   "outputs": [
    {
     "name": "stdout",
     "output_type": "stream",
     "text": [
      "Temps écoulé avec Pandas : 0.8800783157348633\n",
      "  Order ID                     Product Quantity Ordered Price Each  \\\n",
      "0   176558        USB-C Charging Cable                2      11.95   \n",
      "1      NaN                         NaN              NaN        NaN   \n",
      "2   176559  Bose SoundSport Headphones                1      99.99   \n",
      "3   176560                Google Phone                1        600   \n",
      "4   176560            Wired Headphones                1      11.99   \n",
      "5   176561            Wired Headphones                1      11.99   \n",
      "6   176562        USB-C Charging Cable                1      11.95   \n",
      "7   176563  Bose SoundSport Headphones                1      99.99   \n",
      "8   176564        USB-C Charging Cable                1      11.95   \n",
      "9   176565          Macbook Pro Laptop                1       1700   \n",
      "\n",
      "       Order Date                        Purchase Address  \n",
      "0  04/19/19 08:46            917 1st St, Dallas, TX 75001  \n",
      "1             NaN                                     NaN  \n",
      "2  04/07/19 22:30       682 Chestnut St, Boston, MA 02215  \n",
      "3  04/12/19 14:38    669 Spruce St, Los Angeles, CA 90001  \n",
      "4  04/12/19 14:38    669 Spruce St, Los Angeles, CA 90001  \n",
      "5  04/30/19 09:27       333 8th St, Los Angeles, CA 90001  \n",
      "6  04/29/19 13:03  381 Wilson St, San Francisco, CA 94016  \n",
      "7  04/02/19 07:46        668 Center St, Seattle, WA 98101  \n",
      "8  04/12/19 10:58         790 Ridge St, Atlanta, GA 30301  \n",
      "9  04/24/19 10:38  915 Willow St, San Francisco, CA 94016  \n"
     ]
    }
   ],
   "source": [
    "# Concaténation de tous les fichiers CSV récupérés avec pandas 😮\n",
    "df = pd.concat([pd.read_csv(f) for f in glob.glob('data/Sales/*.csv')])\n",
    "print(f\"Temps écoulé avec Pandas : {(time.time() - cur_time)}\")\n",
    "print(df.head(10))"
   ]
  },
  {
   "cell_type": "code",
   "execution_count": 20,
   "metadata": {},
   "outputs": [],
   "source": [
    "# Assignation d'un minuteur\n",
    "cur_time = time.time()"
   ]
  },
  {
   "cell_type": "code",
   "execution_count": 21,
   "metadata": {},
   "outputs": [
    {
     "name": "stdout",
     "output_type": "stream",
     "text": [
      "Temps écoulé avec DuckDB : 0.24290895462036133\n",
      "  Order ID                     Product Quantity Ordered Price Each  \\\n",
      "0   176558        USB-C Charging Cable                2      11.95   \n",
      "1      NaN                         NaN              NaN        NaN   \n",
      "2   176559  Bose SoundSport Headphones                1      99.99   \n",
      "3   176560                Google Phone                1        600   \n",
      "4   176560            Wired Headphones                1      11.99   \n",
      "5   176561            Wired Headphones                1      11.99   \n",
      "6   176562        USB-C Charging Cable                1      11.95   \n",
      "7   176563  Bose SoundSport Headphones                1      99.99   \n",
      "8   176564        USB-C Charging Cable                1      11.95   \n",
      "9   176565          Macbook Pro Laptop                1       1700   \n",
      "\n",
      "       Order Date                        Purchase Address  \n",
      "0  04/19/19 08:46            917 1st St, Dallas, TX 75001  \n",
      "1             NaN                                     NaN  \n",
      "2  04/07/19 22:30       682 Chestnut St, Boston, MA 02215  \n",
      "3  04/12/19 14:38    669 Spruce St, Los Angeles, CA 90001  \n",
      "4  04/12/19 14:38    669 Spruce St, Los Angeles, CA 90001  \n",
      "5  04/30/19 09:27       333 8th St, Los Angeles, CA 90001  \n",
      "6  04/29/19 13:03  381 Wilson St, San Francisco, CA 94016  \n",
      "7  04/02/19 07:46        668 Center St, Seattle, WA 98101  \n",
      "8  04/12/19 10:58         790 Ridge St, Atlanta, GA 30301  \n",
      "9  04/24/19 10:38  915 Willow St, San Francisco, CA 94016  \n"
     ]
    }
   ],
   "source": [
    "# Concaténation de tous les fichiers CSV récupérés avec duckDB converti en df pandas 😮\n",
    "# SELECT * : tout sélectionner\n",
    "# FROM read_csv_auto(ref1, ref2, ref3, ref4) :\n",
    "    # ref1 : chemin et nom du fichier (*.csv -> récupérer tous les fichiers .csv)\n",
    "    # ref2 : header = True -> désigner la 1ère ligne en tant qu'en-tête des colonnes\n",
    "    # ref3 : filename = True -> ???\n",
    "    # ref4 : columns = {'Champ1' : INTEGER, 'Champ2' :...} type par colonne mais avec read_csv_auto pas nécessaire de faire ça\n",
    "# LIMIT INT : nombre de lignes à sélectionner\n",
    "df = conn.execute(\n",
    "    \"\"\"\n",
    "    SELECT *\n",
    "    FROM read_csv_auto('data/Sales/*.csv', header=True)\n",
    "    LIMIT 10\n",
    "    \"\"\").df() # .df() -> conversion en df pandas\n",
    "print(f\"Temps écoulé avec DuckDB : {(time.time() - cur_time)}\")\n",
    "print(df)"
   ]
  },
  {
   "cell_type": "code",
   "execution_count": 22,
   "metadata": {},
   "outputs": [
    {
     "data": {
      "text/plain": [
       "<duckdb.DuckDBPyConnection at 0x228df7a46f0>"
      ]
     },
     "execution_count": 22,
     "metadata": {},
     "output_type": "execute_result"
    }
   ],
   "source": [
    "# Création d'une table virtuelle pour effectuer les instructions ci-après\n",
    "conn.register(\"df_view\", df)"
   ]
  },
  {
   "cell_type": "code",
   "execution_count": 23,
   "metadata": {},
   "outputs": [
    {
     "data": {
      "text/html": [
       "<div>\n",
       "<style scoped>\n",
       "    .dataframe tbody tr th:only-of-type {\n",
       "        vertical-align: middle;\n",
       "    }\n",
       "\n",
       "    .dataframe tbody tr th {\n",
       "        vertical-align: top;\n",
       "    }\n",
       "\n",
       "    .dataframe thead th {\n",
       "        text-align: right;\n",
       "    }\n",
       "</style>\n",
       "<table border=\"1\" class=\"dataframe\">\n",
       "  <thead>\n",
       "    <tr style=\"text-align: right;\">\n",
       "      <th></th>\n",
       "      <th>column_name</th>\n",
       "      <th>column_type</th>\n",
       "      <th>null</th>\n",
       "      <th>key</th>\n",
       "      <th>default</th>\n",
       "      <th>extra</th>\n",
       "    </tr>\n",
       "  </thead>\n",
       "  <tbody>\n",
       "    <tr>\n",
       "      <th>0</th>\n",
       "      <td>Order ID</td>\n",
       "      <td>VARCHAR</td>\n",
       "      <td>YES</td>\n",
       "      <td>NaN</td>\n",
       "      <td>NaN</td>\n",
       "      <td>NaN</td>\n",
       "    </tr>\n",
       "    <tr>\n",
       "      <th>1</th>\n",
       "      <td>Product</td>\n",
       "      <td>VARCHAR</td>\n",
       "      <td>YES</td>\n",
       "      <td>NaN</td>\n",
       "      <td>NaN</td>\n",
       "      <td>NaN</td>\n",
       "    </tr>\n",
       "    <tr>\n",
       "      <th>2</th>\n",
       "      <td>Quantity Ordered</td>\n",
       "      <td>VARCHAR</td>\n",
       "      <td>YES</td>\n",
       "      <td>NaN</td>\n",
       "      <td>NaN</td>\n",
       "      <td>NaN</td>\n",
       "    </tr>\n",
       "    <tr>\n",
       "      <th>3</th>\n",
       "      <td>Price Each</td>\n",
       "      <td>VARCHAR</td>\n",
       "      <td>YES</td>\n",
       "      <td>NaN</td>\n",
       "      <td>NaN</td>\n",
       "      <td>NaN</td>\n",
       "    </tr>\n",
       "    <tr>\n",
       "      <th>4</th>\n",
       "      <td>Order Date</td>\n",
       "      <td>VARCHAR</td>\n",
       "      <td>YES</td>\n",
       "      <td>NaN</td>\n",
       "      <td>NaN</td>\n",
       "      <td>NaN</td>\n",
       "    </tr>\n",
       "    <tr>\n",
       "      <th>5</th>\n",
       "      <td>Purchase Address</td>\n",
       "      <td>VARCHAR</td>\n",
       "      <td>YES</td>\n",
       "      <td>NaN</td>\n",
       "      <td>NaN</td>\n",
       "      <td>NaN</td>\n",
       "    </tr>\n",
       "  </tbody>\n",
       "</table>\n",
       "</div>"
      ],
      "text/plain": [
       "        column_name column_type null  key default  extra\n",
       "0          Order ID     VARCHAR  YES  NaN     NaN    NaN\n",
       "1           Product     VARCHAR  YES  NaN     NaN    NaN\n",
       "2  Quantity Ordered     VARCHAR  YES  NaN     NaN    NaN\n",
       "3        Price Each     VARCHAR  YES  NaN     NaN    NaN\n",
       "4        Order Date     VARCHAR  YES  NaN     NaN    NaN\n",
       "5  Purchase Address     VARCHAR  YES  NaN     NaN    NaN"
      ]
     },
     "execution_count": 23,
     "metadata": {},
     "output_type": "execute_result"
    }
   ],
   "source": [
    "# Fonction native describe() équivalent à Pandas\n",
    "conn.execute(\"DESCRIBE df_view\").df()"
   ]
  },
  {
   "cell_type": "code",
   "execution_count": 24,
   "metadata": {},
   "outputs": [
    {
     "data": {
      "text/plain": [
       "<duckdb.DuckDBPyConnection at 0x228df7a46f0>"
      ]
     },
     "execution_count": 24,
     "metadata": {},
     "output_type": "execute_result"
    }
   ],
   "source": [
    "# Nouvelle DF sans limite de lignes cette fois-ci\n",
    "df = conn.execute(\n",
    "    \"\"\"\n",
    "    SELECT *\n",
    "    FROM read_csv_auto('data/Sales/*.csv', header=True)\n",
    "    \"\"\").df()\n",
    "\n",
    "# Création d'une table virtuelle pour effectuer les instructions ci-après\n",
    "conn.register(\"df_view\", df)"
   ]
  },
  {
   "cell_type": "code",
   "execution_count": 25,
   "metadata": {},
   "outputs": [
    {
     "data": {
      "text/html": [
       "<div>\n",
       "<style scoped>\n",
       "    .dataframe tbody tr th:only-of-type {\n",
       "        vertical-align: middle;\n",
       "    }\n",
       "\n",
       "    .dataframe tbody tr th {\n",
       "        vertical-align: top;\n",
       "    }\n",
       "\n",
       "    .dataframe thead th {\n",
       "        text-align: right;\n",
       "    }\n",
       "</style>\n",
       "<table border=\"1\" class=\"dataframe\">\n",
       "  <thead>\n",
       "    <tr style=\"text-align: right;\">\n",
       "      <th></th>\n",
       "      <th>count_star()</th>\n",
       "    </tr>\n",
       "  </thead>\n",
       "  <tbody>\n",
       "    <tr>\n",
       "      <th>0</th>\n",
       "      <td>186850</td>\n",
       "    </tr>\n",
       "  </tbody>\n",
       "</table>\n",
       "</div>"
      ],
      "text/plain": [
       "   count_star()\n",
       "0        186850"
      ]
     },
     "execution_count": 25,
     "metadata": {},
     "output_type": "execute_result"
    }
   ],
   "source": [
    "# Nombre de lignes\n",
    "conn.execute(\"SELECT COUNT(*) FROM df_view\").df()"
   ]
  },
  {
   "cell_type": "code",
   "execution_count": 26,
   "metadata": {},
   "outputs": [
    {
     "data": {
      "text/plain": [
       "Order ID            545\n",
       "Product             545\n",
       "Quantity Ordered    545\n",
       "Price Each          545\n",
       "Order Date          545\n",
       "Purchase Address    545\n",
       "dtype: int64"
      ]
     },
     "execution_count": 26,
     "metadata": {},
     "output_type": "execute_result"
    }
   ],
   "source": [
    "# Suppression des lignes avec pandas car avec duckDB c'est plus compliqué...\n",
    "# Nombre de lignes vides\n",
    "df.isnull().sum()"
   ]
  },
  {
   "cell_type": "code",
   "execution_count": 27,
   "metadata": {},
   "outputs": [],
   "source": [
    "# Suppression des lignes vides\n",
    "df = df.dropna(how='all')"
   ]
  },
  {
   "cell_type": "code",
   "execution_count": 28,
   "metadata": {},
   "outputs": [
    {
     "data": {
      "text/plain": [
       "Order ID            0\n",
       "Product             0\n",
       "Quantity Ordered    0\n",
       "Price Each          0\n",
       "Order Date          0\n",
       "Purchase Address    0\n",
       "dtype: int64"
      ]
     },
     "execution_count": 28,
     "metadata": {},
     "output_type": "execute_result"
    }
   ],
   "source": [
    "# Confirmation qu'il n'y a plus de lignes vides\n",
    "df.isnull().sum()"
   ]
  },
  {
   "cell_type": "code",
   "execution_count": 29,
   "metadata": {},
   "outputs": [
    {
     "data": {
      "text/html": [
       "<div>\n",
       "<style scoped>\n",
       "    .dataframe tbody tr th:only-of-type {\n",
       "        vertical-align: middle;\n",
       "    }\n",
       "\n",
       "    .dataframe tbody tr th {\n",
       "        vertical-align: top;\n",
       "    }\n",
       "\n",
       "    .dataframe thead th {\n",
       "        text-align: right;\n",
       "    }\n",
       "</style>\n",
       "<table border=\"1\" class=\"dataframe\">\n",
       "  <thead>\n",
       "    <tr style=\"text-align: right;\">\n",
       "      <th></th>\n",
       "      <th>count_star()</th>\n",
       "    </tr>\n",
       "  </thead>\n",
       "  <tbody>\n",
       "    <tr>\n",
       "      <th>0</th>\n",
       "      <td>186305</td>\n",
       "    </tr>\n",
       "  </tbody>\n",
       "</table>\n",
       "</div>"
      ],
      "text/plain": [
       "   count_star()\n",
       "0        186305"
      ]
     },
     "execution_count": 29,
     "metadata": {},
     "output_type": "execute_result"
    }
   ],
   "source": [
    "# Nombre de lignes avec la DF pandas rectifiée\n",
    "conn.execute(\"SELECT COUNT(*) FROM df\").df()"
   ]
  },
  {
   "cell_type": "code",
   "execution_count": 38,
   "metadata": {},
   "outputs": [
    {
     "data": {
      "text/html": [
       "<div>\n",
       "<style scoped>\n",
       "    .dataframe tbody tr th:only-of-type {\n",
       "        vertical-align: middle;\n",
       "    }\n",
       "\n",
       "    .dataframe tbody tr th {\n",
       "        vertical-align: top;\n",
       "    }\n",
       "\n",
       "    .dataframe thead th {\n",
       "        text-align: right;\n",
       "    }\n",
       "</style>\n",
       "<table border=\"1\" class=\"dataframe\">\n",
       "  <thead>\n",
       "    <tr style=\"text-align: right;\">\n",
       "      <th></th>\n",
       "      <th>Order ID</th>\n",
       "      <th>Product</th>\n",
       "      <th>Quantity Ordered</th>\n",
       "      <th>Price Each</th>\n",
       "      <th>Order Date</th>\n",
       "      <th>Purchase Address</th>\n",
       "    </tr>\n",
       "  </thead>\n",
       "  <tbody>\n",
       "    <tr>\n",
       "      <th>0</th>\n",
       "      <td>295665</td>\n",
       "      <td>Macbook Pro Laptop</td>\n",
       "      <td>1</td>\n",
       "      <td>1700</td>\n",
       "      <td>12/30/19 00:01</td>\n",
       "      <td>136 Church St, New York City, NY 10001</td>\n",
       "    </tr>\n",
       "  </tbody>\n",
       "</table>\n",
       "</div>"
      ],
      "text/plain": [
       "  Order ID             Product Quantity Ordered Price Each      Order Date  \\\n",
       "0   295665  Macbook Pro Laptop                1       1700  12/30/19 00:01   \n",
       "\n",
       "                         Purchase Address  \n",
       "0  136 Church St, New York City, NY 10001  "
      ]
     },
     "execution_count": 38,
     "metadata": {},
     "output_type": "execute_result"
    }
   ],
   "source": [
    "# Condition : respecter toujours les \"\" et les '' comme mentionnées ci-après !!!\n",
    "conn.execute(\n",
    "    \"\"\"SELECT * FROM df \n",
    "    WHERE \"Order ID\" = '295665'\"\"\").df()"
   ]
  },
  {
   "cell_type": "code",
   "execution_count": 51,
   "metadata": {},
   "outputs": [
    {
     "data": {
      "text/plain": [
       "<duckdb.DuckDBPyConnection at 0x228df7a46f0>"
      ]
     },
     "execution_count": 51,
     "metadata": {},
     "output_type": "execute_result"
    }
   ],
   "source": [
    "# Nouvelle table en copiant la table initiale et modifiant les colonnes :\n",
    "# \"NomColonneInitiale\"::type AS NouveauNomColonne,\n",
    "# \"NomColonneInitiale\" AS NouveauNomColonne,\n",
    "conn.execute(\n",
    "    \"\"\"\n",
    "    CREATE OR REPLACE TABLE sales AS\n",
    "        SELECT\n",
    "            \"Order ID\"::INTEGER AS order_id,\n",
    "            \"Product\" AS product,\n",
    "            \"Quantity Ordered\"::INTEGER AS quantity,\n",
    "            \"Price Each\"::DECIMAL AS price_each,\n",
    "            strptime(\"Order Date\", '%m/%d/%Y %H:%M')::DATE as order_date,\n",
    "            \"Purchase Address\" AS purchase_address\n",
    "        FROM df\n",
    "        WHERE\n",
    "            TRY_CAST(\"Order ID\" AS INTEGER) NOTNULL\n",
    "    \"\"\")\n",
    "\n",
    "# La fonction TRY_CAST... permet de supprimer les doublons des en-têtes\n",
    "# qui sont apparus en concaténant tous les fichiers mensuels"
   ]
  },
  {
   "cell_type": "code",
   "execution_count": 54,
   "metadata": {},
   "outputs": [
    {
     "ename": "ConversionException",
     "evalue": "Conversion Error: Could not convert DATE (0019-04-19) to nanoseconds",
     "output_type": "error",
     "traceback": [
      "\u001b[1;31m---------------------------------------------------------------------------\u001b[0m",
      "\u001b[1;31mConversionException\u001b[0m                       Traceback (most recent call last)",
      "Cell \u001b[1;32mIn[54], line 2\u001b[0m\n\u001b[0;32m      1\u001b[0m \u001b[39m# Affichage de la nouvelle DF\u001b[39;00m\n\u001b[1;32m----> 2\u001b[0m conn\u001b[39m.\u001b[39;49mexecute(\u001b[39m\"\u001b[39;49m\u001b[39mFROM sales\u001b[39;49m\u001b[39m\"\u001b[39;49m)\u001b[39m.\u001b[39;49mdf()\n",
      "\u001b[1;31mConversionException\u001b[0m: Conversion Error: Could not convert DATE (0019-04-19) to nanoseconds"
     ]
    }
   ],
   "source": [
    "# Affichage de la nouvelle DF... pb avec la colonne date non résolue\n",
    "conn.execute(\"FROM sales\").df()"
   ]
  },
  {
   "cell_type": "code",
   "execution_count": 55,
   "metadata": {},
   "outputs": [
    {
     "data": {
      "text/html": [
       "<div>\n",
       "<style scoped>\n",
       "    .dataframe tbody tr th:only-of-type {\n",
       "        vertical-align: middle;\n",
       "    }\n",
       "\n",
       "    .dataframe tbody tr th {\n",
       "        vertical-align: top;\n",
       "    }\n",
       "\n",
       "    .dataframe thead th {\n",
       "        text-align: right;\n",
       "    }\n",
       "</style>\n",
       "<table border=\"1\" class=\"dataframe\">\n",
       "  <thead>\n",
       "    <tr style=\"text-align: right;\">\n",
       "      <th></th>\n",
       "      <th>order_id</th>\n",
       "      <th>quantity</th>\n",
       "      <th>price_each</th>\n",
       "    </tr>\n",
       "  </thead>\n",
       "  <tbody>\n",
       "    <tr>\n",
       "      <th>0</th>\n",
       "      <td>176558</td>\n",
       "      <td>2</td>\n",
       "      <td>11.95</td>\n",
       "    </tr>\n",
       "    <tr>\n",
       "      <th>1</th>\n",
       "      <td>176559</td>\n",
       "      <td>1</td>\n",
       "      <td>99.99</td>\n",
       "    </tr>\n",
       "    <tr>\n",
       "      <th>2</th>\n",
       "      <td>176560</td>\n",
       "      <td>1</td>\n",
       "      <td>600.00</td>\n",
       "    </tr>\n",
       "    <tr>\n",
       "      <th>3</th>\n",
       "      <td>176560</td>\n",
       "      <td>1</td>\n",
       "      <td>11.99</td>\n",
       "    </tr>\n",
       "    <tr>\n",
       "      <th>4</th>\n",
       "      <td>176561</td>\n",
       "      <td>1</td>\n",
       "      <td>11.99</td>\n",
       "    </tr>\n",
       "    <tr>\n",
       "      <th>...</th>\n",
       "      <td>...</td>\n",
       "      <td>...</td>\n",
       "      <td>...</td>\n",
       "    </tr>\n",
       "    <tr>\n",
       "      <th>185945</th>\n",
       "      <td>259353</td>\n",
       "      <td>3</td>\n",
       "      <td>2.99</td>\n",
       "    </tr>\n",
       "    <tr>\n",
       "      <th>185946</th>\n",
       "      <td>259354</td>\n",
       "      <td>1</td>\n",
       "      <td>700.00</td>\n",
       "    </tr>\n",
       "    <tr>\n",
       "      <th>185947</th>\n",
       "      <td>259355</td>\n",
       "      <td>1</td>\n",
       "      <td>700.00</td>\n",
       "    </tr>\n",
       "    <tr>\n",
       "      <th>185948</th>\n",
       "      <td>259356</td>\n",
       "      <td>1</td>\n",
       "      <td>379.99</td>\n",
       "    </tr>\n",
       "    <tr>\n",
       "      <th>185949</th>\n",
       "      <td>259357</td>\n",
       "      <td>1</td>\n",
       "      <td>11.95</td>\n",
       "    </tr>\n",
       "  </tbody>\n",
       "</table>\n",
       "<p>185950 rows × 3 columns</p>\n",
       "</div>"
      ],
      "text/plain": [
       "        order_id  quantity  price_each\n",
       "0         176558         2       11.95\n",
       "1         176559         1       99.99\n",
       "2         176560         1      600.00\n",
       "3         176560         1       11.99\n",
       "4         176561         1       11.99\n",
       "...          ...       ...         ...\n",
       "185945    259353         3        2.99\n",
       "185946    259354         1      700.00\n",
       "185947    259355         1      700.00\n",
       "185948    259356         1      379.99\n",
       "185949    259357         1       11.95\n",
       "\n",
       "[185950 rows x 3 columns]"
      ]
     },
     "execution_count": 55,
     "metadata": {},
     "output_type": "execute_result"
    }
   ],
   "source": [
    "# Exclure certaines colonnes à l'affichage\n",
    "conn.execute(\"\"\"\n",
    "\tSELECT \n",
    "\t\t* EXCLUDE (product, order_date, purchase_address)\n",
    "\tFROM sales\n",
    "\t\"\"\").df()"
   ]
  },
  {
   "cell_type": "code",
   "execution_count": 57,
   "metadata": {},
   "outputs": [
    {
     "data": {
      "text/html": [
       "<div>\n",
       "<style scoped>\n",
       "    .dataframe tbody tr th:only-of-type {\n",
       "        vertical-align: middle;\n",
       "    }\n",
       "\n",
       "    .dataframe tbody tr th {\n",
       "        vertical-align: top;\n",
       "    }\n",
       "\n",
       "    .dataframe thead th {\n",
       "        text-align: right;\n",
       "    }\n",
       "</style>\n",
       "<table border=\"1\" class=\"dataframe\">\n",
       "  <thead>\n",
       "    <tr style=\"text-align: right;\">\n",
       "      <th></th>\n",
       "      <th>min(sales.order_id)</th>\n",
       "      <th>min(sales.quantity)</th>\n",
       "      <th>min(sales.price_each)</th>\n",
       "    </tr>\n",
       "  </thead>\n",
       "  <tbody>\n",
       "    <tr>\n",
       "      <th>0</th>\n",
       "      <td>141234</td>\n",
       "      <td>1</td>\n",
       "      <td>2.99</td>\n",
       "    </tr>\n",
       "  </tbody>\n",
       "</table>\n",
       "</div>"
      ],
      "text/plain": [
       "   min(sales.order_id)  min(sales.quantity)  min(sales.price_each)\n",
       "0               141234                    1                   2.99"
      ]
     },
     "execution_count": 57,
     "metadata": {},
     "output_type": "execute_result"
    }
   ],
   "source": [
    "# Affichage de la valeur minimum de certaines colonnes\n",
    "# Pour avoir d'autres conditions : \n",
    "# https://duckdb.org/2022/05/04/friendlier-sql.html\n",
    "conn.execute(\n",
    "    \"\"\"\n",
    "    SELECT\n",
    "        MIN(COLUMNS(* EXCLUDE (product, order_date, purchase_address)))\n",
    "    FROM sales \n",
    "    \"\"\").df()"
   ]
  },
  {
   "cell_type": "code",
   "execution_count": 61,
   "metadata": {},
   "outputs": [
    {
     "data": {
      "text/plain": [
       "<duckdb.DuckDBPyConnection at 0x228df7a46f0>"
      ]
     },
     "execution_count": 61,
     "metadata": {},
     "output_type": "execute_result"
    }
   ],
   "source": [
    "# TCD par la colonne 'order_id' et en modifiant les données des colonnes : \n",
    "# On modifie cette fois-ci les données des colonnes, autres que \n",
    "# par le type et le nom d'en-tête de la colonne, donc on a recours à\n",
    "# l'instruction \"CREATE OR REPLACE VIEW\" au lieu de \"CREATE OR REPLACE TABLE\"\n",
    "conn.execute(\n",
    "    \"\"\"\n",
    "    CREATE OR REPLACE VIEW aggregated_sales AS\n",
    "    SELECT\n",
    "        order_id, \n",
    "        COUNT(1) as nb_orders,\n",
    "        MONTH(order_date) as month,\n",
    "        str_split(purchase_address, ',')[2] AS city,\n",
    "        SUM(quantity * price_each) AS revenue\n",
    "    FROM sales\n",
    "    GROUP BY ALL\n",
    "    \"\"\")"
   ]
  },
  {
   "cell_type": "code",
   "execution_count": 62,
   "metadata": {},
   "outputs": [
    {
     "data": {
      "text/html": [
       "<div>\n",
       "<style scoped>\n",
       "    .dataframe tbody tr th:only-of-type {\n",
       "        vertical-align: middle;\n",
       "    }\n",
       "\n",
       "    .dataframe tbody tr th {\n",
       "        vertical-align: top;\n",
       "    }\n",
       "\n",
       "    .dataframe thead th {\n",
       "        text-align: right;\n",
       "    }\n",
       "</style>\n",
       "<table border=\"1\" class=\"dataframe\">\n",
       "  <thead>\n",
       "    <tr style=\"text-align: right;\">\n",
       "      <th></th>\n",
       "      <th>order_id</th>\n",
       "      <th>nb_orders</th>\n",
       "      <th>month</th>\n",
       "      <th>city</th>\n",
       "      <th>revenue</th>\n",
       "    </tr>\n",
       "  </thead>\n",
       "  <tbody>\n",
       "    <tr>\n",
       "      <th>0</th>\n",
       "      <td>220485</td>\n",
       "      <td>1</td>\n",
       "      <td>6</td>\n",
       "      <td>Los Angeles</td>\n",
       "      <td>14.95</td>\n",
       "    </tr>\n",
       "    <tr>\n",
       "      <th>1</th>\n",
       "      <td>220486</td>\n",
       "      <td>1</td>\n",
       "      <td>6</td>\n",
       "      <td>San Francisco</td>\n",
       "      <td>149.99</td>\n",
       "    </tr>\n",
       "    <tr>\n",
       "      <th>2</th>\n",
       "      <td>220490</td>\n",
       "      <td>1</td>\n",
       "      <td>6</td>\n",
       "      <td>San Francisco</td>\n",
       "      <td>400.00</td>\n",
       "    </tr>\n",
       "    <tr>\n",
       "      <th>3</th>\n",
       "      <td>220495</td>\n",
       "      <td>1</td>\n",
       "      <td>6</td>\n",
       "      <td>San Francisco</td>\n",
       "      <td>999.99</td>\n",
       "    </tr>\n",
       "    <tr>\n",
       "      <th>4</th>\n",
       "      <td>220498</td>\n",
       "      <td>1</td>\n",
       "      <td>6</td>\n",
       "      <td>Boston</td>\n",
       "      <td>11.99</td>\n",
       "    </tr>\n",
       "    <tr>\n",
       "      <th>...</th>\n",
       "      <td>...</td>\n",
       "      <td>...</td>\n",
       "      <td>...</td>\n",
       "      <td>...</td>\n",
       "      <td>...</td>\n",
       "    </tr>\n",
       "    <tr>\n",
       "      <th>178432</th>\n",
       "      <td>233435</td>\n",
       "      <td>1</td>\n",
       "      <td>7</td>\n",
       "      <td>Los Angeles</td>\n",
       "      <td>3.84</td>\n",
       "    </tr>\n",
       "    <tr>\n",
       "      <th>178433</th>\n",
       "      <td>231783</td>\n",
       "      <td>1</td>\n",
       "      <td>7</td>\n",
       "      <td>Los Angeles</td>\n",
       "      <td>300.00</td>\n",
       "    </tr>\n",
       "    <tr>\n",
       "      <th>178434</th>\n",
       "      <td>215117</td>\n",
       "      <td>1</td>\n",
       "      <td>6</td>\n",
       "      <td>San Francisco</td>\n",
       "      <td>11.95</td>\n",
       "    </tr>\n",
       "    <tr>\n",
       "      <th>178435</th>\n",
       "      <td>211058</td>\n",
       "      <td>2</td>\n",
       "      <td>6</td>\n",
       "      <td>Austin</td>\n",
       "      <td>1850.00</td>\n",
       "    </tr>\n",
       "    <tr>\n",
       "      <th>178436</th>\n",
       "      <td>216558</td>\n",
       "      <td>2</td>\n",
       "      <td>6</td>\n",
       "      <td>Los Angeles</td>\n",
       "      <td>405.98</td>\n",
       "    </tr>\n",
       "  </tbody>\n",
       "</table>\n",
       "<p>178437 rows × 5 columns</p>\n",
       "</div>"
      ],
      "text/plain": [
       "        order_id  nb_orders  month            city  revenue\n",
       "0         220485          1      6     Los Angeles    14.95\n",
       "1         220486          1      6   San Francisco   149.99\n",
       "2         220490          1      6   San Francisco   400.00\n",
       "3         220495          1      6   San Francisco   999.99\n",
       "4         220498          1      6          Boston    11.99\n",
       "...          ...        ...    ...             ...      ...\n",
       "178432    233435          1      7     Los Angeles     3.84\n",
       "178433    231783          1      7     Los Angeles   300.00\n",
       "178434    215117          1      6   San Francisco    11.95\n",
       "178435    211058          2      6          Austin  1850.00\n",
       "178436    216558          2      6     Los Angeles   405.98\n",
       "\n",
       "[178437 rows x 5 columns]"
      ]
     },
     "execution_count": 62,
     "metadata": {},
     "output_type": "execute_result"
    }
   ],
   "source": [
    "conn.execute(\"FROM aggregated_sales\").df()"
   ]
  },
  {
   "cell_type": "code",
   "execution_count": 63,
   "metadata": {},
   "outputs": [
    {
     "data": {
      "text/html": [
       "<div>\n",
       "<style scoped>\n",
       "    .dataframe tbody tr th:only-of-type {\n",
       "        vertical-align: middle;\n",
       "    }\n",
       "\n",
       "    .dataframe tbody tr th {\n",
       "        vertical-align: top;\n",
       "    }\n",
       "\n",
       "    .dataframe thead th {\n",
       "        text-align: right;\n",
       "    }\n",
       "</style>\n",
       "<table border=\"1\" class=\"dataframe\">\n",
       "  <thead>\n",
       "    <tr style=\"text-align: right;\">\n",
       "      <th></th>\n",
       "      <th>city</th>\n",
       "      <th>total</th>\n",
       "    </tr>\n",
       "  </thead>\n",
       "  <tbody>\n",
       "    <tr>\n",
       "      <th>0</th>\n",
       "      <td>San Francisco</td>\n",
       "      <td>8262203.91</td>\n",
       "    </tr>\n",
       "    <tr>\n",
       "      <th>1</th>\n",
       "      <td>Los Angeles</td>\n",
       "      <td>5452570.80</td>\n",
       "    </tr>\n",
       "    <tr>\n",
       "      <th>2</th>\n",
       "      <td>New York City</td>\n",
       "      <td>4664317.43</td>\n",
       "    </tr>\n",
       "    <tr>\n",
       "      <th>3</th>\n",
       "      <td>Boston</td>\n",
       "      <td>3661642.01</td>\n",
       "    </tr>\n",
       "    <tr>\n",
       "      <th>4</th>\n",
       "      <td>Atlanta</td>\n",
       "      <td>2795498.58</td>\n",
       "    </tr>\n",
       "    <tr>\n",
       "      <th>5</th>\n",
       "      <td>Dallas</td>\n",
       "      <td>2767975.40</td>\n",
       "    </tr>\n",
       "    <tr>\n",
       "      <th>6</th>\n",
       "      <td>Seattle</td>\n",
       "      <td>2747755.48</td>\n",
       "    </tr>\n",
       "    <tr>\n",
       "      <th>7</th>\n",
       "      <td>Portland</td>\n",
       "      <td>2320490.61</td>\n",
       "    </tr>\n",
       "    <tr>\n",
       "      <th>8</th>\n",
       "      <td>Austin</td>\n",
       "      <td>1819581.75</td>\n",
       "    </tr>\n",
       "  </tbody>\n",
       "</table>\n",
       "</div>"
      ],
      "text/plain": [
       "             city       total\n",
       "0   San Francisco  8262203.91\n",
       "1     Los Angeles  5452570.80\n",
       "2   New York City  4664317.43\n",
       "3          Boston  3661642.01\n",
       "4         Atlanta  2795498.58\n",
       "5          Dallas  2767975.40\n",
       "6         Seattle  2747755.48\n",
       "7        Portland  2320490.61\n",
       "8          Austin  1819581.75"
      ]
     },
     "execution_count": 63,
     "metadata": {},
     "output_type": "execute_result"
    }
   ],
   "source": [
    "# Revenues par ville par ordre décroissant (DESC)\n",
    "conn.execute(\n",
    "    \"\"\"\n",
    "    SELECT\n",
    "        city,\n",
    "        SUM(revenue) as total\n",
    "    FROM aggregated_sales\n",
    "    GROUP BY city\n",
    "    ORDER BY total DESC\n",
    "    \"\"\").df()"
   ]
  },
  {
   "cell_type": "code",
   "execution_count": 70,
   "metadata": {},
   "outputs": [
    {
     "data": {
      "text/plain": [
       "<duckdb.DuckDBPyConnection at 0x228df7a46f0>"
      ]
     },
     "execution_count": 70,
     "metadata": {},
     "output_type": "execute_result"
    }
   ],
   "source": [
    "# Conversion de la DF aggregated_sales en fichier .parquet\n",
    "# conn.execute(\n",
    "#     \"\"\"\n",
    "#     COPY (FROM aggregated_sales) \n",
    "#     TO 'data/Sales/aggregated_sales.parquet' \n",
    "#     (FORMAT 'parquet')\n",
    "#     \"\"\")"
   ]
  },
  {
   "cell_type": "code",
   "execution_count": 71,
   "metadata": {},
   "outputs": [
    {
     "data": {
      "text/html": [
       "<div>\n",
       "<style scoped>\n",
       "    .dataframe tbody tr th:only-of-type {\n",
       "        vertical-align: middle;\n",
       "    }\n",
       "\n",
       "    .dataframe tbody tr th {\n",
       "        vertical-align: top;\n",
       "    }\n",
       "\n",
       "    .dataframe thead th {\n",
       "        text-align: right;\n",
       "    }\n",
       "</style>\n",
       "<table border=\"1\" class=\"dataframe\">\n",
       "  <thead>\n",
       "    <tr style=\"text-align: right;\">\n",
       "      <th></th>\n",
       "      <th>order_id</th>\n",
       "      <th>nb_orders</th>\n",
       "      <th>month</th>\n",
       "      <th>city</th>\n",
       "      <th>revenue</th>\n",
       "    </tr>\n",
       "  </thead>\n",
       "  <tbody>\n",
       "    <tr>\n",
       "      <th>0</th>\n",
       "      <td>220485</td>\n",
       "      <td>1</td>\n",
       "      <td>6</td>\n",
       "      <td>Los Angeles</td>\n",
       "      <td>14.95</td>\n",
       "    </tr>\n",
       "    <tr>\n",
       "      <th>1</th>\n",
       "      <td>220486</td>\n",
       "      <td>1</td>\n",
       "      <td>6</td>\n",
       "      <td>San Francisco</td>\n",
       "      <td>149.99</td>\n",
       "    </tr>\n",
       "    <tr>\n",
       "      <th>2</th>\n",
       "      <td>220490</td>\n",
       "      <td>1</td>\n",
       "      <td>6</td>\n",
       "      <td>San Francisco</td>\n",
       "      <td>400.00</td>\n",
       "    </tr>\n",
       "    <tr>\n",
       "      <th>3</th>\n",
       "      <td>220495</td>\n",
       "      <td>1</td>\n",
       "      <td>6</td>\n",
       "      <td>San Francisco</td>\n",
       "      <td>999.99</td>\n",
       "    </tr>\n",
       "    <tr>\n",
       "      <th>4</th>\n",
       "      <td>220498</td>\n",
       "      <td>1</td>\n",
       "      <td>6</td>\n",
       "      <td>Boston</td>\n",
       "      <td>11.99</td>\n",
       "    </tr>\n",
       "    <tr>\n",
       "      <th>...</th>\n",
       "      <td>...</td>\n",
       "      <td>...</td>\n",
       "      <td>...</td>\n",
       "      <td>...</td>\n",
       "      <td>...</td>\n",
       "    </tr>\n",
       "    <tr>\n",
       "      <th>178432</th>\n",
       "      <td>233435</td>\n",
       "      <td>1</td>\n",
       "      <td>7</td>\n",
       "      <td>Los Angeles</td>\n",
       "      <td>3.84</td>\n",
       "    </tr>\n",
       "    <tr>\n",
       "      <th>178433</th>\n",
       "      <td>231783</td>\n",
       "      <td>1</td>\n",
       "      <td>7</td>\n",
       "      <td>Los Angeles</td>\n",
       "      <td>300.00</td>\n",
       "    </tr>\n",
       "    <tr>\n",
       "      <th>178434</th>\n",
       "      <td>215117</td>\n",
       "      <td>1</td>\n",
       "      <td>6</td>\n",
       "      <td>San Francisco</td>\n",
       "      <td>11.95</td>\n",
       "    </tr>\n",
       "    <tr>\n",
       "      <th>178435</th>\n",
       "      <td>211058</td>\n",
       "      <td>2</td>\n",
       "      <td>6</td>\n",
       "      <td>Austin</td>\n",
       "      <td>1850.00</td>\n",
       "    </tr>\n",
       "    <tr>\n",
       "      <th>178436</th>\n",
       "      <td>216558</td>\n",
       "      <td>2</td>\n",
       "      <td>6</td>\n",
       "      <td>Los Angeles</td>\n",
       "      <td>405.98</td>\n",
       "    </tr>\n",
       "  </tbody>\n",
       "</table>\n",
       "<p>178437 rows × 5 columns</p>\n",
       "</div>"
      ],
      "text/plain": [
       "        order_id  nb_orders  month            city  revenue\n",
       "0         220485          1      6     Los Angeles    14.95\n",
       "1         220486          1      6   San Francisco   149.99\n",
       "2         220490          1      6   San Francisco   400.00\n",
       "3         220495          1      6   San Francisco   999.99\n",
       "4         220498          1      6          Boston    11.99\n",
       "...          ...        ...    ...             ...      ...\n",
       "178432    233435          1      7     Los Angeles     3.84\n",
       "178433    231783          1      7     Los Angeles   300.00\n",
       "178434    215117          1      6   San Francisco    11.95\n",
       "178435    211058          2      6          Austin  1850.00\n",
       "178436    216558          2      6     Los Angeles   405.98\n",
       "\n",
       "[178437 rows x 5 columns]"
      ]
     },
     "execution_count": 71,
     "metadata": {},
     "output_type": "execute_result"
    }
   ],
   "source": [
    "# Récupération du fichier .parquet\n",
    "conn.execute(\n",
    "    \"\"\"\n",
    "    FROM 'data/Sales/aggregated_sales.parquet'\n",
    "    \"\"\").df()"
   ]
  }
 ],
 "metadata": {
  "kernelspec": {
   "display_name": ".env",
   "language": "python",
   "name": "python3"
  },
  "language_info": {
   "codemirror_mode": {
    "name": "ipython",
    "version": 3
   },
   "file_extension": ".py",
   "mimetype": "text/x-python",
   "name": "python",
   "nbconvert_exporter": "python",
   "pygments_lexer": "ipython3",
   "version": "3.9.2"
  },
  "orig_nbformat": 4
 },
 "nbformat": 4,
 "nbformat_minor": 2
}
