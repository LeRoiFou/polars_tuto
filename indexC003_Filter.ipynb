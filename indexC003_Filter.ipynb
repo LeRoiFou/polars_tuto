{
 "cells": [
  {
   "cell_type": "markdown",
   "metadata": {},
   "source": [
    "# Filter()"
   ]
  },
  {
   "cell_type": "code",
   "execution_count": 1,
   "metadata": {},
   "outputs": [],
   "source": [
    "import polars as pl\n",
    "from skimpy import skim"
   ]
  },
  {
   "cell_type": "markdown",
   "metadata": {},
   "source": [
    "## 1er onglet du fichier Filter"
   ]
  },
  {
   "cell_type": "code",
   "execution_count": 2,
   "metadata": {},
   "outputs": [],
   "source": [
    "df = pl.read_excel('data/Filter.xlsx', sheet_name='Feuil1')"
   ]
  },
  {
   "cell_type": "code",
   "execution_count": 3,
   "metadata": {},
   "outputs": [
    {
     "data": {
      "text/html": [
       "<div><style>\n",
       ".dataframe > thead > tr,\n",
       ".dataframe > tbody > tr {\n",
       "  text-align: right;\n",
       "  white-space: pre-wrap;\n",
       "}\n",
       "</style>\n",
       "<small>shape: (5, 3)</small><table border=\"1\" class=\"dataframe\"><thead><tr><th>Département</th><th>Activité</th><th>Ville</th></tr><tr><td>str</td><td>str</td><td>str</td></tr></thead><tbody><tr><td>&quot;06-Alpes Maritimes&quot;</td><td>&quot;Clubs de forme&quot;</td><td>&quot;Antibes juan les pins&quot;</td></tr><tr><td>&quot;06-Alpes Maritimes&quot;</td><td>&quot;Clubs de forme&quot;</td><td>&quot;Antibes juan les pins&quot;</td></tr><tr><td>&quot;06-Alpes Maritimes&quot;</td><td>&quot;Clubs de forme&quot;</td><td>&quot;Antibes juan les pins&quot;</td></tr><tr><td>&quot;06-Alpes Maritimes&quot;</td><td>&quot;Clubs de forme&quot;</td><td>&quot;Mandelieu la napoule&quot;</td></tr><tr><td>&quot;06-Alpes Maritimes&quot;</td><td>&quot;Clubs de forme&quot;</td><td>&quot;Nice&quot;</td></tr></tbody></table></div>"
      ],
      "text/plain": [
       "shape: (5, 3)\n",
       "┌────────────────────┬────────────────┬───────────────────────┐\n",
       "│ Département        ┆ Activité       ┆ Ville                 │\n",
       "│ ---                ┆ ---            ┆ ---                   │\n",
       "│ str                ┆ str            ┆ str                   │\n",
       "╞════════════════════╪════════════════╪═══════════════════════╡\n",
       "│ 06-Alpes Maritimes ┆ Clubs de forme ┆ Antibes juan les pins │\n",
       "│ 06-Alpes Maritimes ┆ Clubs de forme ┆ Antibes juan les pins │\n",
       "│ 06-Alpes Maritimes ┆ Clubs de forme ┆ Antibes juan les pins │\n",
       "│ 06-Alpes Maritimes ┆ Clubs de forme ┆ Mandelieu la napoule  │\n",
       "│ 06-Alpes Maritimes ┆ Clubs de forme ┆ Nice                  │\n",
       "└────────────────────┴────────────────┴───────────────────────┘"
      ]
     },
     "execution_count": 3,
     "metadata": {},
     "output_type": "execute_result"
    }
   ],
   "source": [
    "df.head()"
   ]
  },
  {
   "cell_type": "code",
   "execution_count": 4,
   "metadata": {},
   "outputs": [
    {
     "data": {
      "text/html": [
       "<pre style=\"white-space:pre;overflow-x:auto;line-height:normal;font-family:Menlo,'DejaVu Sans Mono',consolas,'Courier New',monospace\">╭──────────────────────────────────────────────── skimpy summary ─────────────────────────────────────────────────╮\n",
       "│ <span style=\"font-style: italic\">         Data Summary         </span> <span style=\"font-style: italic\">      Data Types       </span>                                                          │\n",
       "│ ┏━━━━━━━━━━━━━━━━━━━┳━━━━━━━━┓ ┏━━━━━━━━━━━━━┳━━━━━━━┓                                                          │\n",
       "│ ┃<span style=\"color: #008080; text-decoration-color: #008080; font-weight: bold\"> Dataframe         </span>┃<span style=\"color: #008080; text-decoration-color: #008080; font-weight: bold\"> Values </span>┃ ┃<span style=\"color: #008080; text-decoration-color: #008080; font-weight: bold\"> Column Type </span>┃<span style=\"color: #008080; text-decoration-color: #008080; font-weight: bold\"> Count </span>┃                                                          │\n",
       "│ ┡━━━━━━━━━━━━━━━━━━━╇━━━━━━━━┩ ┡━━━━━━━━━━━━━╇━━━━━━━┩                                                          │\n",
       "│ │ Number of rows    │ 997    │ │ string      │ 3     │                                                          │\n",
       "│ │ Number of columns │ 3      │ └─────────────┴───────┘                                                          │\n",
       "│ └───────────────────┴────────┘                                                                                  │\n",
       "│ <span style=\"font-style: italic\">                                                    string                                                    </span>  │\n",
       "│ ┏━━━━━━━━━━━┳━━━━┳━━━━━━┳━━━━━━━━━━┳━━━━━━━━━━━┳━━━━━━━━━━━┳━━━━━━━━━━━┳━━━━━━━━━━━━┳━━━━━━━━━━━┳━━━━━━━━━━━━┓  │\n",
       "│ ┃<span style=\"font-weight: bold\">           </span>┃<span style=\"font-weight: bold\">    </span>┃<span style=\"font-weight: bold\">      </span>┃<span style=\"font-weight: bold\">          </span>┃<span style=\"font-weight: bold\">           </span>┃<span style=\"font-weight: bold\">           </span>┃<span style=\"font-weight: bold\">           </span>┃<span style=\"font-weight: bold\"> chars per  </span>┃<span style=\"font-weight: bold\"> words per </span>┃<span style=\"font-weight: bold\"> total      </span>┃  │\n",
       "│ ┃<span style=\"font-weight: bold\"> column    </span>┃<span style=\"font-weight: bold\"> NA </span>┃<span style=\"font-weight: bold\"> NA % </span>┃<span style=\"font-weight: bold\"> shortest </span>┃<span style=\"font-weight: bold\"> longest   </span>┃<span style=\"font-weight: bold\"> min       </span>┃<span style=\"font-weight: bold\"> max       </span>┃<span style=\"font-weight: bold\"> row        </span>┃<span style=\"font-weight: bold\"> row       </span>┃<span style=\"font-weight: bold\"> words      </span>┃  │\n",
       "│ ┡━━━━━━━━━━━╇━━━━╇━━━━━━╇━━━━━━━━━━╇━━━━━━━━━━━╇━━━━━━━━━━━╇━━━━━━━━━━━╇━━━━━━━━━━━━╇━━━━━━━━━━━╇━━━━━━━━━━━━┩  │\n",
       "│ │ <span style=\"color: #af87ff; text-decoration-color: #af87ff\">Départeme</span> │ <span style=\"color: #008080; text-decoration-color: #008080\"> 0</span> │ <span style=\"color: #008080; text-decoration-color: #008080\">   0</span> │ <span style=\"color: #af87ff; text-decoration-color: #af87ff\">83-Var  </span> │ <span style=\"color: #af87ff; text-decoration-color: #af87ff\">17-Charen</span> │ <span style=\"color: #af87ff; text-decoration-color: #af87ff\">06-Alpes </span> │ <span style=\"color: #af87ff; text-decoration-color: #af87ff\">87-Haute </span> │ <span style=\"color: #008080; text-decoration-color: #008080\">      9.15</span> │ <span style=\"color: #008080; text-decoration-color: #008080\">      1.1</span> │ <span style=\"color: #008080; text-decoration-color: #008080\">      1141</span> │  │\n",
       "│ │ <span style=\"color: #af87ff; text-decoration-color: #af87ff\">nt       </span> │    │      │          │ <span style=\"color: #af87ff; text-decoration-color: #af87ff\">te       </span> │ <span style=\"color: #af87ff; text-decoration-color: #af87ff\">Maritimes</span> │ <span style=\"color: #af87ff; text-decoration-color: #af87ff\">Vienne   </span> │            │           │            │  │\n",
       "│ │           │    │      │          │ <span style=\"color: #af87ff; text-decoration-color: #af87ff\">Maritime </span> │           │           │            │           │            │  │\n",
       "│ │ <span style=\"color: #af87ff; text-decoration-color: #af87ff\">Activité </span> │ <span style=\"color: #008080; text-decoration-color: #008080\"> 0</span> │ <span style=\"color: #008080; text-decoration-color: #008080\">   0</span> │ <span style=\"color: #af87ff; text-decoration-color: #af87ff\">Golf    </span> │ <span style=\"color: #af87ff; text-decoration-color: #af87ff\">Centres  </span> │ <span style=\"color: #af87ff; text-decoration-color: #af87ff\">Bar/Café </span> │ <span style=\"color: #af87ff; text-decoration-color: #af87ff\">parc     </span> │ <span style=\"color: #008080; text-decoration-color: #008080\">      12.2</span> │ <span style=\"color: #008080; text-decoration-color: #008080\">      1.3</span> │ <span style=\"color: #008080; text-decoration-color: #008080\">      1299</span> │  │\n",
       "│ │           │    │      │          │ <span style=\"color: #af87ff; text-decoration-color: #af87ff\">equestres</span> │           │ <span style=\"color: #af87ff; text-decoration-color: #af87ff\">d'attract</span> │            │           │            │  │\n",
       "│ │           │    │      │          │ <span style=\"color: #af87ff; text-decoration-color: #af87ff\">,        </span> │           │ <span style=\"color: #af87ff; text-decoration-color: #af87ff\">ion      </span> │            │           │            │  │\n",
       "│ │           │    │      │          │ <span style=\"color: #af87ff; text-decoration-color: #af87ff\">equitatio</span> │           │           │            │           │            │  │\n",
       "│ │           │    │      │          │ <span style=\"color: #af87ff; text-decoration-color: #af87ff\">n        </span> │           │           │            │           │            │  │\n",
       "│ │ <span style=\"color: #af87ff; text-decoration-color: #af87ff\">Ville    </span> │ <span style=\"color: #008080; text-decoration-color: #008080\"> 0</span> │ <span style=\"color: #008080; text-decoration-color: #008080\">   0</span> │ <span style=\"color: #af87ff; text-decoration-color: #af87ff\">Nice    </span> │ <span style=\"color: #af87ff; text-decoration-color: #af87ff\">Saint    </span> │ <span style=\"color: #af87ff; text-decoration-color: #af87ff\">Agay     </span> │ <span style=\"color: #af87ff; text-decoration-color: #af87ff\">Voreppe  </span> │ <span style=\"color: #008080; text-decoration-color: #008080\">      10.9</span> │ <span style=\"color: #008080; text-decoration-color: #008080\">      1.8</span> │ <span style=\"color: #008080; text-decoration-color: #008080\">      1800</span> │  │\n",
       "│ │           │    │      │          │ <span style=\"color: #af87ff; text-decoration-color: #af87ff\">maximin  </span> │           │           │            │           │            │  │\n",
       "│ │           │    │      │          │ <span style=\"color: #af87ff; text-decoration-color: #af87ff\">la sainte</span> │           │           │            │           │            │  │\n",
       "│ │           │    │      │          │ <span style=\"color: #af87ff; text-decoration-color: #af87ff\">baume    </span> │           │           │            │           │            │  │\n",
       "│ └───────────┴────┴──────┴──────────┴───────────┴───────────┴───────────┴────────────┴───────────┴────────────┘  │\n",
       "╰────────────────────────────────────────────────────── End ──────────────────────────────────────────────────────╯\n",
       "</pre>\n"
      ],
      "text/plain": [
       "╭──────────────────────────────────────────────── skimpy summary ─────────────────────────────────────────────────╮\n",
       "│ \u001b[3m         Data Summary         \u001b[0m \u001b[3m      Data Types       \u001b[0m                                                          │\n",
       "│ ┏━━━━━━━━━━━━━━━━━━━┳━━━━━━━━┓ ┏━━━━━━━━━━━━━┳━━━━━━━┓                                                          │\n",
       "│ ┃\u001b[1;36m \u001b[0m\u001b[1;36mDataframe        \u001b[0m\u001b[1;36m \u001b[0m┃\u001b[1;36m \u001b[0m\u001b[1;36mValues\u001b[0m\u001b[1;36m \u001b[0m┃ ┃\u001b[1;36m \u001b[0m\u001b[1;36mColumn Type\u001b[0m\u001b[1;36m \u001b[0m┃\u001b[1;36m \u001b[0m\u001b[1;36mCount\u001b[0m\u001b[1;36m \u001b[0m┃                                                          │\n",
       "│ ┡━━━━━━━━━━━━━━━━━━━╇━━━━━━━━┩ ┡━━━━━━━━━━━━━╇━━━━━━━┩                                                          │\n",
       "│ │ Number of rows    │ 997    │ │ string      │ 3     │                                                          │\n",
       "│ │ Number of columns │ 3      │ └─────────────┴───────┘                                                          │\n",
       "│ └───────────────────┴────────┘                                                                                  │\n",
       "│ \u001b[3m                                                    string                                                    \u001b[0m  │\n",
       "│ ┏━━━━━━━━━━━┳━━━━┳━━━━━━┳━━━━━━━━━━┳━━━━━━━━━━━┳━━━━━━━━━━━┳━━━━━━━━━━━┳━━━━━━━━━━━━┳━━━━━━━━━━━┳━━━━━━━━━━━━┓  │\n",
       "│ ┃\u001b[1m           \u001b[0m┃\u001b[1m    \u001b[0m┃\u001b[1m      \u001b[0m┃\u001b[1m          \u001b[0m┃\u001b[1m           \u001b[0m┃\u001b[1m           \u001b[0m┃\u001b[1m           \u001b[0m┃\u001b[1m \u001b[0m\u001b[1mchars per \u001b[0m\u001b[1m \u001b[0m┃\u001b[1m \u001b[0m\u001b[1mwords per\u001b[0m\u001b[1m \u001b[0m┃\u001b[1m \u001b[0m\u001b[1mtotal     \u001b[0m\u001b[1m \u001b[0m┃  │\n",
       "│ ┃\u001b[1m \u001b[0m\u001b[1mcolumn   \u001b[0m\u001b[1m \u001b[0m┃\u001b[1m \u001b[0m\u001b[1mNA\u001b[0m\u001b[1m \u001b[0m┃\u001b[1m \u001b[0m\u001b[1mNA %\u001b[0m\u001b[1m \u001b[0m┃\u001b[1m \u001b[0m\u001b[1mshortest\u001b[0m\u001b[1m \u001b[0m┃\u001b[1m \u001b[0m\u001b[1mlongest  \u001b[0m\u001b[1m \u001b[0m┃\u001b[1m \u001b[0m\u001b[1mmin      \u001b[0m\u001b[1m \u001b[0m┃\u001b[1m \u001b[0m\u001b[1mmax      \u001b[0m\u001b[1m \u001b[0m┃\u001b[1m \u001b[0m\u001b[1mrow       \u001b[0m\u001b[1m \u001b[0m┃\u001b[1m \u001b[0m\u001b[1mrow      \u001b[0m\u001b[1m \u001b[0m┃\u001b[1m \u001b[0m\u001b[1mwords     \u001b[0m\u001b[1m \u001b[0m┃  │\n",
       "│ ┡━━━━━━━━━━━╇━━━━╇━━━━━━╇━━━━━━━━━━╇━━━━━━━━━━━╇━━━━━━━━━━━╇━━━━━━━━━━━╇━━━━━━━━━━━━╇━━━━━━━━━━━╇━━━━━━━━━━━━┩  │\n",
       "│ │ \u001b[38;5;141mDéparteme\u001b[0m │ \u001b[36m 0\u001b[0m │ \u001b[36m   0\u001b[0m │ \u001b[38;5;141m83-Var  \u001b[0m │ \u001b[38;5;141m17-Charen\u001b[0m │ \u001b[38;5;141m06-Alpes \u001b[0m │ \u001b[38;5;141m87-Haute \u001b[0m │ \u001b[36m      9.15\u001b[0m │ \u001b[36m      1.1\u001b[0m │ \u001b[36m      1141\u001b[0m │  │\n",
       "│ │ \u001b[38;5;141mnt       \u001b[0m │    │      │          │ \u001b[38;5;141mte       \u001b[0m │ \u001b[38;5;141mMaritimes\u001b[0m │ \u001b[38;5;141mVienne   \u001b[0m │            │           │            │  │\n",
       "│ │           │    │      │          │ \u001b[38;5;141mMaritime \u001b[0m │           │           │            │           │            │  │\n",
       "│ │ \u001b[38;5;141mActivité \u001b[0m │ \u001b[36m 0\u001b[0m │ \u001b[36m   0\u001b[0m │ \u001b[38;5;141mGolf    \u001b[0m │ \u001b[38;5;141mCentres  \u001b[0m │ \u001b[38;5;141mBar/Café \u001b[0m │ \u001b[38;5;141mparc     \u001b[0m │ \u001b[36m      12.2\u001b[0m │ \u001b[36m      1.3\u001b[0m │ \u001b[36m      1299\u001b[0m │  │\n",
       "│ │           │    │      │          │ \u001b[38;5;141mequestres\u001b[0m │           │ \u001b[38;5;141md'attract\u001b[0m │            │           │            │  │\n",
       "│ │           │    │      │          │ \u001b[38;5;141m,        \u001b[0m │           │ \u001b[38;5;141mion      \u001b[0m │            │           │            │  │\n",
       "│ │           │    │      │          │ \u001b[38;5;141mequitatio\u001b[0m │           │           │            │           │            │  │\n",
       "│ │           │    │      │          │ \u001b[38;5;141mn        \u001b[0m │           │           │            │           │            │  │\n",
       "│ │ \u001b[38;5;141mVille    \u001b[0m │ \u001b[36m 0\u001b[0m │ \u001b[36m   0\u001b[0m │ \u001b[38;5;141mNice    \u001b[0m │ \u001b[38;5;141mSaint    \u001b[0m │ \u001b[38;5;141mAgay     \u001b[0m │ \u001b[38;5;141mVoreppe  \u001b[0m │ \u001b[36m      10.9\u001b[0m │ \u001b[36m      1.8\u001b[0m │ \u001b[36m      1800\u001b[0m │  │\n",
       "│ │           │    │      │          │ \u001b[38;5;141mmaximin  \u001b[0m │           │           │            │           │            │  │\n",
       "│ │           │    │      │          │ \u001b[38;5;141mla sainte\u001b[0m │           │           │            │           │            │  │\n",
       "│ │           │    │      │          │ \u001b[38;5;141mbaume    \u001b[0m │           │           │            │           │            │  │\n",
       "│ └───────────┴────┴──────┴──────────┴───────────┴───────────┴───────────┴────────────┴───────────┴────────────┘  │\n",
       "╰────────────────────────────────────────────────────── End ──────────────────────────────────────────────────────╯\n"
      ]
     },
     "metadata": {},
     "output_type": "display_data"
    }
   ],
   "source": [
    "skim(df)"
   ]
  },
  {
   "cell_type": "markdown",
   "metadata": {},
   "source": [
    "### Nombre de villes par département avec group_by()"
   ]
  },
  {
   "cell_type": "code",
   "execution_count": 5,
   "metadata": {},
   "outputs": [
    {
     "data": {
      "text/html": [
       "<div><style>\n",
       ".dataframe > thead > tr,\n",
       ".dataframe > tbody > tr {\n",
       "  text-align: right;\n",
       "  white-space: pre-wrap;\n",
       "}\n",
       "</style>\n",
       "<small>shape: (20, 2)</small><table border=\"1\" class=\"dataframe\"><thead><tr><th>Département</th><th>Ville</th></tr><tr><td>str</td><td>u32</td></tr></thead><tbody><tr><td>&quot;83-Var&quot;</td><td>190</td></tr><tr><td>&quot;69-Rhone&quot;</td><td>167</td></tr><tr><td>&quot;07-Ardèche&quot;</td><td>142</td></tr><tr><td>&quot;38-Isère&quot;</td><td>142</td></tr><tr><td>&quot;26-Drome&quot;</td><td>134</td></tr><tr><td>&hellip;</td><td>&hellip;</td></tr><tr><td>&quot;55-Meuse&quot;</td><td>1</td></tr><tr><td>&quot;33-Gironde&quot;</td><td>1</td></tr><tr><td>&quot;85-Vendée&quot;</td><td>1</td></tr><tr><td>&quot;87-Haute Vienne&quot;</td><td>1</td></tr><tr><td>&quot;75-Paris&quot;</td><td>1</td></tr></tbody></table></div>"
      ],
      "text/plain": [
       "shape: (20, 2)\n",
       "┌─────────────────┬───────┐\n",
       "│ Département     ┆ Ville │\n",
       "│ ---             ┆ ---   │\n",
       "│ str             ┆ u32   │\n",
       "╞═════════════════╪═══════╡\n",
       "│ 83-Var          ┆ 190   │\n",
       "│ 69-Rhone        ┆ 167   │\n",
       "│ 07-Ardèche      ┆ 142   │\n",
       "│ 38-Isère        ┆ 142   │\n",
       "│ 26-Drome        ┆ 134   │\n",
       "│ …               ┆ …     │\n",
       "│ 55-Meuse        ┆ 1     │\n",
       "│ 33-Gironde      ┆ 1     │\n",
       "│ 85-Vendée       ┆ 1     │\n",
       "│ 87-Haute Vienne ┆ 1     │\n",
       "│ 75-Paris        ┆ 1     │\n",
       "└─────────────────┴───────┘"
      ]
     },
     "execution_count": 5,
     "metadata": {},
     "output_type": "execute_result"
    }
   ],
   "source": [
    "dv = (df.group_by(\"Département\")\n",
    "      .agg(pl.col(\"Ville\").count().alias(\"Ville\"))\n",
    "      .sort(\"Ville\", descending=True)\n",
    ")\n",
    "dv"
   ]
  },
  {
   "cell_type": "markdown",
   "metadata": {},
   "source": [
    "### Liste des départements comportant au moins 25 villes avec filter()"
   ]
  },
  {
   "cell_type": "code",
   "execution_count": 6,
   "metadata": {},
   "outputs": [],
   "source": [
    "numbers = 25"
   ]
  },
  {
   "cell_type": "code",
   "execution_count": 7,
   "metadata": {},
   "outputs": [
    {
     "data": {
      "text/html": [
       "<div><style>\n",
       ".dataframe > thead > tr,\n",
       ".dataframe > tbody > tr {\n",
       "  text-align: right;\n",
       "  white-space: pre-wrap;\n",
       "}\n",
       "</style>\n",
       "<small>shape: (9, 2)</small><table border=\"1\" class=\"dataframe\"><thead><tr><th>Département</th><th>Ville</th></tr><tr><td>str</td><td>u32</td></tr></thead><tbody><tr><td>&quot;83-Var&quot;</td><td>190</td></tr><tr><td>&quot;69-Rhone&quot;</td><td>167</td></tr><tr><td>&quot;07-Ardèche&quot;</td><td>142</td></tr><tr><td>&quot;38-Isère&quot;</td><td>142</td></tr><tr><td>&quot;26-Drome&quot;</td><td>134</td></tr><tr><td>&quot;84-Vaucluse&quot;</td><td>63</td></tr><tr><td>&quot;06-Alpes Maritimes&quot;</td><td>56</td></tr><tr><td>&quot;13-Bouches du Rhone&quot;</td><td>38</td></tr><tr><td>&quot;42-Loire&quot;</td><td>28</td></tr></tbody></table></div>"
      ],
      "text/plain": [
       "shape: (9, 2)\n",
       "┌─────────────────────┬───────┐\n",
       "│ Département         ┆ Ville │\n",
       "│ ---                 ┆ ---   │\n",
       "│ str                 ┆ u32   │\n",
       "╞═════════════════════╪═══════╡\n",
       "│ 83-Var              ┆ 190   │\n",
       "│ 69-Rhone            ┆ 167   │\n",
       "│ 07-Ardèche          ┆ 142   │\n",
       "│ 38-Isère            ┆ 142   │\n",
       "│ 26-Drome            ┆ 134   │\n",
       "│ 84-Vaucluse         ┆ 63    │\n",
       "│ 06-Alpes Maritimes  ┆ 56    │\n",
       "│ 13-Bouches du Rhone ┆ 38    │\n",
       "│ 42-Loire            ┆ 28    │\n",
       "└─────────────────────┴───────┘"
      ]
     },
     "execution_count": 7,
     "metadata": {},
     "output_type": "execute_result"
    }
   ],
   "source": [
    "dv.filter(pl.col('Ville') >= 25)"
   ]
  },
  {
   "cell_type": "markdown",
   "metadata": {},
   "source": [
    "### Nombre d'activités recencées dans chaque ville en affichant également les départements avec group_by()"
   ]
  },
  {
   "cell_type": "code",
   "execution_count": 9,
   "metadata": {},
   "outputs": [
    {
     "name": "stderr",
     "output_type": "stream",
     "text": [
      "C:\\Users\\LRCOM\\AppData\\Local\\Temp\\ipykernel_4972\\882406997.py:3: DeprecationWarning: `pl.count()` is deprecated. Please use `pl.len()` instead.\n",
      "  .agg(pl.count().alias(\"counts\"))\n"
     ]
    },
    {
     "data": {
      "text/html": [
       "<div><style>\n",
       ".dataframe > thead > tr,\n",
       ".dataframe > tbody > tr {\n",
       "  text-align: right;\n",
       "  white-space: pre-wrap;\n",
       "}\n",
       "</style>\n",
       "<small>shape: (405, 3)</small><table border=\"1\" class=\"dataframe\"><thead><tr><th>Département</th><th>Ville</th><th>counts</th></tr><tr><td>str</td><td>str</td><td>u32</td></tr></thead><tbody><tr><td>&quot;38-Isère&quot;</td><td>&quot;Grenoble&quot;</td><td>31</td></tr><tr><td>&quot;26-Drome&quot;</td><td>&quot;Valence&quot;</td><td>28</td></tr><tr><td>&quot;07-Ardèche&quot;</td><td>&quot;Aubenas&quot;</td><td>21</td></tr><tr><td>&quot;07-Ardèche&quot;</td><td>&quot;Annonay&quot;</td><td>19</td></tr><tr><td>&quot;69-Rhone&quot;</td><td>&quot;Lyon 5eme&quot;</td><td>18</td></tr><tr><td>&hellip;</td><td>&hellip;</td><td>&hellip;</td></tr><tr><td>&quot;38-Isère&quot;</td><td>&quot;La mure&quot;</td><td>1</td></tr><tr><td>&quot;83-Var&quot;</td><td>&quot;La cadiere d&#x27;azur&quot;</td><td>1</td></tr><tr><td>&quot;26-Drome&quot;</td><td>&quot;Epinouze&quot;</td><td>1</td></tr><tr><td>&quot;26-Drome&quot;</td><td>&quot;Dieulefit&quot;</td><td>1</td></tr><tr><td>&quot;38-Isère&quot;</td><td>&quot;Crolles&quot;</td><td>1</td></tr></tbody></table></div>"
      ],
      "text/plain": [
       "shape: (405, 3)\n",
       "┌─────────────┬───────────────────┬────────┐\n",
       "│ Département ┆ Ville             ┆ counts │\n",
       "│ ---         ┆ ---               ┆ ---    │\n",
       "│ str         ┆ str               ┆ u32    │\n",
       "╞═════════════╪═══════════════════╪════════╡\n",
       "│ 38-Isère    ┆ Grenoble          ┆ 31     │\n",
       "│ 26-Drome    ┆ Valence           ┆ 28     │\n",
       "│ 07-Ardèche  ┆ Aubenas           ┆ 21     │\n",
       "│ 07-Ardèche  ┆ Annonay           ┆ 19     │\n",
       "│ 69-Rhone    ┆ Lyon 5eme         ┆ 18     │\n",
       "│ …           ┆ …                 ┆ …      │\n",
       "│ 38-Isère    ┆ La mure           ┆ 1      │\n",
       "│ 83-Var      ┆ La cadiere d'azur ┆ 1      │\n",
       "│ 26-Drome    ┆ Epinouze          ┆ 1      │\n",
       "│ 26-Drome    ┆ Dieulefit         ┆ 1      │\n",
       "│ 38-Isère    ┆ Crolles           ┆ 1      │\n",
       "└─────────────┴───────────────────┴────────┘"
      ]
     },
     "execution_count": 9,
     "metadata": {},
     "output_type": "execute_result"
    }
   ],
   "source": [
    "synth = (\n",
    "    df.group_by([\"Département\", \"Ville\"])\n",
    "    .agg(pl.count().alias(\"counts\"))\n",
    "    .sort(\"counts\", descending=True)\n",
    ")\n",
    "synth"
   ]
  },
  {
   "cell_type": "markdown",
   "metadata": {},
   "source": [
    "### Nombre de villes recensant un nombre d'activité d'au moins de 10 avec filter()"
   ]
  },
  {
   "cell_type": "code",
   "execution_count": 10,
   "metadata": {},
   "outputs": [],
   "source": [
    "numbers = 10"
   ]
  },
  {
   "cell_type": "code",
   "execution_count": 11,
   "metadata": {},
   "outputs": [
    {
     "data": {
      "text/html": [
       "<div><style>\n",
       ".dataframe > thead > tr,\n",
       ".dataframe > tbody > tr {\n",
       "  text-align: right;\n",
       "  white-space: pre-wrap;\n",
       "}\n",
       "</style>\n",
       "<small>shape: (21, 3)</small><table border=\"1\" class=\"dataframe\"><thead><tr><th>Département</th><th>Ville</th><th>counts</th></tr><tr><td>str</td><td>str</td><td>u32</td></tr></thead><tbody><tr><td>&quot;38-Isère&quot;</td><td>&quot;Grenoble&quot;</td><td>31</td></tr><tr><td>&quot;26-Drome&quot;</td><td>&quot;Valence&quot;</td><td>28</td></tr><tr><td>&quot;07-Ardèche&quot;</td><td>&quot;Aubenas&quot;</td><td>21</td></tr><tr><td>&quot;07-Ardèche&quot;</td><td>&quot;Annonay&quot;</td><td>19</td></tr><tr><td>&quot;69-Rhone&quot;</td><td>&quot;Lyon 5eme&quot;</td><td>18</td></tr><tr><td>&hellip;</td><td>&hellip;</td><td>&hellip;</td></tr><tr><td>&quot;83-Var&quot;</td><td>&quot;Saint raphael&quot;</td><td>12</td></tr><tr><td>&quot;69-Rhone&quot;</td><td>&quot;Saint priest&quot;</td><td>12</td></tr><tr><td>&quot;83-Var&quot;</td><td>&quot;Les arcs&quot;</td><td>11</td></tr><tr><td>&quot;83-Var&quot;</td><td>&quot;Toulon&quot;</td><td>11</td></tr><tr><td>&quot;83-Var&quot;</td><td>&quot;Frejus&quot;</td><td>10</td></tr></tbody></table></div>"
      ],
      "text/plain": [
       "shape: (21, 3)\n",
       "┌─────────────┬───────────────┬────────┐\n",
       "│ Département ┆ Ville         ┆ counts │\n",
       "│ ---         ┆ ---           ┆ ---    │\n",
       "│ str         ┆ str           ┆ u32    │\n",
       "╞═════════════╪═══════════════╪════════╡\n",
       "│ 38-Isère    ┆ Grenoble      ┆ 31     │\n",
       "│ 26-Drome    ┆ Valence       ┆ 28     │\n",
       "│ 07-Ardèche  ┆ Aubenas       ┆ 21     │\n",
       "│ 07-Ardèche  ┆ Annonay       ┆ 19     │\n",
       "│ 69-Rhone    ┆ Lyon 5eme     ┆ 18     │\n",
       "│ …           ┆ …             ┆ …      │\n",
       "│ 83-Var      ┆ Saint raphael ┆ 12     │\n",
       "│ 69-Rhone    ┆ Saint priest  ┆ 12     │\n",
       "│ 83-Var      ┆ Les arcs      ┆ 11     │\n",
       "│ 83-Var      ┆ Toulon        ┆ 11     │\n",
       "│ 83-Var      ┆ Frejus        ┆ 10     │\n",
       "└─────────────┴───────────────┴────────┘"
      ]
     },
     "execution_count": 11,
     "metadata": {},
     "output_type": "execute_result"
    }
   ],
   "source": [
    "synth.filter(pl.col('counts') >= 10)"
   ]
  },
  {
   "cell_type": "markdown",
   "metadata": {},
   "source": [
    "## 2ème onglet du fichier Excel Filter"
   ]
  },
  {
   "cell_type": "code",
   "execution_count": 12,
   "metadata": {},
   "outputs": [],
   "source": [
    "df2 = pl.read_excel('data/Filter.xlsx', sheet_name='Feuil2')"
   ]
  },
  {
   "cell_type": "code",
   "execution_count": 14,
   "metadata": {},
   "outputs": [
    {
     "data": {
      "text/html": [
       "<div><style>\n",
       ".dataframe > thead > tr,\n",
       ".dataframe > tbody > tr {\n",
       "  text-align: right;\n",
       "  white-space: pre-wrap;\n",
       "}\n",
       "</style>\n",
       "<small>shape: (5, 4)</small><table border=\"1\" class=\"dataframe\"><thead><tr><th>Article</th><th>Taille</th><th>Couleur</th><th>Prix</th></tr><tr><td>str</td><td>str</td><td>str</td><td>i64</td></tr></thead><tbody><tr><td>&quot;T-Shirt&quot;</td><td>&quot;L&quot;</td><td>&quot;Rouge&quot;</td><td>35</td></tr><tr><td>&quot;T-Shirt&quot;</td><td>&quot;M&quot;</td><td>&quot;Rouge&quot;</td><td>32</td></tr><tr><td>&quot;T-Shirt&quot;</td><td>&quot;S&quot;</td><td>&quot;Bleu&quot;</td><td>29</td></tr><tr><td>&quot;Chemise&quot;</td><td>&quot;L&quot;</td><td>&quot;Noir&quot;</td><td>48</td></tr><tr><td>&quot;Polo&quot;</td><td>&quot;M&quot;</td><td>&quot;Vert&quot;</td><td>31</td></tr></tbody></table></div>"
      ],
      "text/plain": [
       "shape: (5, 4)\n",
       "┌─────────┬────────┬─────────┬──────┐\n",
       "│ Article ┆ Taille ┆ Couleur ┆ Prix │\n",
       "│ ---     ┆ ---    ┆ ---     ┆ ---  │\n",
       "│ str     ┆ str    ┆ str     ┆ i64  │\n",
       "╞═════════╪════════╪═════════╪══════╡\n",
       "│ T-Shirt ┆ L      ┆ Rouge   ┆ 35   │\n",
       "│ T-Shirt ┆ M      ┆ Rouge   ┆ 32   │\n",
       "│ T-Shirt ┆ S      ┆ Bleu    ┆ 29   │\n",
       "│ Chemise ┆ L      ┆ Noir    ┆ 48   │\n",
       "│ Polo    ┆ M      ┆ Vert    ┆ 31   │\n",
       "└─────────┴────────┴─────────┴──────┘"
      ]
     },
     "execution_count": 14,
     "metadata": {},
     "output_type": "execute_result"
    }
   ],
   "source": [
    "df2.head()"
   ]
  },
  {
   "cell_type": "code",
   "execution_count": 15,
   "metadata": {},
   "outputs": [
    {
     "data": {
      "text/html": [
       "<pre style=\"white-space:pre;overflow-x:auto;line-height:normal;font-family:Menlo,'DejaVu Sans Mono',consolas,'Courier New',monospace\">╭──────────────────────────────────────────────── skimpy summary ─────────────────────────────────────────────────╮\n",
       "│ <span style=\"font-style: italic\">         Data Summary         </span> <span style=\"font-style: italic\">      Data Types       </span>                                                          │\n",
       "│ ┏━━━━━━━━━━━━━━━━━━━┳━━━━━━━━┓ ┏━━━━━━━━━━━━━┳━━━━━━━┓                                                          │\n",
       "│ ┃<span style=\"color: #008080; text-decoration-color: #008080; font-weight: bold\"> Dataframe         </span>┃<span style=\"color: #008080; text-decoration-color: #008080; font-weight: bold\"> Values </span>┃ ┃<span style=\"color: #008080; text-decoration-color: #008080; font-weight: bold\"> Column Type </span>┃<span style=\"color: #008080; text-decoration-color: #008080; font-weight: bold\"> Count </span>┃                                                          │\n",
       "│ ┡━━━━━━━━━━━━━━━━━━━╇━━━━━━━━┩ ┡━━━━━━━━━━━━━╇━━━━━━━┩                                                          │\n",
       "│ │ Number of rows    │ 13     │ │ string      │ 3     │                                                          │\n",
       "│ │ Number of columns │ 4      │ │ int64       │ 1     │                                                          │\n",
       "│ └───────────────────┴────────┘ └─────────────┴───────┘                                                          │\n",
       "│ <span style=\"font-style: italic\">                                                    number                                                    </span>  │\n",
       "│ ┏━━━━━━━━━━━━━┳━━━━━━┳━━━━━━━━━┳━━━━━━━━━━━┳━━━━━━━━━━━┳━━━━━━┳━━━━━━━━┳━━━━━━━━┳━━━━━━━┳━━━━━━━━━┳━━━━━━━━━━┓  │\n",
       "│ ┃<span style=\"font-weight: bold\"> column      </span>┃<span style=\"font-weight: bold\"> NA   </span>┃<span style=\"font-weight: bold\"> NA %    </span>┃<span style=\"font-weight: bold\"> mean      </span>┃<span style=\"font-weight: bold\"> sd        </span>┃<span style=\"font-weight: bold\"> p0   </span>┃<span style=\"font-weight: bold\"> p25    </span>┃<span style=\"font-weight: bold\"> p50    </span>┃<span style=\"font-weight: bold\"> p75   </span>┃<span style=\"font-weight: bold\"> p100    </span>┃<span style=\"font-weight: bold\"> hist     </span>┃  │\n",
       "│ ┡━━━━━━━━━━━━━╇━━━━━━╇━━━━━━━━━╇━━━━━━━━━━━╇━━━━━━━━━━━╇━━━━━━╇━━━━━━━━╇━━━━━━━━╇━━━━━━━╇━━━━━━━━━╇━━━━━━━━━━┩  │\n",
       "│ │ <span style=\"color: #af87ff; text-decoration-color: #af87ff\">Prix       </span> │ <span style=\"color: #008080; text-decoration-color: #008080\">   0</span> │ <span style=\"color: #008080; text-decoration-color: #008080\">      0</span> │ <span style=\"color: #008080; text-decoration-color: #008080\">    33.69</span> │ <span style=\"color: #008080; text-decoration-color: #008080\">    8.807</span> │ <span style=\"color: #008080; text-decoration-color: #008080\">  15</span> │ <span style=\"color: #008080; text-decoration-color: #008080\">    30</span> │ <span style=\"color: #008080; text-decoration-color: #008080\">    33</span> │ <span style=\"color: #008080; text-decoration-color: #008080\">   36</span> │ <span style=\"color: #008080; text-decoration-color: #008080\">     49</span> │ <span style=\"color: #008000; text-decoration-color: #008000\"> ▂▂▅▇▂▃ </span> │  │\n",
       "│ └─────────────┴──────┴─────────┴───────────┴───────────┴──────┴────────┴────────┴───────┴─────────┴──────────┘  │\n",
       "│ <span style=\"font-style: italic\">                                                    string                                                    </span>  │\n",
       "│ ┏━━━━━━━━━┳━━━━┳━━━━━━┳━━━━━━━━━━┳━━━━━━━━━┳━━━━━━━━━┳━━━━━━━━━┳━━━━━━━━━━━━━━━┳━━━━━━━━━━━━━━━┳━━━━━━━━━━━━━┓  │\n",
       "│ ┃<span style=\"font-weight: bold\"> column  </span>┃<span style=\"font-weight: bold\"> NA </span>┃<span style=\"font-weight: bold\"> NA % </span>┃<span style=\"font-weight: bold\"> shortest </span>┃<span style=\"font-weight: bold\"> longest </span>┃<span style=\"font-weight: bold\"> min     </span>┃<span style=\"font-weight: bold\"> max     </span>┃<span style=\"font-weight: bold\"> chars per row </span>┃<span style=\"font-weight: bold\"> words per row </span>┃<span style=\"font-weight: bold\"> total words </span>┃  │\n",
       "│ ┡━━━━━━━━━╇━━━━╇━━━━━━╇━━━━━━━━━━╇━━━━━━━━━╇━━━━━━━━━╇━━━━━━━━━╇━━━━━━━━━━━━━━━╇━━━━━━━━━━━━━━━╇━━━━━━━━━━━━━┩  │\n",
       "│ │ <span style=\"color: #af87ff; text-decoration-color: #af87ff\">Article</span> │ <span style=\"color: #008080; text-decoration-color: #008080\"> 0</span> │ <span style=\"color: #008080; text-decoration-color: #008080\">   0</span> │ <span style=\"color: #af87ff; text-decoration-color: #af87ff\">Polo    </span> │ <span style=\"color: #af87ff; text-decoration-color: #af87ff\">T-Shirt</span> │ <span style=\"color: #af87ff; text-decoration-color: #af87ff\">Chemise</span> │ <span style=\"color: #af87ff; text-decoration-color: #af87ff\">T-Shirt</span> │ <span style=\"color: #008080; text-decoration-color: #008080\">         6.08</span> │ <span style=\"color: #008080; text-decoration-color: #008080\">            1</span> │ <span style=\"color: #008080; text-decoration-color: #008080\">         13</span> │  │\n",
       "│ │ <span style=\"color: #af87ff; text-decoration-color: #af87ff\">Taille </span> │ <span style=\"color: #008080; text-decoration-color: #008080\"> 0</span> │ <span style=\"color: #008080; text-decoration-color: #008080\">   0</span> │ <span style=\"color: #af87ff; text-decoration-color: #af87ff\">L       </span> │ <span style=\"color: #af87ff; text-decoration-color: #af87ff\">L      </span> │ <span style=\"color: #af87ff; text-decoration-color: #af87ff\">L      </span> │ <span style=\"color: #af87ff; text-decoration-color: #af87ff\">S      </span> │ <span style=\"color: #008080; text-decoration-color: #008080\">            1</span> │ <span style=\"color: #008080; text-decoration-color: #008080\">            1</span> │ <span style=\"color: #008080; text-decoration-color: #008080\">         13</span> │  │\n",
       "│ │ <span style=\"color: #af87ff; text-decoration-color: #af87ff\">Couleur</span> │ <span style=\"color: #008080; text-decoration-color: #008080\"> 0</span> │ <span style=\"color: #008080; text-decoration-color: #008080\">   0</span> │ <span style=\"color: #af87ff; text-decoration-color: #af87ff\">Bleu    </span> │ <span style=\"color: #af87ff; text-decoration-color: #af87ff\">Orange </span> │ <span style=\"color: #af87ff; text-decoration-color: #af87ff\">Bleu   </span> │ <span style=\"color: #af87ff; text-decoration-color: #af87ff\">Vert   </span> │ <span style=\"color: #008080; text-decoration-color: #008080\">         4.54</span> │ <span style=\"color: #008080; text-decoration-color: #008080\">            1</span> │ <span style=\"color: #008080; text-decoration-color: #008080\">         13</span> │  │\n",
       "│ └─────────┴────┴──────┴──────────┴─────────┴─────────┴─────────┴───────────────┴───────────────┴─────────────┘  │\n",
       "╰────────────────────────────────────────────────────── End ──────────────────────────────────────────────────────╯\n",
       "</pre>\n"
      ],
      "text/plain": [
       "╭──────────────────────────────────────────────── skimpy summary ─────────────────────────────────────────────────╮\n",
       "│ \u001b[3m         Data Summary         \u001b[0m \u001b[3m      Data Types       \u001b[0m                                                          │\n",
       "│ ┏━━━━━━━━━━━━━━━━━━━┳━━━━━━━━┓ ┏━━━━━━━━━━━━━┳━━━━━━━┓                                                          │\n",
       "│ ┃\u001b[1;36m \u001b[0m\u001b[1;36mDataframe        \u001b[0m\u001b[1;36m \u001b[0m┃\u001b[1;36m \u001b[0m\u001b[1;36mValues\u001b[0m\u001b[1;36m \u001b[0m┃ ┃\u001b[1;36m \u001b[0m\u001b[1;36mColumn Type\u001b[0m\u001b[1;36m \u001b[0m┃\u001b[1;36m \u001b[0m\u001b[1;36mCount\u001b[0m\u001b[1;36m \u001b[0m┃                                                          │\n",
       "│ ┡━━━━━━━━━━━━━━━━━━━╇━━━━━━━━┩ ┡━━━━━━━━━━━━━╇━━━━━━━┩                                                          │\n",
       "│ │ Number of rows    │ 13     │ │ string      │ 3     │                                                          │\n",
       "│ │ Number of columns │ 4      │ │ int64       │ 1     │                                                          │\n",
       "│ └───────────────────┴────────┘ └─────────────┴───────┘                                                          │\n",
       "│ \u001b[3m                                                    number                                                    \u001b[0m  │\n",
       "│ ┏━━━━━━━━━━━━━┳━━━━━━┳━━━━━━━━━┳━━━━━━━━━━━┳━━━━━━━━━━━┳━━━━━━┳━━━━━━━━┳━━━━━━━━┳━━━━━━━┳━━━━━━━━━┳━━━━━━━━━━┓  │\n",
       "│ ┃\u001b[1m \u001b[0m\u001b[1mcolumn     \u001b[0m\u001b[1m \u001b[0m┃\u001b[1m \u001b[0m\u001b[1mNA  \u001b[0m\u001b[1m \u001b[0m┃\u001b[1m \u001b[0m\u001b[1mNA %   \u001b[0m\u001b[1m \u001b[0m┃\u001b[1m \u001b[0m\u001b[1mmean     \u001b[0m\u001b[1m \u001b[0m┃\u001b[1m \u001b[0m\u001b[1msd       \u001b[0m\u001b[1m \u001b[0m┃\u001b[1m \u001b[0m\u001b[1mp0  \u001b[0m\u001b[1m \u001b[0m┃\u001b[1m \u001b[0m\u001b[1mp25   \u001b[0m\u001b[1m \u001b[0m┃\u001b[1m \u001b[0m\u001b[1mp50   \u001b[0m\u001b[1m \u001b[0m┃\u001b[1m \u001b[0m\u001b[1mp75  \u001b[0m\u001b[1m \u001b[0m┃\u001b[1m \u001b[0m\u001b[1mp100   \u001b[0m\u001b[1m \u001b[0m┃\u001b[1m \u001b[0m\u001b[1mhist    \u001b[0m\u001b[1m \u001b[0m┃  │\n",
       "│ ┡━━━━━━━━━━━━━╇━━━━━━╇━━━━━━━━━╇━━━━━━━━━━━╇━━━━━━━━━━━╇━━━━━━╇━━━━━━━━╇━━━━━━━━╇━━━━━━━╇━━━━━━━━━╇━━━━━━━━━━┩  │\n",
       "│ │ \u001b[38;5;141mPrix       \u001b[0m │ \u001b[36m   0\u001b[0m │ \u001b[36m      0\u001b[0m │ \u001b[36m    33.69\u001b[0m │ \u001b[36m    8.807\u001b[0m │ \u001b[36m  15\u001b[0m │ \u001b[36m    30\u001b[0m │ \u001b[36m    33\u001b[0m │ \u001b[36m   36\u001b[0m │ \u001b[36m     49\u001b[0m │ \u001b[32m ▂▂▅▇▂▃ \u001b[0m │  │\n",
       "│ └─────────────┴──────┴─────────┴───────────┴───────────┴──────┴────────┴────────┴───────┴─────────┴──────────┘  │\n",
       "│ \u001b[3m                                                    string                                                    \u001b[0m  │\n",
       "│ ┏━━━━━━━━━┳━━━━┳━━━━━━┳━━━━━━━━━━┳━━━━━━━━━┳━━━━━━━━━┳━━━━━━━━━┳━━━━━━━━━━━━━━━┳━━━━━━━━━━━━━━━┳━━━━━━━━━━━━━┓  │\n",
       "│ ┃\u001b[1m \u001b[0m\u001b[1mcolumn \u001b[0m\u001b[1m \u001b[0m┃\u001b[1m \u001b[0m\u001b[1mNA\u001b[0m\u001b[1m \u001b[0m┃\u001b[1m \u001b[0m\u001b[1mNA %\u001b[0m\u001b[1m \u001b[0m┃\u001b[1m \u001b[0m\u001b[1mshortest\u001b[0m\u001b[1m \u001b[0m┃\u001b[1m \u001b[0m\u001b[1mlongest\u001b[0m\u001b[1m \u001b[0m┃\u001b[1m \u001b[0m\u001b[1mmin    \u001b[0m\u001b[1m \u001b[0m┃\u001b[1m \u001b[0m\u001b[1mmax    \u001b[0m\u001b[1m \u001b[0m┃\u001b[1m \u001b[0m\u001b[1mchars per row\u001b[0m\u001b[1m \u001b[0m┃\u001b[1m \u001b[0m\u001b[1mwords per row\u001b[0m\u001b[1m \u001b[0m┃\u001b[1m \u001b[0m\u001b[1mtotal words\u001b[0m\u001b[1m \u001b[0m┃  │\n",
       "│ ┡━━━━━━━━━╇━━━━╇━━━━━━╇━━━━━━━━━━╇━━━━━━━━━╇━━━━━━━━━╇━━━━━━━━━╇━━━━━━━━━━━━━━━╇━━━━━━━━━━━━━━━╇━━━━━━━━━━━━━┩  │\n",
       "│ │ \u001b[38;5;141mArticle\u001b[0m │ \u001b[36m 0\u001b[0m │ \u001b[36m   0\u001b[0m │ \u001b[38;5;141mPolo    \u001b[0m │ \u001b[38;5;141mT-Shirt\u001b[0m │ \u001b[38;5;141mChemise\u001b[0m │ \u001b[38;5;141mT-Shirt\u001b[0m │ \u001b[36m         6.08\u001b[0m │ \u001b[36m            1\u001b[0m │ \u001b[36m         13\u001b[0m │  │\n",
       "│ │ \u001b[38;5;141mTaille \u001b[0m │ \u001b[36m 0\u001b[0m │ \u001b[36m   0\u001b[0m │ \u001b[38;5;141mL       \u001b[0m │ \u001b[38;5;141mL      \u001b[0m │ \u001b[38;5;141mL      \u001b[0m │ \u001b[38;5;141mS      \u001b[0m │ \u001b[36m            1\u001b[0m │ \u001b[36m            1\u001b[0m │ \u001b[36m         13\u001b[0m │  │\n",
       "│ │ \u001b[38;5;141mCouleur\u001b[0m │ \u001b[36m 0\u001b[0m │ \u001b[36m   0\u001b[0m │ \u001b[38;5;141mBleu    \u001b[0m │ \u001b[38;5;141mOrange \u001b[0m │ \u001b[38;5;141mBleu   \u001b[0m │ \u001b[38;5;141mVert   \u001b[0m │ \u001b[36m         4.54\u001b[0m │ \u001b[36m            1\u001b[0m │ \u001b[36m         13\u001b[0m │  │\n",
       "│ └─────────┴────┴──────┴──────────┴─────────┴─────────┴─────────┴───────────────┴───────────────┴─────────────┘  │\n",
       "╰────────────────────────────────────────────────────── End ──────────────────────────────────────────────────────╯\n"
      ]
     },
     "metadata": {},
     "output_type": "display_data"
    }
   ],
   "source": [
    "skim(df2)"
   ]
  },
  {
   "cell_type": "markdown",
   "metadata": {},
   "source": [
    "### Critères à assigner : prix, taille 1 et taille 2"
   ]
  },
  {
   "cell_type": "code",
   "execution_count": 16,
   "metadata": {},
   "outputs": [],
   "source": [
    "crit1 = 35\n",
    "crit2 = 'S'\n",
    "crit3 = 'M'"
   ]
  },
  {
   "cell_type": "markdown",
   "metadata": {},
   "source": [
    "### Affichage des articles avec les critères ci-avant avec des prix <="
   ]
  },
  {
   "cell_type": "code",
   "execution_count": 18,
   "metadata": {},
   "outputs": [
    {
     "data": {
      "text/html": [
       "<div><style>\n",
       ".dataframe > thead > tr,\n",
       ".dataframe > tbody > tr {\n",
       "  text-align: right;\n",
       "  white-space: pre-wrap;\n",
       "}\n",
       "</style>\n",
       "<small>shape: (5, 4)</small><table border=\"1\" class=\"dataframe\"><thead><tr><th>Article</th><th>Taille</th><th>Couleur</th><th>Prix</th></tr><tr><td>str</td><td>str</td><td>str</td><td>i64</td></tr></thead><tbody><tr><td>&quot;Polo&quot;</td><td>&quot;S&quot;</td><td>&quot;Noir&quot;</td><td>26</td></tr><tr><td>&quot;T-Shirt&quot;</td><td>&quot;S&quot;</td><td>&quot;Bleu&quot;</td><td>29</td></tr><tr><td>&quot;T-Shirt&quot;</td><td>&quot;M&quot;</td><td>&quot;Vert&quot;</td><td>30</td></tr><tr><td>&quot;Polo&quot;</td><td>&quot;M&quot;</td><td>&quot;Vert&quot;</td><td>31</td></tr><tr><td>&quot;T-Shirt&quot;</td><td>&quot;M&quot;</td><td>&quot;Rouge&quot;</td><td>32</td></tr></tbody></table></div>"
      ],
      "text/plain": [
       "shape: (5, 4)\n",
       "┌─────────┬────────┬─────────┬──────┐\n",
       "│ Article ┆ Taille ┆ Couleur ┆ Prix │\n",
       "│ ---     ┆ ---    ┆ ---     ┆ ---  │\n",
       "│ str     ┆ str    ┆ str     ┆ i64  │\n",
       "╞═════════╪════════╪═════════╪══════╡\n",
       "│ Polo    ┆ S      ┆ Noir    ┆ 26   │\n",
       "│ T-Shirt ┆ S      ┆ Bleu    ┆ 29   │\n",
       "│ T-Shirt ┆ M      ┆ Vert    ┆ 30   │\n",
       "│ Polo    ┆ M      ┆ Vert    ┆ 31   │\n",
       "│ T-Shirt ┆ M      ┆ Rouge   ┆ 32   │\n",
       "└─────────┴────────┴─────────┴──────┘"
      ]
     },
     "execution_count": 18,
     "metadata": {},
     "output_type": "execute_result"
    }
   ],
   "source": [
    "df2.filter((pl.col('Prix') <= crit1) &\n",
    "           (\n",
    "               (pl.col('Taille').str.contains(crit2)) |\n",
    "               (pl.col('Taille').str.contains(crit3))\n",
    "               )).sort(by='Prix', descending=False)"
   ]
  }
 ],
 "metadata": {
  "kernelspec": {
   "display_name": "Python 3",
   "language": "python",
   "name": "python3"
  },
  "language_info": {
   "codemirror_mode": {
    "name": "ipython",
    "version": 3
   },
   "file_extension": ".py",
   "mimetype": "text/x-python",
   "name": "python",
   "nbconvert_exporter": "python",
   "pygments_lexer": "ipython3",
   "version": "3.12.5"
  }
 },
 "nbformat": 4,
 "nbformat_minor": 2
}
