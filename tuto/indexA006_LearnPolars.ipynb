{
 "cells": [
  {
   "cell_type": "markdown",
   "metadata": {},
   "source": [
    "[How to Learn the Polars DataFrame Library!](https://www.youtube.com/watch?v=OTVDmA6CRlQ&list=WL&index=1)\n",
    "\n",
    "[Documentation polars](https://docs.pola.rs/)\n",
    "\n",
    "---\n",
    "\n",
    "[Guetting started with Polars (in code)](https://youtu.be/OTVDmA6CRlQ?t=986)\n",
    "\n",
    "[Getting starded](https://docs.pola.rs/user-guide/getting-started/#reading-writing)\n",
    "\n",
    "Date 26/08/24"
   ]
  },
  {
   "cell_type": "code",
   "execution_count": 1,
   "metadata": {},
   "outputs": [],
   "source": [
    "# %pip install polars"
   ]
  },
  {
   "cell_type": "code",
   "execution_count": 1,
   "metadata": {},
   "outputs": [],
   "source": [
    "import polars as pl"
   ]
  },
  {
   "cell_type": "code",
   "execution_count": 2,
   "metadata": {},
   "outputs": [
    {
     "data": {
      "text/html": [
       "<div><style>\n",
       ".dataframe > thead > tr,\n",
       ".dataframe > tbody > tr {\n",
       "  text-align: right;\n",
       "  white-space: pre-wrap;\n",
       "}\n",
       "</style>\n",
       "<small>shape: (3, 4)</small><table border=\"1\" class=\"dataframe\"><thead><tr><th>integer</th><th>date</th><th>float</th><th>string</th></tr><tr><td>i64</td><td>datetime[μs]</td><td>f64</td><td>str</td></tr></thead><tbody><tr><td>1</td><td>2025-01-01 00:00:00</td><td>4.0</td><td>&quot;a&quot;</td></tr><tr><td>2</td><td>2025-01-02 00:00:00</td><td>5.0</td><td>&quot;b&quot;</td></tr><tr><td>3</td><td>2025-01-03 00:00:00</td><td>6.0</td><td>&quot;c&quot;</td></tr></tbody></table></div>"
      ],
      "text/plain": [
       "shape: (3, 4)\n",
       "┌─────────┬─────────────────────┬───────┬────────┐\n",
       "│ integer ┆ date                ┆ float ┆ string │\n",
       "│ ---     ┆ ---                 ┆ ---   ┆ ---    │\n",
       "│ i64     ┆ datetime[μs]        ┆ f64   ┆ str    │\n",
       "╞═════════╪═════════════════════╪═══════╪════════╡\n",
       "│ 1       ┆ 2025-01-01 00:00:00 ┆ 4.0   ┆ a      │\n",
       "│ 2       ┆ 2025-01-02 00:00:00 ┆ 5.0   ┆ b      │\n",
       "│ 3       ┆ 2025-01-03 00:00:00 ┆ 6.0   ┆ c      │\n",
       "└─────────┴─────────────────────┴───────┴────────┘"
      ]
     },
     "execution_count": 2,
     "metadata": {},
     "output_type": "execute_result"
    }
   ],
   "source": [
    "from datetime import datetime\n",
    "\n",
    "# Création d'une DF\n",
    "df = pl.DataFrame(\n",
    "    {\n",
    "        \"integer\": [1, 2, 3],\n",
    "        \"date\": [\n",
    "            datetime(2025, 1, 1),\n",
    "            datetime(2025, 1, 2),\n",
    "            datetime(2025, 1, 3),\n",
    "        ],\n",
    "        \"float\": [4.0, 5.0, 6.0],\n",
    "        \"string\": [\"a\", \"b\", \"c\"],\n",
    "    }\n",
    ")\n",
    "\n",
    "df"
   ]
  },
  {
   "cell_type": "code",
   "execution_count": 3,
   "metadata": {},
   "outputs": [],
   "source": [
    "# Conversion de la DF ci-avant en fichier .csv\n",
    "df.write_csv(\"data/output.csv\")"
   ]
  },
  {
   "cell_type": "code",
   "execution_count": 4,
   "metadata": {},
   "outputs": [
    {
     "name": "stdout",
     "output_type": "stream",
     "text": [
      "shape: (3, 4)\n",
      "┌─────────┬────────────────────────────┬───────┬────────┐\n",
      "│ integer ┆ date                       ┆ float ┆ string │\n",
      "│ ---     ┆ ---                        ┆ ---   ┆ ---    │\n",
      "│ i64     ┆ str                        ┆ f64   ┆ str    │\n",
      "╞═════════╪════════════════════════════╪═══════╪════════╡\n",
      "│ 1       ┆ 2025-01-01T00:00:00.000000 ┆ 4.0   ┆ a      │\n",
      "│ 2       ┆ 2025-01-02T00:00:00.000000 ┆ 5.0   ┆ b      │\n",
      "│ 3       ┆ 2025-01-03T00:00:00.000000 ┆ 6.0   ┆ c      │\n",
      "└─────────┴────────────────────────────┴───────┴────────┘\n"
     ]
    }
   ],
   "source": [
    "# Conversion du fichier .csv en DF\n",
    "df_csv = pl.read_csv(\"data/output.csv\")\n",
    "print(df_csv)"
   ]
  },
  {
   "cell_type": "code",
   "execution_count": 2,
   "metadata": {},
   "outputs": [],
   "source": [
    "# Chargement d'un fichier .csv converti en DF\n",
    "pokemon = pl.read_csv('data/pokemon_data.csv')"
   ]
  },
  {
   "cell_type": "code",
   "execution_count": 10,
   "metadata": {},
   "outputs": [
    {
     "data": {
      "text/html": [
       "<div><style>\n",
       ".dataframe > thead > tr,\n",
       ".dataframe > tbody > tr {\n",
       "  text-align: right;\n",
       "  white-space: pre-wrap;\n",
       "}\n",
       "</style>\n",
       "<small>shape: (5, 12)</small><table border=\"1\" class=\"dataframe\"><thead><tr><th>#</th><th>Name</th><th>Type 1</th><th>Type 2</th><th>HP</th><th>Attack</th><th>Defense</th><th>Sp. Atk</th><th>Sp. Def</th><th>Speed</th><th>Generation</th><th>Legendary</th></tr><tr><td>i64</td><td>str</td><td>str</td><td>str</td><td>i64</td><td>i64</td><td>i64</td><td>i64</td><td>i64</td><td>i64</td><td>i64</td><td>bool</td></tr></thead><tbody><tr><td>1</td><td>&quot;Bulbasaur&quot;</td><td>&quot;Grass&quot;</td><td>&quot;Poison&quot;</td><td>45</td><td>49</td><td>49</td><td>65</td><td>65</td><td>45</td><td>1</td><td>false</td></tr><tr><td>2</td><td>&quot;Ivysaur&quot;</td><td>&quot;Grass&quot;</td><td>&quot;Poison&quot;</td><td>60</td><td>62</td><td>63</td><td>80</td><td>80</td><td>60</td><td>1</td><td>false</td></tr><tr><td>3</td><td>&quot;Venusaur&quot;</td><td>&quot;Grass&quot;</td><td>&quot;Poison&quot;</td><td>80</td><td>82</td><td>83</td><td>100</td><td>100</td><td>80</td><td>1</td><td>false</td></tr><tr><td>3</td><td>&quot;VenusaurMega Venusaur&quot;</td><td>&quot;Grass&quot;</td><td>&quot;Poison&quot;</td><td>80</td><td>100</td><td>123</td><td>122</td><td>120</td><td>80</td><td>1</td><td>false</td></tr><tr><td>4</td><td>&quot;Charmander&quot;</td><td>&quot;Fire&quot;</td><td>null</td><td>39</td><td>52</td><td>43</td><td>60</td><td>50</td><td>65</td><td>1</td><td>false</td></tr></tbody></table></div>"
      ],
      "text/plain": [
       "shape: (5, 12)\n",
       "┌─────┬───────────────────────┬────────┬────────┬───┬─────────┬───────┬────────────┬───────────┐\n",
       "│ #   ┆ Name                  ┆ Type 1 ┆ Type 2 ┆ … ┆ Sp. Def ┆ Speed ┆ Generation ┆ Legendary │\n",
       "│ --- ┆ ---                   ┆ ---    ┆ ---    ┆   ┆ ---     ┆ ---   ┆ ---        ┆ ---       │\n",
       "│ i64 ┆ str                   ┆ str    ┆ str    ┆   ┆ i64     ┆ i64   ┆ i64        ┆ bool      │\n",
       "╞═════╪═══════════════════════╪════════╪════════╪═══╪═════════╪═══════╪════════════╪═══════════╡\n",
       "│ 1   ┆ Bulbasaur             ┆ Grass  ┆ Poison ┆ … ┆ 65      ┆ 45    ┆ 1          ┆ false     │\n",
       "│ 2   ┆ Ivysaur               ┆ Grass  ┆ Poison ┆ … ┆ 80      ┆ 60    ┆ 1          ┆ false     │\n",
       "│ 3   ┆ Venusaur              ┆ Grass  ┆ Poison ┆ … ┆ 100     ┆ 80    ┆ 1          ┆ false     │\n",
       "│ 3   ┆ VenusaurMega Venusaur ┆ Grass  ┆ Poison ┆ … ┆ 120     ┆ 80    ┆ 1          ┆ false     │\n",
       "│ 4   ┆ Charmander            ┆ Fire   ┆ null   ┆ … ┆ 50      ┆ 65    ┆ 1          ┆ false     │\n",
       "└─────┴───────────────────────┴────────┴────────┴───┴─────────┴───────┴────────────┴───────────┘"
      ]
     },
     "execution_count": 10,
     "metadata": {},
     "output_type": "execute_result"
    }
   ],
   "source": [
    "# Affichage des 5 premières lignes\n",
    "pokemon.head()"
   ]
  },
  {
   "cell_type": "code",
   "execution_count": 12,
   "metadata": {},
   "outputs": [
    {
     "data": {
      "text/html": [
       "<div><style>\n",
       ".dataframe > thead > tr,\n",
       ".dataframe > tbody > tr {\n",
       "  text-align: right;\n",
       "  white-space: pre-wrap;\n",
       "}\n",
       "</style>\n",
       "<small>shape: (800, 12)</small><table border=\"1\" class=\"dataframe\"><thead><tr><th>#</th><th>Name</th><th>Type 1</th><th>Type 2</th><th>HP</th><th>Attack</th><th>Defense</th><th>Sp. Atk</th><th>Sp. Def</th><th>Speed</th><th>Generation</th><th>Legendary</th></tr><tr><td>i64</td><td>str</td><td>str</td><td>str</td><td>i64</td><td>i64</td><td>i64</td><td>i64</td><td>i64</td><td>i64</td><td>i64</td><td>bool</td></tr></thead><tbody><tr><td>1</td><td>&quot;Bulbasaur&quot;</td><td>&quot;Grass&quot;</td><td>&quot;Poison&quot;</td><td>45</td><td>49</td><td>49</td><td>65</td><td>65</td><td>45</td><td>1</td><td>false</td></tr><tr><td>2</td><td>&quot;Ivysaur&quot;</td><td>&quot;Grass&quot;</td><td>&quot;Poison&quot;</td><td>60</td><td>62</td><td>63</td><td>80</td><td>80</td><td>60</td><td>1</td><td>false</td></tr><tr><td>3</td><td>&quot;Venusaur&quot;</td><td>&quot;Grass&quot;</td><td>&quot;Poison&quot;</td><td>80</td><td>82</td><td>83</td><td>100</td><td>100</td><td>80</td><td>1</td><td>false</td></tr><tr><td>3</td><td>&quot;VenusaurMega Venusaur&quot;</td><td>&quot;Grass&quot;</td><td>&quot;Poison&quot;</td><td>80</td><td>100</td><td>123</td><td>122</td><td>120</td><td>80</td><td>1</td><td>false</td></tr><tr><td>4</td><td>&quot;Charmander&quot;</td><td>&quot;Fire&quot;</td><td>null</td><td>39</td><td>52</td><td>43</td><td>60</td><td>50</td><td>65</td><td>1</td><td>false</td></tr><tr><td>&hellip;</td><td>&hellip;</td><td>&hellip;</td><td>&hellip;</td><td>&hellip;</td><td>&hellip;</td><td>&hellip;</td><td>&hellip;</td><td>&hellip;</td><td>&hellip;</td><td>&hellip;</td><td>&hellip;</td></tr><tr><td>719</td><td>&quot;Diancie&quot;</td><td>&quot;Rock&quot;</td><td>&quot;Fairy&quot;</td><td>50</td><td>100</td><td>150</td><td>100</td><td>150</td><td>50</td><td>6</td><td>true</td></tr><tr><td>719</td><td>&quot;DiancieMega Diancie&quot;</td><td>&quot;Rock&quot;</td><td>&quot;Fairy&quot;</td><td>50</td><td>160</td><td>110</td><td>160</td><td>110</td><td>110</td><td>6</td><td>true</td></tr><tr><td>720</td><td>&quot;HoopaHoopa Confined&quot;</td><td>&quot;Psychic&quot;</td><td>&quot;Ghost&quot;</td><td>80</td><td>110</td><td>60</td><td>150</td><td>130</td><td>70</td><td>6</td><td>true</td></tr><tr><td>720</td><td>&quot;HoopaHoopa Unbound&quot;</td><td>&quot;Psychic&quot;</td><td>&quot;Dark&quot;</td><td>80</td><td>160</td><td>60</td><td>170</td><td>130</td><td>80</td><td>6</td><td>true</td></tr><tr><td>721</td><td>&quot;Volcanion&quot;</td><td>&quot;Fire&quot;</td><td>&quot;Water&quot;</td><td>80</td><td>110</td><td>120</td><td>130</td><td>90</td><td>70</td><td>6</td><td>true</td></tr></tbody></table></div>"
      ],
      "text/plain": [
       "shape: (800, 12)\n",
       "┌─────┬───────────────────────┬─────────┬────────┬───┬─────────┬───────┬────────────┬───────────┐\n",
       "│ #   ┆ Name                  ┆ Type 1  ┆ Type 2 ┆ … ┆ Sp. Def ┆ Speed ┆ Generation ┆ Legendary │\n",
       "│ --- ┆ ---                   ┆ ---     ┆ ---    ┆   ┆ ---     ┆ ---   ┆ ---        ┆ ---       │\n",
       "│ i64 ┆ str                   ┆ str     ┆ str    ┆   ┆ i64     ┆ i64   ┆ i64        ┆ bool      │\n",
       "╞═════╪═══════════════════════╪═════════╪════════╪═══╪═════════╪═══════╪════════════╪═══════════╡\n",
       "│ 1   ┆ Bulbasaur             ┆ Grass   ┆ Poison ┆ … ┆ 65      ┆ 45    ┆ 1          ┆ false     │\n",
       "│ 2   ┆ Ivysaur               ┆ Grass   ┆ Poison ┆ … ┆ 80      ┆ 60    ┆ 1          ┆ false     │\n",
       "│ 3   ┆ Venusaur              ┆ Grass   ┆ Poison ┆ … ┆ 100     ┆ 80    ┆ 1          ┆ false     │\n",
       "│ 3   ┆ VenusaurMega Venusaur ┆ Grass   ┆ Poison ┆ … ┆ 120     ┆ 80    ┆ 1          ┆ false     │\n",
       "│ 4   ┆ Charmander            ┆ Fire    ┆ null   ┆ … ┆ 50      ┆ 65    ┆ 1          ┆ false     │\n",
       "│ …   ┆ …                     ┆ …       ┆ …      ┆ … ┆ …       ┆ …     ┆ …          ┆ …         │\n",
       "│ 719 ┆ Diancie               ┆ Rock    ┆ Fairy  ┆ … ┆ 150     ┆ 50    ┆ 6          ┆ true      │\n",
       "│ 719 ┆ DiancieMega Diancie   ┆ Rock    ┆ Fairy  ┆ … ┆ 110     ┆ 110   ┆ 6          ┆ true      │\n",
       "│ 720 ┆ HoopaHoopa Confined   ┆ Psychic ┆ Ghost  ┆ … ┆ 130     ┆ 70    ┆ 6          ┆ true      │\n",
       "│ 720 ┆ HoopaHoopa Unbound    ┆ Psychic ┆ Dark   ┆ … ┆ 130     ┆ 80    ┆ 6          ┆ true      │\n",
       "│ 721 ┆ Volcanion             ┆ Fire    ┆ Water  ┆ … ┆ 90      ┆ 70    ┆ 6          ┆ true      │\n",
       "└─────┴───────────────────────┴─────────┴────────┴───┴─────────┴───────┴────────────┴───────────┘"
      ]
     },
     "execution_count": 12,
     "metadata": {},
     "output_type": "execute_result"
    }
   ],
   "source": [
    "# Sélection de champs : tous les champs\n",
    "pokemon.select(pl.col('*'))"
   ]
  },
  {
   "cell_type": "code",
   "execution_count": 14,
   "metadata": {},
   "outputs": [
    {
     "data": {
      "text/html": [
       "<div><style>\n",
       ".dataframe > thead > tr,\n",
       ".dataframe > tbody > tr {\n",
       "  text-align: right;\n",
       "  white-space: pre-wrap;\n",
       "}\n",
       "</style>\n",
       "<small>shape: (800, 2)</small><table border=\"1\" class=\"dataframe\"><thead><tr><th>Name</th><th>Type 1</th></tr><tr><td>str</td><td>str</td></tr></thead><tbody><tr><td>&quot;Bulbasaur&quot;</td><td>&quot;Grass&quot;</td></tr><tr><td>&quot;Ivysaur&quot;</td><td>&quot;Grass&quot;</td></tr><tr><td>&quot;Venusaur&quot;</td><td>&quot;Grass&quot;</td></tr><tr><td>&quot;VenusaurMega Venusaur&quot;</td><td>&quot;Grass&quot;</td></tr><tr><td>&quot;Charmander&quot;</td><td>&quot;Fire&quot;</td></tr><tr><td>&hellip;</td><td>&hellip;</td></tr><tr><td>&quot;Diancie&quot;</td><td>&quot;Rock&quot;</td></tr><tr><td>&quot;DiancieMega Diancie&quot;</td><td>&quot;Rock&quot;</td></tr><tr><td>&quot;HoopaHoopa Confined&quot;</td><td>&quot;Psychic&quot;</td></tr><tr><td>&quot;HoopaHoopa Unbound&quot;</td><td>&quot;Psychic&quot;</td></tr><tr><td>&quot;Volcanion&quot;</td><td>&quot;Fire&quot;</td></tr></tbody></table></div>"
      ],
      "text/plain": [
       "shape: (800, 2)\n",
       "┌───────────────────────┬─────────┐\n",
       "│ Name                  ┆ Type 1  │\n",
       "│ ---                   ┆ ---     │\n",
       "│ str                   ┆ str     │\n",
       "╞═══════════════════════╪═════════╡\n",
       "│ Bulbasaur             ┆ Grass   │\n",
       "│ Ivysaur               ┆ Grass   │\n",
       "│ Venusaur              ┆ Grass   │\n",
       "│ VenusaurMega Venusaur ┆ Grass   │\n",
       "│ Charmander            ┆ Fire    │\n",
       "│ …                     ┆ …       │\n",
       "│ Diancie               ┆ Rock    │\n",
       "│ DiancieMega Diancie   ┆ Rock    │\n",
       "│ HoopaHoopa Confined   ┆ Psychic │\n",
       "│ HoopaHoopa Unbound    ┆ Psychic │\n",
       "│ Volcanion             ┆ Fire    │\n",
       "└───────────────────────┴─────────┘"
      ]
     },
     "execution_count": 14,
     "metadata": {},
     "output_type": "execute_result"
    }
   ],
   "source": [
    "# Sélection de champs : champs ciblés\n",
    "pokemon.select(pl.col(\"Name\", 'Type 1'))"
   ]
  },
  {
   "cell_type": "code",
   "execution_count": 17,
   "metadata": {},
   "outputs": [
    {
     "data": {
      "text/html": [
       "<div><style>\n",
       ".dataframe > thead > tr,\n",
       ".dataframe > tbody > tr {\n",
       "  text-align: right;\n",
       "  white-space: pre-wrap;\n",
       "}\n",
       "</style>\n",
       "<small>shape: (3, 12)</small><table border=\"1\" class=\"dataframe\"><thead><tr><th>#</th><th>Name</th><th>Type 1</th><th>Type 2</th><th>HP</th><th>Attack</th><th>Defense</th><th>Sp. Atk</th><th>Sp. Def</th><th>Speed</th><th>Generation</th><th>Legendary</th></tr><tr><td>i64</td><td>str</td><td>str</td><td>str</td><td>i64</td><td>i64</td><td>i64</td><td>i64</td><td>i64</td><td>i64</td><td>i64</td><td>bool</td></tr></thead><tbody><tr><td>492</td><td>&quot;ShayminLand Forme&quot;</td><td>&quot;Grass&quot;</td><td>null</td><td>100</td><td>100</td><td>100</td><td>100</td><td>100</td><td>100</td><td>4</td><td>true</td></tr><tr><td>492</td><td>&quot;ShayminSky Forme&quot;</td><td>&quot;Grass&quot;</td><td>&quot;Flying&quot;</td><td>100</td><td>103</td><td>75</td><td>120</td><td>75</td><td>127</td><td>4</td><td>true</td></tr><tr><td>640</td><td>&quot;Virizion&quot;</td><td>&quot;Grass&quot;</td><td>&quot;Fighting&quot;</td><td>91</td><td>90</td><td>72</td><td>90</td><td>129</td><td>108</td><td>5</td><td>true</td></tr></tbody></table></div>"
      ],
      "text/plain": [
       "shape: (3, 12)\n",
       "┌─────┬───────────────────┬────────┬──────────┬───┬─────────┬───────┬────────────┬───────────┐\n",
       "│ #   ┆ Name              ┆ Type 1 ┆ Type 2   ┆ … ┆ Sp. Def ┆ Speed ┆ Generation ┆ Legendary │\n",
       "│ --- ┆ ---               ┆ ---    ┆ ---      ┆   ┆ ---     ┆ ---   ┆ ---        ┆ ---       │\n",
       "│ i64 ┆ str               ┆ str    ┆ str      ┆   ┆ i64     ┆ i64   ┆ i64        ┆ bool      │\n",
       "╞═════╪═══════════════════╪════════╪══════════╪═══╪═════════╪═══════╪════════════╪═══════════╡\n",
       "│ 492 ┆ ShayminLand Forme ┆ Grass  ┆ null     ┆ … ┆ 100     ┆ 100   ┆ 4          ┆ true      │\n",
       "│ 492 ┆ ShayminSky Forme  ┆ Grass  ┆ Flying   ┆ … ┆ 75      ┆ 127   ┆ 4          ┆ true      │\n",
       "│ 640 ┆ Virizion          ┆ Grass  ┆ Fighting ┆ … ┆ 129     ┆ 108   ┆ 5          ┆ true      │\n",
       "└─────┴───────────────────┴────────┴──────────┴───┴─────────┴───────┴────────────┴───────────┘"
      ]
     },
     "execution_count": 17,
     "metadata": {},
     "output_type": "execute_result"
    }
   ],
   "source": [
    "# Sélection de lignes : lignes ciblées \n",
    "# (pokemons légendaires et de type 'Grass')\n",
    "pokemon.filter(\n",
    "    (pl.col('Legendary')) & (pl.col(\"Type 1\") == \"Grass\"))"
   ]
  },
  {
   "cell_type": "code",
   "execution_count": 26,
   "metadata": {},
   "outputs": [
    {
     "data": {
      "text/html": [
       "<div><style>\n",
       ".dataframe > thead > tr,\n",
       ".dataframe > tbody > tr {\n",
       "  text-align: right;\n",
       "  white-space: pre-wrap;\n",
       "}\n",
       "</style>\n",
       "<small>shape: (5, 12)</small><table border=\"1\" class=\"dataframe\"><thead><tr><th>#</th><th>Name</th><th>Type 1</th><th>Type 2</th><th>HP</th><th>Attack</th><th>Defense</th><th>Sp. Atk</th><th>Sp. Def</th><th>Speed</th><th>Generation</th><th>Legendary</th></tr><tr><td>i64</td><td>str</td><td>str</td><td>str</td><td>i64</td><td>i64</td><td>i64</td><td>i64</td><td>i64</td><td>i64</td><td>i64</td><td>bool</td></tr></thead><tbody><tr><td>606</td><td>&quot;Beheeyem&quot;</td><td>&quot;Psychic&quot;</td><td>null</td><td>75</td><td>75</td><td>75</td><td>125</td><td>95</td><td>40</td><td>5</td><td>false</td></tr><tr><td>583</td><td>&quot;Vanillish&quot;</td><td>&quot;Ice&quot;</td><td>null</td><td>51</td><td>65</td><td>65</td><td>80</td><td>75</td><td>59</td><td>5</td><td>false</td></tr><tr><td>563</td><td>&quot;Cofagrigus&quot;</td><td>&quot;Ghost&quot;</td><td>null</td><td>58</td><td>50</td><td>145</td><td>95</td><td>105</td><td>30</td><td>5</td><td>false</td></tr><tr><td>156</td><td>&quot;Quilava&quot;</td><td>&quot;Fire&quot;</td><td>null</td><td>58</td><td>64</td><td>58</td><td>80</td><td>65</td><td>80</td><td>2</td><td>false</td></tr><tr><td>277</td><td>&quot;Swellow&quot;</td><td>&quot;Normal&quot;</td><td>&quot;Flying&quot;</td><td>60</td><td>85</td><td>60</td><td>50</td><td>50</td><td>125</td><td>3</td><td>false</td></tr></tbody></table></div>"
      ],
      "text/plain": [
       "shape: (5, 12)\n",
       "┌─────┬────────────┬─────────┬────────┬───┬─────────┬───────┬────────────┬───────────┐\n",
       "│ #   ┆ Name       ┆ Type 1  ┆ Type 2 ┆ … ┆ Sp. Def ┆ Speed ┆ Generation ┆ Legendary │\n",
       "│ --- ┆ ---        ┆ ---     ┆ ---    ┆   ┆ ---     ┆ ---   ┆ ---        ┆ ---       │\n",
       "│ i64 ┆ str        ┆ str     ┆ str    ┆   ┆ i64     ┆ i64   ┆ i64        ┆ bool      │\n",
       "╞═════╪════════════╪═════════╪════════╪═══╪═════════╪═══════╪════════════╪═══════════╡\n",
       "│ 606 ┆ Beheeyem   ┆ Psychic ┆ null   ┆ … ┆ 95      ┆ 40    ┆ 5          ┆ false     │\n",
       "│ 583 ┆ Vanillish  ┆ Ice     ┆ null   ┆ … ┆ 75      ┆ 59    ┆ 5          ┆ false     │\n",
       "│ 563 ┆ Cofagrigus ┆ Ghost   ┆ null   ┆ … ┆ 105     ┆ 30    ┆ 5          ┆ false     │\n",
       "│ 156 ┆ Quilava    ┆ Fire    ┆ null   ┆ … ┆ 65      ┆ 80    ┆ 2          ┆ false     │\n",
       "│ 277 ┆ Swellow    ┆ Normal  ┆ Flying ┆ … ┆ 50      ┆ 125   ┆ 3          ┆ false     │\n",
       "└─────┴────────────┴─────────┴────────┴───┴─────────┴───────┴────────────┴───────────┘"
      ]
     },
     "execution_count": 26,
     "metadata": {},
     "output_type": "execute_result"
    }
   ],
   "source": [
    "# Affichage de 5 lignes au hasard\n",
    "pokemon.sample(5)"
   ]
  },
  {
   "cell_type": "code",
   "execution_count": 3,
   "metadata": {},
   "outputs": [
    {
     "data": {
      "text/plain": [
       "['#',\n",
       " 'Name',\n",
       " 'Type 1',\n",
       " 'Type 2',\n",
       " 'HP',\n",
       " 'Attack',\n",
       " 'Defense',\n",
       " 'Sp. Atk',\n",
       " 'Sp. Def',\n",
       " 'Speed',\n",
       " 'Generation',\n",
       " 'Legendary']"
      ]
     },
     "execution_count": 3,
     "metadata": {},
     "output_type": "execute_result"
    }
   ],
   "source": [
    "# Liste des colonnes\n",
    "pokemon.columns"
   ]
  },
  {
   "cell_type": "code",
   "execution_count": 14,
   "metadata": {},
   "outputs": [
    {
     "data": {
      "text/html": [
       "<div><style>\n",
       ".dataframe > thead > tr,\n",
       ".dataframe > tbody > tr {\n",
       "  text-align: right;\n",
       "  white-space: pre-wrap;\n",
       "}\n",
       "</style>\n",
       "<small>shape: (5, 4)</small><table border=\"1\" class=\"dataframe\"><thead><tr><th>Name</th><th>Average HP</th><th>Max Attack</th><th>Speed</th></tr><tr><td>str</td><td>f64</td><td>i64</td><td>i64</td></tr></thead><tbody><tr><td>&quot;LopunnyMega Lopunny&quot;</td><td>69.25875</td><td>190</td><td>75</td></tr><tr><td>&quot;Torchic&quot;</td><td>69.25875</td><td>190</td><td>95</td></tr><tr><td>&quot;Drifblim&quot;</td><td>69.25875</td><td>190</td><td>78</td></tr><tr><td>&quot;Skiddo&quot;</td><td>69.25875</td><td>190</td><td>105</td></tr><tr><td>&quot;Rhyhorn&quot;</td><td>69.25875</td><td>190</td><td>66</td></tr></tbody></table></div>"
      ],
      "text/plain": [
       "shape: (5, 4)\n",
       "┌─────────────────────┬────────────┬────────────┬───────┐\n",
       "│ Name                ┆ Average HP ┆ Max Attack ┆ Speed │\n",
       "│ ---                 ┆ ---        ┆ ---        ┆ ---   │\n",
       "│ str                 ┆ f64        ┆ i64        ┆ i64   │\n",
       "╞═════════════════════╪════════════╪════════════╪═══════╡\n",
       "│ LopunnyMega Lopunny ┆ 69.25875   ┆ 190        ┆ 75    │\n",
       "│ Torchic             ┆ 69.25875   ┆ 190        ┆ 95    │\n",
       "│ Drifblim            ┆ 69.25875   ┆ 190        ┆ 78    │\n",
       "│ Skiddo              ┆ 69.25875   ┆ 190        ┆ 105   │\n",
       "│ Rhyhorn             ┆ 69.25875   ┆ 190        ┆ 66    │\n",
       "└─────────────────────┴────────────┴────────────┴───────┘"
      ]
     },
     "execution_count": 14,
     "metadata": {},
     "output_type": "execute_result"
    }
   ],
   "source": [
    "# Sélection de champs avec un trie, une moyenne, et une valeur maximum \n",
    "# pour certains de ces champs : affichage de 5 lignes au hasard\n",
    "pokemon.select(\n",
    "    pl.col(\"Name\").sort(),\n",
    "    pl.col(\"HP\").mean().alias(\"Average HP\"),\n",
    "    pl.col(\"Attack\").max().alias(\"Max Attack\"),\n",
    "    pl.col(\"Speed\")\n",
    ").sample(5)"
   ]
  },
  {
   "cell_type": "markdown",
   "metadata": {},
   "source": [
    "https://youtu.be/OTVDmA6CRlQ?t=2906"
   ]
  }
 ],
 "metadata": {
  "kernelspec": {
   "display_name": "Python 3",
   "language": "python",
   "name": "python3"
  },
  "language_info": {
   "codemirror_mode": {
    "name": "ipython",
    "version": 3
   },
   "file_extension": ".py",
   "mimetype": "text/x-python",
   "name": "python",
   "nbconvert_exporter": "python",
   "pygments_lexer": "ipython3",
   "version": "3.12.5"
  }
 },
 "nbformat": 4,
 "nbformat_minor": 2
}
