{
 "cells": [
  {
   "cell_type": "markdown",
   "metadata": {},
   "source": [
    "# Unique"
   ]
  },
  {
   "cell_type": "code",
   "execution_count": 4,
   "metadata": {},
   "outputs": [],
   "source": [
    "# %pip install fastexcel"
   ]
  },
  {
   "cell_type": "code",
   "execution_count": 1,
   "metadata": {},
   "outputs": [],
   "source": [
    "import polars as pl\n",
    "from skimpy import skim"
   ]
  },
  {
   "cell_type": "code",
   "execution_count": 5,
   "metadata": {},
   "outputs": [],
   "source": [
    "df = pl.read_excel('data/Unique.xlsx')"
   ]
  },
  {
   "cell_type": "code",
   "execution_count": 6,
   "metadata": {},
   "outputs": [
    {
     "data": {
      "text/html": [
       "<div><style>\n",
       ".dataframe > thead > tr,\n",
       ".dataframe > tbody > tr {\n",
       "  text-align: right;\n",
       "  white-space: pre-wrap;\n",
       "}\n",
       "</style>\n",
       "<small>shape: (5, 5)</small><table border=\"1\" class=\"dataframe\"><thead><tr><th>Id</th><th>Raison sociale</th><th>Département</th><th>Activité</th><th>Ville</th></tr><tr><td>i64</td><td>str</td><td>str</td><td>str</td><td>str</td></tr></thead><tbody><tr><td>1175</td><td>&quot;Topfit&quot;</td><td>&quot;06-Alpes Maritimes&quot;</td><td>&quot;Clubs de forme&quot;</td><td>&quot;Antibes juan les pins&quot;</td></tr><tr><td>1196</td><td>&quot;Antibes Squash et Fitness Club&quot;</td><td>&quot;06-Alpes Maritimes&quot;</td><td>&quot;Clubs de forme&quot;</td><td>&quot;Antibes juan les pins&quot;</td></tr><tr><td>1205</td><td>&quot;LADY FITNESS ANTIBES&quot;</td><td>&quot;06-Alpes Maritimes&quot;</td><td>&quot;Clubs de forme&quot;</td><td>&quot;Antibes juan les pins&quot;</td></tr><tr><td>1203</td><td>&quot;FITLANE&quot;</td><td>&quot;06-Alpes Maritimes&quot;</td><td>&quot;Clubs de forme&quot;</td><td>&quot;Mandelieu la napoule&quot;</td></tr><tr><td>1197</td><td>&quot;APHYSIA&quot;</td><td>&quot;06-Alpes Maritimes&quot;</td><td>&quot;Clubs de forme&quot;</td><td>&quot;Nice&quot;</td></tr></tbody></table></div>"
      ],
      "text/plain": [
       "shape: (5, 5)\n",
       "┌──────┬─────────────────────────────┬────────────────────┬────────────────┬───────────────────────┐\n",
       "│ Id   ┆ Raison sociale              ┆ Département        ┆ Activité       ┆ Ville                 │\n",
       "│ ---  ┆ ---                         ┆ ---                ┆ ---            ┆ ---                   │\n",
       "│ i64  ┆ str                         ┆ str                ┆ str            ┆ str                   │\n",
       "╞══════╪═════════════════════════════╪════════════════════╪════════════════╪═══════════════════════╡\n",
       "│ 1175 ┆ Topfit                      ┆ 06-Alpes Maritimes ┆ Clubs de forme ┆ Antibes juan les pins │\n",
       "│ 1196 ┆ Antibes Squash et Fitness   ┆ 06-Alpes Maritimes ┆ Clubs de forme ┆ Antibes juan les pins │\n",
       "│      ┆ Club                        ┆                    ┆                ┆                       │\n",
       "│ 1205 ┆ LADY FITNESS ANTIBES        ┆ 06-Alpes Maritimes ┆ Clubs de forme ┆ Antibes juan les pins │\n",
       "│ 1203 ┆ FITLANE                     ┆ 06-Alpes Maritimes ┆ Clubs de forme ┆ Mandelieu la napoule  │\n",
       "│ 1197 ┆ APHYSIA                     ┆ 06-Alpes Maritimes ┆ Clubs de forme ┆ Nice                  │\n",
       "└──────┴─────────────────────────────┴────────────────────┴────────────────┴───────────────────────┘"
      ]
     },
     "execution_count": 6,
     "metadata": {},
     "output_type": "execute_result"
    }
   ],
   "source": [
    "df.head()"
   ]
  },
  {
   "cell_type": "code",
   "execution_count": 7,
   "metadata": {},
   "outputs": [
    {
     "data": {
      "text/html": [
       "<pre style=\"white-space:pre;overflow-x:auto;line-height:normal;font-family:Menlo,'DejaVu Sans Mono',consolas,'Courier New',monospace\">╭──────────────────────────────────────────────── skimpy summary ─────────────────────────────────────────────────╮\n",
       "│ <span style=\"font-style: italic\">         Data Summary         </span> <span style=\"font-style: italic\">      Data Types       </span>                                                          │\n",
       "│ ┏━━━━━━━━━━━━━━━━━━━┳━━━━━━━━┓ ┏━━━━━━━━━━━━━┳━━━━━━━┓                                                          │\n",
       "│ ┃<span style=\"color: #008080; text-decoration-color: #008080; font-weight: bold\"> Dataframe         </span>┃<span style=\"color: #008080; text-decoration-color: #008080; font-weight: bold\"> Values </span>┃ ┃<span style=\"color: #008080; text-decoration-color: #008080; font-weight: bold\"> Column Type </span>┃<span style=\"color: #008080; text-decoration-color: #008080; font-weight: bold\"> Count </span>┃                                                          │\n",
       "│ ┡━━━━━━━━━━━━━━━━━━━╇━━━━━━━━┩ ┡━━━━━━━━━━━━━╇━━━━━━━┩                                                          │\n",
       "│ │ Number of rows    │ 997    │ │ string      │ 4     │                                                          │\n",
       "│ │ Number of columns │ 5      │ │ int64       │ 1     │                                                          │\n",
       "│ └───────────────────┴────────┘ └─────────────┴───────┘                                                          │\n",
       "│ <span style=\"font-style: italic\">                                                    number                                                    </span>  │\n",
       "│ ┏━━━━━━━━━━━━┳━━━━━━┳━━━━━━━━━┳━━━━━━━━━┳━━━━━━━━━━┳━━━━━━━━┳━━━━━━━┳━━━━━━━┳━━━━━━━━━┳━━━━━━━━━━━┳━━━━━━━━━━┓  │\n",
       "│ ┃<span style=\"font-weight: bold\"> column     </span>┃<span style=\"font-weight: bold\"> NA   </span>┃<span style=\"font-weight: bold\"> NA %    </span>┃<span style=\"font-weight: bold\"> mean    </span>┃<span style=\"font-weight: bold\"> sd       </span>┃<span style=\"font-weight: bold\"> p0     </span>┃<span style=\"font-weight: bold\"> p25   </span>┃<span style=\"font-weight: bold\"> p50   </span>┃<span style=\"font-weight: bold\"> p75     </span>┃<span style=\"font-weight: bold\"> p100      </span>┃<span style=\"font-weight: bold\"> hist     </span>┃  │\n",
       "│ ┡━━━━━━━━━━━━╇━━━━━━╇━━━━━━━━━╇━━━━━━━━━╇━━━━━━━━━━╇━━━━━━━━╇━━━━━━━╇━━━━━━━╇━━━━━━━━━╇━━━━━━━━━━━╇━━━━━━━━━━┩  │\n",
       "│ │ <span style=\"color: #af87ff; text-decoration-color: #af87ff\">Id        </span> │ <span style=\"color: #008080; text-decoration-color: #008080\">   0</span> │ <span style=\"color: #008080; text-decoration-color: #008080\">      0</span> │ <span style=\"color: #008080; text-decoration-color: #008080\">   6011</span> │ <span style=\"color: #008080; text-decoration-color: #008080\">   46820</span> │ <span style=\"color: #008080; text-decoration-color: #008080\">   362</span> │ <span style=\"color: #008080; text-decoration-color: #008080\">  681</span> │ <span style=\"color: #008080; text-decoration-color: #008080\">  934</span> │ <span style=\"color: #008080; text-decoration-color: #008080\">   1193</span> │ <span style=\"color: #008080; text-decoration-color: #008080\">   470800</span> │ <span style=\"color: #008000; text-decoration-color: #008000\">   ▇    </span> │  │\n",
       "│ └────────────┴──────┴─────────┴─────────┴──────────┴────────┴───────┴───────┴─────────┴───────────┴──────────┘  │\n",
       "│ <span style=\"font-style: italic\">                                                    string                                                    </span>  │\n",
       "│ ┏━━━━━━━━━━━┳━━━━┳━━━━━━┳━━━━━━━━━━┳━━━━━━━━━━━┳━━━━━━━━━━━┳━━━━━━━━━━━┳━━━━━━━━━━━━┳━━━━━━━━━━━┳━━━━━━━━━━━━┓  │\n",
       "│ ┃<span style=\"font-weight: bold\">           </span>┃<span style=\"font-weight: bold\">    </span>┃<span style=\"font-weight: bold\">      </span>┃<span style=\"font-weight: bold\">          </span>┃<span style=\"font-weight: bold\">           </span>┃<span style=\"font-weight: bold\">           </span>┃<span style=\"font-weight: bold\">           </span>┃<span style=\"font-weight: bold\"> chars per  </span>┃<span style=\"font-weight: bold\"> words per </span>┃<span style=\"font-weight: bold\"> total      </span>┃  │\n",
       "│ ┃<span style=\"font-weight: bold\"> column    </span>┃<span style=\"font-weight: bold\"> NA </span>┃<span style=\"font-weight: bold\"> NA % </span>┃<span style=\"font-weight: bold\"> shortest </span>┃<span style=\"font-weight: bold\"> longest   </span>┃<span style=\"font-weight: bold\"> min       </span>┃<span style=\"font-weight: bold\"> max       </span>┃<span style=\"font-weight: bold\"> row        </span>┃<span style=\"font-weight: bold\"> row       </span>┃<span style=\"font-weight: bold\"> words      </span>┃  │\n",
       "│ ┡━━━━━━━━━━━╇━━━━╇━━━━━━╇━━━━━━━━━━╇━━━━━━━━━━━╇━━━━━━━━━━━╇━━━━━━━━━━━╇━━━━━━━━━━━━╇━━━━━━━━━━━╇━━━━━━━━━━━━┩  │\n",
       "│ │ <span style=\"color: #af87ff; text-decoration-color: #af87ff\">Raison   </span> │ <span style=\"color: #008080; text-decoration-color: #008080\"> 0</span> │ <span style=\"color: #008080; text-decoration-color: #008080\">   0</span> │ <span style=\"color: #af87ff; text-decoration-color: #af87ff\">S2C     </span> │ <span style=\"color: #af87ff; text-decoration-color: #af87ff\">Hertz BPA</span> │ <span style=\"color: #af87ff; text-decoration-color: #af87ff\">AB       </span> │ <span style=\"color: #af87ff; text-decoration-color: #af87ff\">Zig Zag  </span> │ <span style=\"color: #008080; text-decoration-color: #008080\">      17.5</span> │ <span style=\"color: #008080; text-decoration-color: #008080\">        3</span> │ <span style=\"color: #008080; text-decoration-color: #008080\">      2984</span> │  │\n",
       "│ │ <span style=\"color: #af87ff; text-decoration-color: #af87ff\">sociale  </span> │    │      │          │ <span style=\"color: #af87ff; text-decoration-color: #af87ff\">(SA)     </span> │ <span style=\"color: #af87ff; text-decoration-color: #af87ff\">Location </span> │           │            │           │            │  │\n",
       "│ │           │    │      │          │ <span style=\"color: #af87ff; text-decoration-color: #af87ff\">Franchisé</span> │           │           │            │           │            │  │\n",
       "│ │           │    │      │          │ <span style=\"color: #af87ff; text-decoration-color: #af87ff\">indépenda</span> │           │           │            │           │            │  │\n",
       "│ │           │    │      │          │ <span style=\"color: #af87ff; text-decoration-color: #af87ff\">nt à     </span> │           │           │            │           │            │  │\n",
       "│ │           │    │      │          │ <span style=\"color: #af87ff; text-decoration-color: #af87ff\">Valréas  </span> │           │           │            │           │            │  │\n",
       "│ │           │    │      │          │ <span style=\"color: #af87ff; text-decoration-color: #af87ff\">Dépôt    </span> │           │           │            │           │            │  │\n",
       "│ │           │    │      │          │ <span style=\"color: #af87ff; text-decoration-color: #af87ff\">chez     </span> │           │           │            │           │            │  │\n",
       "│ │           │    │      │          │ <span style=\"color: #af87ff; text-decoration-color: #af87ff\">garage   </span> │           │           │            │           │            │  │\n",
       "│ │           │    │      │          │ <span style=\"color: #af87ff; text-decoration-color: #af87ff\">Peugeot  </span> │           │           │            │           │            │  │\n",
       "│ │ <span style=\"color: #af87ff; text-decoration-color: #af87ff\">Départeme</span> │ <span style=\"color: #008080; text-decoration-color: #008080\"> 0</span> │ <span style=\"color: #008080; text-decoration-color: #008080\">   0</span> │ <span style=\"color: #af87ff; text-decoration-color: #af87ff\">83-Var  </span> │ <span style=\"color: #af87ff; text-decoration-color: #af87ff\">17-Charen</span> │ <span style=\"color: #af87ff; text-decoration-color: #af87ff\">06-Alpes </span> │ <span style=\"color: #af87ff; text-decoration-color: #af87ff\">87-Haute </span> │ <span style=\"color: #008080; text-decoration-color: #008080\">      9.15</span> │ <span style=\"color: #008080; text-decoration-color: #008080\">      1.1</span> │ <span style=\"color: #008080; text-decoration-color: #008080\">      1141</span> │  │\n",
       "│ │ <span style=\"color: #af87ff; text-decoration-color: #af87ff\">nt       </span> │    │      │          │ <span style=\"color: #af87ff; text-decoration-color: #af87ff\">te       </span> │ <span style=\"color: #af87ff; text-decoration-color: #af87ff\">Maritimes</span> │ <span style=\"color: #af87ff; text-decoration-color: #af87ff\">Vienne   </span> │            │           │            │  │\n",
       "│ │           │    │      │          │ <span style=\"color: #af87ff; text-decoration-color: #af87ff\">Maritime </span> │           │           │            │           │            │  │\n",
       "│ │ <span style=\"color: #af87ff; text-decoration-color: #af87ff\">Activité </span> │ <span style=\"color: #008080; text-decoration-color: #008080\"> 0</span> │ <span style=\"color: #008080; text-decoration-color: #008080\">   0</span> │ <span style=\"color: #af87ff; text-decoration-color: #af87ff\">Golf    </span> │ <span style=\"color: #af87ff; text-decoration-color: #af87ff\">Centres  </span> │ <span style=\"color: #af87ff; text-decoration-color: #af87ff\">Bar/Café </span> │ <span style=\"color: #af87ff; text-decoration-color: #af87ff\">parc     </span> │ <span style=\"color: #008080; text-decoration-color: #008080\">      12.2</span> │ <span style=\"color: #008080; text-decoration-color: #008080\">      1.3</span> │ <span style=\"color: #008080; text-decoration-color: #008080\">      1299</span> │  │\n",
       "│ │           │    │      │          │ <span style=\"color: #af87ff; text-decoration-color: #af87ff\">equestres</span> │           │ <span style=\"color: #af87ff; text-decoration-color: #af87ff\">d'attract</span> │            │           │            │  │\n",
       "│ │           │    │      │          │ <span style=\"color: #af87ff; text-decoration-color: #af87ff\">,        </span> │           │ <span style=\"color: #af87ff; text-decoration-color: #af87ff\">ion      </span> │            │           │            │  │\n",
       "│ │           │    │      │          │ <span style=\"color: #af87ff; text-decoration-color: #af87ff\">equitatio</span> │           │           │            │           │            │  │\n",
       "│ │           │    │      │          │ <span style=\"color: #af87ff; text-decoration-color: #af87ff\">n        </span> │           │           │            │           │            │  │\n",
       "│ │ <span style=\"color: #af87ff; text-decoration-color: #af87ff\">Ville    </span> │ <span style=\"color: #008080; text-decoration-color: #008080\"> 0</span> │ <span style=\"color: #008080; text-decoration-color: #008080\">   0</span> │ <span style=\"color: #af87ff; text-decoration-color: #af87ff\">Nice    </span> │ <span style=\"color: #af87ff; text-decoration-color: #af87ff\">Saint    </span> │ <span style=\"color: #af87ff; text-decoration-color: #af87ff\">Agay     </span> │ <span style=\"color: #af87ff; text-decoration-color: #af87ff\">Voreppe  </span> │ <span style=\"color: #008080; text-decoration-color: #008080\">      10.9</span> │ <span style=\"color: #008080; text-decoration-color: #008080\">      1.8</span> │ <span style=\"color: #008080; text-decoration-color: #008080\">      1800</span> │  │\n",
       "│ │           │    │      │          │ <span style=\"color: #af87ff; text-decoration-color: #af87ff\">maximin  </span> │           │           │            │           │            │  │\n",
       "│ │           │    │      │          │ <span style=\"color: #af87ff; text-decoration-color: #af87ff\">la sainte</span> │           │           │            │           │            │  │\n",
       "│ │           │    │      │          │ <span style=\"color: #af87ff; text-decoration-color: #af87ff\">baume    </span> │           │           │            │           │            │  │\n",
       "│ └───────────┴────┴──────┴──────────┴───────────┴───────────┴───────────┴────────────┴───────────┴────────────┘  │\n",
       "╰────────────────────────────────────────────────────── End ──────────────────────────────────────────────────────╯\n",
       "</pre>\n"
      ],
      "text/plain": [
       "╭──────────────────────────────────────────────── skimpy summary ─────────────────────────────────────────────────╮\n",
       "│ \u001b[3m         Data Summary         \u001b[0m \u001b[3m      Data Types       \u001b[0m                                                          │\n",
       "│ ┏━━━━━━━━━━━━━━━━━━━┳━━━━━━━━┓ ┏━━━━━━━━━━━━━┳━━━━━━━┓                                                          │\n",
       "│ ┃\u001b[1;36m \u001b[0m\u001b[1;36mDataframe        \u001b[0m\u001b[1;36m \u001b[0m┃\u001b[1;36m \u001b[0m\u001b[1;36mValues\u001b[0m\u001b[1;36m \u001b[0m┃ ┃\u001b[1;36m \u001b[0m\u001b[1;36mColumn Type\u001b[0m\u001b[1;36m \u001b[0m┃\u001b[1;36m \u001b[0m\u001b[1;36mCount\u001b[0m\u001b[1;36m \u001b[0m┃                                                          │\n",
       "│ ┡━━━━━━━━━━━━━━━━━━━╇━━━━━━━━┩ ┡━━━━━━━━━━━━━╇━━━━━━━┩                                                          │\n",
       "│ │ Number of rows    │ 997    │ │ string      │ 4     │                                                          │\n",
       "│ │ Number of columns │ 5      │ │ int64       │ 1     │                                                          │\n",
       "│ └───────────────────┴────────┘ └─────────────┴───────┘                                                          │\n",
       "│ \u001b[3m                                                    number                                                    \u001b[0m  │\n",
       "│ ┏━━━━━━━━━━━━┳━━━━━━┳━━━━━━━━━┳━━━━━━━━━┳━━━━━━━━━━┳━━━━━━━━┳━━━━━━━┳━━━━━━━┳━━━━━━━━━┳━━━━━━━━━━━┳━━━━━━━━━━┓  │\n",
       "│ ┃\u001b[1m \u001b[0m\u001b[1mcolumn    \u001b[0m\u001b[1m \u001b[0m┃\u001b[1m \u001b[0m\u001b[1mNA  \u001b[0m\u001b[1m \u001b[0m┃\u001b[1m \u001b[0m\u001b[1mNA %   \u001b[0m\u001b[1m \u001b[0m┃\u001b[1m \u001b[0m\u001b[1mmean   \u001b[0m\u001b[1m \u001b[0m┃\u001b[1m \u001b[0m\u001b[1msd      \u001b[0m\u001b[1m \u001b[0m┃\u001b[1m \u001b[0m\u001b[1mp0    \u001b[0m\u001b[1m \u001b[0m┃\u001b[1m \u001b[0m\u001b[1mp25  \u001b[0m\u001b[1m \u001b[0m┃\u001b[1m \u001b[0m\u001b[1mp50  \u001b[0m\u001b[1m \u001b[0m┃\u001b[1m \u001b[0m\u001b[1mp75    \u001b[0m\u001b[1m \u001b[0m┃\u001b[1m \u001b[0m\u001b[1mp100     \u001b[0m\u001b[1m \u001b[0m┃\u001b[1m \u001b[0m\u001b[1mhist    \u001b[0m\u001b[1m \u001b[0m┃  │\n",
       "│ ┡━━━━━━━━━━━━╇━━━━━━╇━━━━━━━━━╇━━━━━━━━━╇━━━━━━━━━━╇━━━━━━━━╇━━━━━━━╇━━━━━━━╇━━━━━━━━━╇━━━━━━━━━━━╇━━━━━━━━━━┩  │\n",
       "│ │ \u001b[38;5;141mId        \u001b[0m │ \u001b[36m   0\u001b[0m │ \u001b[36m      0\u001b[0m │ \u001b[36m   6011\u001b[0m │ \u001b[36m   46820\u001b[0m │ \u001b[36m   362\u001b[0m │ \u001b[36m  681\u001b[0m │ \u001b[36m  934\u001b[0m │ \u001b[36m   1193\u001b[0m │ \u001b[36m   470800\u001b[0m │ \u001b[32m   ▇    \u001b[0m │  │\n",
       "│ └────────────┴──────┴─────────┴─────────┴──────────┴────────┴───────┴───────┴─────────┴───────────┴──────────┘  │\n",
       "│ \u001b[3m                                                    string                                                    \u001b[0m  │\n",
       "│ ┏━━━━━━━━━━━┳━━━━┳━━━━━━┳━━━━━━━━━━┳━━━━━━━━━━━┳━━━━━━━━━━━┳━━━━━━━━━━━┳━━━━━━━━━━━━┳━━━━━━━━━━━┳━━━━━━━━━━━━┓  │\n",
       "│ ┃\u001b[1m           \u001b[0m┃\u001b[1m    \u001b[0m┃\u001b[1m      \u001b[0m┃\u001b[1m          \u001b[0m┃\u001b[1m           \u001b[0m┃\u001b[1m           \u001b[0m┃\u001b[1m           \u001b[0m┃\u001b[1m \u001b[0m\u001b[1mchars per \u001b[0m\u001b[1m \u001b[0m┃\u001b[1m \u001b[0m\u001b[1mwords per\u001b[0m\u001b[1m \u001b[0m┃\u001b[1m \u001b[0m\u001b[1mtotal     \u001b[0m\u001b[1m \u001b[0m┃  │\n",
       "│ ┃\u001b[1m \u001b[0m\u001b[1mcolumn   \u001b[0m\u001b[1m \u001b[0m┃\u001b[1m \u001b[0m\u001b[1mNA\u001b[0m\u001b[1m \u001b[0m┃\u001b[1m \u001b[0m\u001b[1mNA %\u001b[0m\u001b[1m \u001b[0m┃\u001b[1m \u001b[0m\u001b[1mshortest\u001b[0m\u001b[1m \u001b[0m┃\u001b[1m \u001b[0m\u001b[1mlongest  \u001b[0m\u001b[1m \u001b[0m┃\u001b[1m \u001b[0m\u001b[1mmin      \u001b[0m\u001b[1m \u001b[0m┃\u001b[1m \u001b[0m\u001b[1mmax      \u001b[0m\u001b[1m \u001b[0m┃\u001b[1m \u001b[0m\u001b[1mrow       \u001b[0m\u001b[1m \u001b[0m┃\u001b[1m \u001b[0m\u001b[1mrow      \u001b[0m\u001b[1m \u001b[0m┃\u001b[1m \u001b[0m\u001b[1mwords     \u001b[0m\u001b[1m \u001b[0m┃  │\n",
       "│ ┡━━━━━━━━━━━╇━━━━╇━━━━━━╇━━━━━━━━━━╇━━━━━━━━━━━╇━━━━━━━━━━━╇━━━━━━━━━━━╇━━━━━━━━━━━━╇━━━━━━━━━━━╇━━━━━━━━━━━━┩  │\n",
       "│ │ \u001b[38;5;141mRaison   \u001b[0m │ \u001b[36m 0\u001b[0m │ \u001b[36m   0\u001b[0m │ \u001b[38;5;141mS2C     \u001b[0m │ \u001b[38;5;141mHertz BPA\u001b[0m │ \u001b[38;5;141mAB       \u001b[0m │ \u001b[38;5;141mZig Zag  \u001b[0m │ \u001b[36m      17.5\u001b[0m │ \u001b[36m        3\u001b[0m │ \u001b[36m      2984\u001b[0m │  │\n",
       "│ │ \u001b[38;5;141msociale  \u001b[0m │    │      │          │ \u001b[38;5;141m(SA)     \u001b[0m │ \u001b[38;5;141mLocation \u001b[0m │           │            │           │            │  │\n",
       "│ │           │    │      │          │ \u001b[38;5;141mFranchisé\u001b[0m │           │           │            │           │            │  │\n",
       "│ │           │    │      │          │ \u001b[38;5;141mindépenda\u001b[0m │           │           │            │           │            │  │\n",
       "│ │           │    │      │          │ \u001b[38;5;141mnt à     \u001b[0m │           │           │            │           │            │  │\n",
       "│ │           │    │      │          │ \u001b[38;5;141mValréas  \u001b[0m │           │           │            │           │            │  │\n",
       "│ │           │    │      │          │ \u001b[38;5;141mDépôt    \u001b[0m │           │           │            │           │            │  │\n",
       "│ │           │    │      │          │ \u001b[38;5;141mchez     \u001b[0m │           │           │            │           │            │  │\n",
       "│ │           │    │      │          │ \u001b[38;5;141mgarage   \u001b[0m │           │           │            │           │            │  │\n",
       "│ │           │    │      │          │ \u001b[38;5;141mPeugeot  \u001b[0m │           │           │            │           │            │  │\n",
       "│ │ \u001b[38;5;141mDéparteme\u001b[0m │ \u001b[36m 0\u001b[0m │ \u001b[36m   0\u001b[0m │ \u001b[38;5;141m83-Var  \u001b[0m │ \u001b[38;5;141m17-Charen\u001b[0m │ \u001b[38;5;141m06-Alpes \u001b[0m │ \u001b[38;5;141m87-Haute \u001b[0m │ \u001b[36m      9.15\u001b[0m │ \u001b[36m      1.1\u001b[0m │ \u001b[36m      1141\u001b[0m │  │\n",
       "│ │ \u001b[38;5;141mnt       \u001b[0m │    │      │          │ \u001b[38;5;141mte       \u001b[0m │ \u001b[38;5;141mMaritimes\u001b[0m │ \u001b[38;5;141mVienne   \u001b[0m │            │           │            │  │\n",
       "│ │           │    │      │          │ \u001b[38;5;141mMaritime \u001b[0m │           │           │            │           │            │  │\n",
       "│ │ \u001b[38;5;141mActivité \u001b[0m │ \u001b[36m 0\u001b[0m │ \u001b[36m   0\u001b[0m │ \u001b[38;5;141mGolf    \u001b[0m │ \u001b[38;5;141mCentres  \u001b[0m │ \u001b[38;5;141mBar/Café \u001b[0m │ \u001b[38;5;141mparc     \u001b[0m │ \u001b[36m      12.2\u001b[0m │ \u001b[36m      1.3\u001b[0m │ \u001b[36m      1299\u001b[0m │  │\n",
       "│ │           │    │      │          │ \u001b[38;5;141mequestres\u001b[0m │           │ \u001b[38;5;141md'attract\u001b[0m │            │           │            │  │\n",
       "│ │           │    │      │          │ \u001b[38;5;141m,        \u001b[0m │           │ \u001b[38;5;141mion      \u001b[0m │            │           │            │  │\n",
       "│ │           │    │      │          │ \u001b[38;5;141mequitatio\u001b[0m │           │           │            │           │            │  │\n",
       "│ │           │    │      │          │ \u001b[38;5;141mn        \u001b[0m │           │           │            │           │            │  │\n",
       "│ │ \u001b[38;5;141mVille    \u001b[0m │ \u001b[36m 0\u001b[0m │ \u001b[36m   0\u001b[0m │ \u001b[38;5;141mNice    \u001b[0m │ \u001b[38;5;141mSaint    \u001b[0m │ \u001b[38;5;141mAgay     \u001b[0m │ \u001b[38;5;141mVoreppe  \u001b[0m │ \u001b[36m      10.9\u001b[0m │ \u001b[36m      1.8\u001b[0m │ \u001b[36m      1800\u001b[0m │  │\n",
       "│ │           │    │      │          │ \u001b[38;5;141mmaximin  \u001b[0m │           │           │            │           │            │  │\n",
       "│ │           │    │      │          │ \u001b[38;5;141mla sainte\u001b[0m │           │           │            │           │            │  │\n",
       "│ │           │    │      │          │ \u001b[38;5;141mbaume    \u001b[0m │           │           │            │           │            │  │\n",
       "│ └───────────┴────┴──────┴──────────┴───────────┴───────────┴───────────┴────────────┴───────────┴────────────┘  │\n",
       "╰────────────────────────────────────────────────────── End ──────────────────────────────────────────────────────╯\n"
      ]
     },
     "metadata": {},
     "output_type": "display_data"
    }
   ],
   "source": [
    "skim(df)"
   ]
  },
  {
   "cell_type": "markdown",
   "metadata": {},
   "source": [
    "Liste des départements"
   ]
  },
  {
   "cell_type": "code",
   "execution_count": 12,
   "metadata": {},
   "outputs": [
    {
     "data": {
      "text/plain": [
       "['06-Alpes Maritimes',\n",
       " '07-Ardèche',\n",
       " '13-Bouches du Rhone',\n",
       " '17-Charente Maritime',\n",
       " '18-Cher',\n",
       " '26-Drome',\n",
       " '30-Gard',\n",
       " '31-Haute Garonne',\n",
       " '33-Gironde',\n",
       " '38-Isère',\n",
       " '42-Loire',\n",
       " '55-Meuse',\n",
       " '69-Rhone',\n",
       " '71-Saone et Loire',\n",
       " '73-Savoie',\n",
       " '75-Paris',\n",
       " '83-Var',\n",
       " '84-Vaucluse',\n",
       " '85-Vendée',\n",
       " '87-Haute Vienne']"
      ]
     },
     "execution_count": 12,
     "metadata": {},
     "output_type": "execute_result"
    }
   ],
   "source": [
    "df['Département'].unique().sort(descending=False).to_list()"
   ]
  },
  {
   "cell_type": "markdown",
   "metadata": {},
   "source": [
    "Liste des villes par département"
   ]
  },
  {
   "cell_type": "code",
   "execution_count": 15,
   "metadata": {},
   "outputs": [
    {
     "data": {
      "text/html": [
       "<div><style>\n",
       ".dataframe > thead > tr,\n",
       ".dataframe > tbody > tr {\n",
       "  text-align: right;\n",
       "  white-space: pre-wrap;\n",
       "}\n",
       "</style>\n",
       "<small>shape: (405, 2)</small><table border=\"1\" class=\"dataframe\"><thead><tr><th>Département</th><th>Ville</th></tr><tr><td>str</td><td>str</td></tr></thead><tbody><tr><td>&quot;06-Alpes Maritimes&quot;</td><td>&quot;Antibes&quot;</td></tr><tr><td>&quot;06-Alpes Maritimes&quot;</td><td>&quot;Antibes juan les pins&quot;</td></tr><tr><td>&quot;06-Alpes Maritimes&quot;</td><td>&quot;Cannes&quot;</td></tr><tr><td>&quot;06-Alpes Maritimes&quot;</td><td>&quot;Cannes la bocca&quot;</td></tr><tr><td>&quot;06-Alpes Maritimes&quot;</td><td>&quot;Mandelieu la napoule&quot;</td></tr><tr><td>&hellip;</td><td>&hellip;</td></tr><tr><td>&quot;84-Vaucluse&quot;</td><td>&quot;Vedene&quot;</td></tr><tr><td>&quot;84-Vaucluse&quot;</td><td>&quot;Velleron&quot;</td></tr><tr><td>&quot;84-Vaucluse&quot;</td><td>&quot;Villeneuve les avignon&quot;</td></tr><tr><td>&quot;85-Vendée&quot;</td><td>&quot;La roche sur yon&quot;</td></tr><tr><td>&quot;87-Haute Vienne&quot;</td><td>&quot;Peyrat le chateau&quot;</td></tr></tbody></table></div>"
      ],
      "text/plain": [
       "shape: (405, 2)\n",
       "┌────────────────────┬────────────────────────┐\n",
       "│ Département        ┆ Ville                  │\n",
       "│ ---                ┆ ---                    │\n",
       "│ str                ┆ str                    │\n",
       "╞════════════════════╪════════════════════════╡\n",
       "│ 06-Alpes Maritimes ┆ Antibes                │\n",
       "│ 06-Alpes Maritimes ┆ Antibes juan les pins  │\n",
       "│ 06-Alpes Maritimes ┆ Cannes                 │\n",
       "│ 06-Alpes Maritimes ┆ Cannes la bocca        │\n",
       "│ 06-Alpes Maritimes ┆ Mandelieu la napoule   │\n",
       "│ …                  ┆ …                      │\n",
       "│ 84-Vaucluse        ┆ Vedene                 │\n",
       "│ 84-Vaucluse        ┆ Velleron               │\n",
       "│ 84-Vaucluse        ┆ Villeneuve les avignon │\n",
       "│ 85-Vendée          ┆ La roche sur yon       │\n",
       "│ 87-Haute Vienne    ┆ Peyrat le chateau      │\n",
       "└────────────────────┴────────────────────────┘"
      ]
     },
     "execution_count": 15,
     "metadata": {},
     "output_type": "execute_result"
    }
   ],
   "source": [
    "df[['Département', 'Ville']].unique().sort(by=['Département', 'Ville'])"
   ]
  }
 ],
 "metadata": {
  "kernelspec": {
   "display_name": "Python 3",
   "language": "python",
   "name": "python3"
  },
  "language_info": {
   "codemirror_mode": {
    "name": "ipython",
    "version": 3
   },
   "file_extension": ".py",
   "mimetype": "text/x-python",
   "name": "python",
   "nbconvert_exporter": "python",
   "pygments_lexer": "ipython3",
   "version": "3.12.5"
  }
 },
 "nbformat": 4,
 "nbformat_minor": 2
}
