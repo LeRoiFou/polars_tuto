{
 "cells": [
  {
   "cell_type": "markdown",
   "id": "24ef4cbd",
   "metadata": {},
   "source": [
    "# Corriger les défauts d'alignement par formule Python"
   ]
  },
  {
   "cell_type": "code",
   "execution_count": 1,
   "id": "edebd6c6",
   "metadata": {},
   "outputs": [],
   "source": [
    "import polars as pl"
   ]
  },
  {
   "cell_type": "code",
   "execution_count": 2,
   "id": "88d6490a",
   "metadata": {},
   "outputs": [],
   "source": [
    "tab = pl.read_excel('data/Strip.xlsx')"
   ]
  },
  {
   "cell_type": "code",
   "execution_count": 3,
   "id": "e361a2a5",
   "metadata": {},
   "outputs": [
    {
     "data": {
      "text/html": [
       "<div><style>\n",
       ".dataframe > thead > tr,\n",
       ".dataframe > tbody > tr {\n",
       "  text-align: right;\n",
       "  white-space: pre-wrap;\n",
       "}\n",
       "</style>\n",
       "<small>shape: (5, 2)</small><table border=\"1\" class=\"dataframe\"><thead><tr><th>Nom</th><th>Prime</th></tr><tr><td>str</td><td>i64</td></tr></thead><tbody><tr><td>&quot;&nbsp;&nbsp;&nbsp;&nbsp;Onète Marie&nbsp;&nbsp;&nbsp;&quot;</td><td>17300</td></tr><tr><td>&quot;&nbsp;&nbsp;&nbsp;&nbsp;Orange Jude &quot;</td><td>11900</td></tr><tr><td>&quot; Loupe Sacha&nbsp;&nbsp;&nbsp;&quot;</td><td>14700</td></tr><tr><td>&quot; Vire Sacha&nbsp;&nbsp;&nbsp;&nbsp;&quot;</td><td>16600</td></tr><tr><td>&quot;&nbsp;&nbsp;&nbsp;Lipe Sophie&nbsp;&nbsp;&nbsp;&nbsp;&quot;</td><td>6700</td></tr></tbody></table></div>"
      ],
      "text/plain": [
       "shape: (5, 2)\n",
       "┌────────────────────┬───────┐\n",
       "│ Nom                ┆ Prime │\n",
       "│ ---                ┆ ---   │\n",
       "│ str                ┆ i64   │\n",
       "╞════════════════════╪═══════╡\n",
       "│     Onète Marie    ┆ 17300 │\n",
       "│     Orange Jude    ┆ 11900 │\n",
       "│  Loupe Sacha       ┆ 14700 │\n",
       "│  Vire Sacha        ┆ 16600 │\n",
       "│    Lipe Sophie     ┆ 6700  │\n",
       "└────────────────────┴───────┘"
      ]
     },
     "execution_count": 3,
     "metadata": {},
     "output_type": "execute_result"
    }
   ],
   "source": [
    "tab.head()"
   ]
  },
  {
   "cell_type": "code",
   "execution_count": 5,
   "id": "87d68d85",
   "metadata": {},
   "outputs": [
    {
     "data": {
      "text/html": [
       "<div><style>\n",
       ".dataframe > thead > tr,\n",
       ".dataframe > tbody > tr {\n",
       "  text-align: right;\n",
       "  white-space: pre-wrap;\n",
       "}\n",
       "</style>\n",
       "<small>shape: (16, 1)</small><table border=\"1\" class=\"dataframe\"><thead><tr><th>Nom</th></tr><tr><td>str</td></tr></thead><tbody><tr><td>&quot;Onète Marie&quot;</td></tr><tr><td>&quot;Orange Jude&quot;</td></tr><tr><td>&quot;Loupe Sacha&quot;</td></tr><tr><td>&quot;Vire Sacha&quot;</td></tr><tr><td>&quot;Lipe Sophie&quot;</td></tr><tr><td>&hellip;</td></tr><tr><td>&quot;Feuline Laure&quot;</td></tr><tr><td>&quot;Hoquet Clara&quot;</td></tr><tr><td>&quot;Yhaubert Jean Loup&quot;</td></tr><tr><td>&quot;Kiche Loren&quot;</td></tr><tr><td>&quot;Veublouse Agathe&quot;</td></tr></tbody></table></div>"
      ],
      "text/plain": [
       "shape: (16, 1)\n",
       "┌────────────────────┐\n",
       "│ Nom                │\n",
       "│ ---                │\n",
       "│ str                │\n",
       "╞════════════════════╡\n",
       "│ Onète Marie        │\n",
       "│ Orange Jude        │\n",
       "│ Loupe Sacha        │\n",
       "│ Vire Sacha         │\n",
       "│ Lipe Sophie        │\n",
       "│ …                  │\n",
       "│ Feuline Laure      │\n",
       "│ Hoquet Clara       │\n",
       "│ Yhaubert Jean Loup │\n",
       "│ Kiche Loren        │\n",
       "│ Veublouse Agathe   │\n",
       "└────────────────────┘"
      ]
     },
     "execution_count": 5,
     "metadata": {},
     "output_type": "execute_result"
    }
   ],
   "source": [
    "tab.select(pl.col('Nom').str.strip_chars())"
   ]
  }
 ],
 "metadata": {
  "kernelspec": {
   "display_name": "Python 3",
   "language": "python",
   "name": "python3"
  },
  "language_info": {
   "codemirror_mode": {
    "name": "ipython",
    "version": 3
   },
   "file_extension": ".py",
   "mimetype": "text/x-python",
   "name": "python",
   "nbconvert_exporter": "python",
   "pygments_lexer": "ipython3",
   "version": "3.12.5"
  }
 },
 "nbformat": 4,
 "nbformat_minor": 5
}
