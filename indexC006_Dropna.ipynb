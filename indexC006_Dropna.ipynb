{
 "cells": [
  {
   "cell_type": "markdown",
   "id": "670ec5cf",
   "metadata": {},
   "source": [
    "# Dropna()\n",
    "\n",
    "L'objectif ici était de récupérer le fichier Excel Dropna dans le répertoire data afin de pouvoir supprimerr les lignes pour lesquelles on ne pouvait pas diviser.\n",
    "\n",
    "Problème avec polars : il n'est pas possible de charger ce fichier contrairement à pandas\n",
    "\n",
    "Date : 24/04/2025 <br>\n",
    "Editeur : Laurent Reynaud"
   ]
  }
 ],
 "metadata": {
  "kernelspec": {
   "display_name": "Python 3",
   "language": "python",
   "name": "python3"
  },
  "language_info": {
   "name": "python",
   "version": "3.12.5"
  }
 },
 "nbformat": 4,
 "nbformat_minor": 5
}
