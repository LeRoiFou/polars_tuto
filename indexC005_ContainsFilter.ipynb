{
 "cells": [
  {
   "cell_type": "markdown",
   "id": "83086a6d",
   "metadata": {},
   "source": [
    "# Contains() & Filter()"
   ]
  },
  {
   "cell_type": "code",
   "execution_count": 1,
   "id": "95c4bdba",
   "metadata": {},
   "outputs": [],
   "source": [
    "import polars as pl\n",
    "from skimpy import skim"
   ]
  },
  {
   "cell_type": "code",
   "execution_count": 2,
   "id": "e278931e",
   "metadata": {},
   "outputs": [],
   "source": [
    "df = pl.read_excel('data/ContainsFilter.xlsx', sheet_name='Feuil1')"
   ]
  },
  {
   "cell_type": "code",
   "execution_count": 3,
   "id": "2417fab7",
   "metadata": {},
   "outputs": [
    {
     "data": {
      "text/html": [
       "<div><style>\n",
       ".dataframe > thead > tr,\n",
       ".dataframe > tbody > tr {\n",
       "  text-align: right;\n",
       "  white-space: pre-wrap;\n",
       "}\n",
       "</style>\n",
       "<small>shape: (5, 7)</small><table border=\"1\" class=\"dataframe\"><thead><tr><th>ref</th><th>nom</th><th>prix</th><th>poids</th><th>vues</th><th>stock</th><th>code</th></tr><tr><td>str</td><td>str</td><td>f64</td><td>i64</td><td>i64</td><td>i64</td><td>i64</td></tr></thead><tbody><tr><td>&quot;3062PCN-40&quot;</td><td>&quot;Pantacourt GAEA Noir 40&quot;</td><td>32.2</td><td>350</td><td>2210</td><td>5</td><td>1</td></tr><tr><td>&quot;3062PCN-42&quot;</td><td>&quot;Pantacourt GAEA Noir 42&quot;</td><td>31.4895</td><td>350</td><td>2111</td><td>4</td><td>1</td></tr><tr><td>&quot;3062PCN-44&quot;</td><td>&quot;Pantacourt GAEA Noir 44&quot;</td><td>31.4895</td><td>350</td><td>1722</td><td>7</td><td>1</td></tr><tr><td>&quot;3062PCN-46&quot;</td><td>&quot;Pantacourt GAEA Noir 46&quot;</td><td>31.4895</td><td>350</td><td>2013</td><td>14</td><td>1</td></tr><tr><td>&quot;3062VTN-38&quot;</td><td>&quot;Veste Lin Noir PSYCHE Noir 38&quot;</td><td>37.695</td><td>350</td><td>2291</td><td>5</td><td>1</td></tr></tbody></table></div>"
      ],
      "text/plain": [
       "shape: (5, 7)\n",
       "┌────────────┬───────────────────────────────┬─────────┬───────┬──────┬───────┬──────┐\n",
       "│ ref        ┆ nom                           ┆ prix    ┆ poids ┆ vues ┆ stock ┆ code │\n",
       "│ ---        ┆ ---                           ┆ ---     ┆ ---   ┆ ---  ┆ ---   ┆ ---  │\n",
       "│ str        ┆ str                           ┆ f64     ┆ i64   ┆ i64  ┆ i64   ┆ i64  │\n",
       "╞════════════╪═══════════════════════════════╪═════════╪═══════╪══════╪═══════╪══════╡\n",
       "│ 3062PCN-40 ┆ Pantacourt GAEA Noir 40       ┆ 32.2    ┆ 350   ┆ 2210 ┆ 5     ┆ 1    │\n",
       "│ 3062PCN-42 ┆ Pantacourt GAEA Noir 42       ┆ 31.4895 ┆ 350   ┆ 2111 ┆ 4     ┆ 1    │\n",
       "│ 3062PCN-44 ┆ Pantacourt GAEA Noir 44       ┆ 31.4895 ┆ 350   ┆ 1722 ┆ 7     ┆ 1    │\n",
       "│ 3062PCN-46 ┆ Pantacourt GAEA Noir 46       ┆ 31.4895 ┆ 350   ┆ 2013 ┆ 14    ┆ 1    │\n",
       "│ 3062VTN-38 ┆ Veste Lin Noir PSYCHE Noir 38 ┆ 37.695  ┆ 350   ┆ 2291 ┆ 5     ┆ 1    │\n",
       "└────────────┴───────────────────────────────┴─────────┴───────┴──────┴───────┴──────┘"
      ]
     },
     "execution_count": 3,
     "metadata": {},
     "output_type": "execute_result"
    }
   ],
   "source": [
    "df.head()"
   ]
  },
  {
   "cell_type": "code",
   "execution_count": 4,
   "id": "be9762a7",
   "metadata": {},
   "outputs": [
    {
     "data": {
      "text/html": [
       "<pre style=\"white-space:pre;overflow-x:auto;line-height:normal;font-family:Menlo,'DejaVu Sans Mono',consolas,'Courier New',monospace\">╭──────────────────────────────────────────────── skimpy summary ─────────────────────────────────────────────────╮\n",
       "│ <span style=\"font-style: italic\">         Data Summary         </span> <span style=\"font-style: italic\">      Data Types       </span>                                                          │\n",
       "│ ┏━━━━━━━━━━━━━━━━━━━┳━━━━━━━━┓ ┏━━━━━━━━━━━━━┳━━━━━━━┓                                                          │\n",
       "│ ┃<span style=\"color: #008080; text-decoration-color: #008080; font-weight: bold\"> Dataframe         </span>┃<span style=\"color: #008080; text-decoration-color: #008080; font-weight: bold\"> Values </span>┃ ┃<span style=\"color: #008080; text-decoration-color: #008080; font-weight: bold\"> Column Type </span>┃<span style=\"color: #008080; text-decoration-color: #008080; font-weight: bold\"> Count </span>┃                                                          │\n",
       "│ ┡━━━━━━━━━━━━━━━━━━━╇━━━━━━━━┩ ┡━━━━━━━━━━━━━╇━━━━━━━┩                                                          │\n",
       "│ │ Number of rows    │ 244    │ │ int64       │ 4     │                                                          │\n",
       "│ │ Number of columns │ 7      │ │ string      │ 2     │                                                          │\n",
       "│ └───────────────────┴────────┘ │ float64     │ 1     │                                                          │\n",
       "│                                └─────────────┴───────┘                                                          │\n",
       "│ <span style=\"font-style: italic\">                                                    number                                                    </span>  │\n",
       "│ ┏━━━━━━━━━━━┳━━━━━━┳━━━━━━━━━┳━━━━━━━━━━┳━━━━━━━━━━┳━━━━━━━━┳━━━━━━━━━━┳━━━━━━━━┳━━━━━━━━┳━━━━━━━━━┳━━━━━━━━━┓  │\n",
       "│ ┃<span style=\"font-weight: bold\"> column    </span>┃<span style=\"font-weight: bold\"> NA   </span>┃<span style=\"font-weight: bold\"> NA %    </span>┃<span style=\"font-weight: bold\"> mean     </span>┃<span style=\"font-weight: bold\"> sd       </span>┃<span style=\"font-weight: bold\"> p0     </span>┃<span style=\"font-weight: bold\"> p25      </span>┃<span style=\"font-weight: bold\"> p50    </span>┃<span style=\"font-weight: bold\"> p75    </span>┃<span style=\"font-weight: bold\"> p100    </span>┃<span style=\"font-weight: bold\"> hist    </span>┃  │\n",
       "│ ┡━━━━━━━━━━━╇━━━━━━╇━━━━━━━━━╇━━━━━━━━━━╇━━━━━━━━━━╇━━━━━━━━╇━━━━━━━━━━╇━━━━━━━━╇━━━━━━━━╇━━━━━━━━━╇━━━━━━━━━┩  │\n",
       "│ │ <span style=\"color: #af87ff; text-decoration-color: #af87ff\">prix     </span> │ <span style=\"color: #008080; text-decoration-color: #008080\">   0</span> │ <span style=\"color: #008080; text-decoration-color: #008080\">      0</span> │ <span style=\"color: #008080; text-decoration-color: #008080\">   40.12</span> │ <span style=\"color: #008080; text-decoration-color: #008080\">   24.67</span> │ <span style=\"color: #008080; text-decoration-color: #008080\">  9.45</span> │ <span style=\"color: #008080; text-decoration-color: #008080\">   16.27</span> │ <span style=\"color: #008080; text-decoration-color: #008080\">  31.5</span> │ <span style=\"color: #008080; text-decoration-color: #008080\">  62.9</span> │ <span style=\"color: #008080; text-decoration-color: #008080\">  135.4</span> │ <span style=\"color: #008000; text-decoration-color: #008000\"> ▇▅▃▂  </span> │  │\n",
       "│ │ <span style=\"color: #af87ff; text-decoration-color: #af87ff\">poids    </span> │ <span style=\"color: #008080; text-decoration-color: #008080\">   0</span> │ <span style=\"color: #008080; text-decoration-color: #008080\">      0</span> │ <span style=\"color: #008080; text-decoration-color: #008080\">   439.1</span> │ <span style=\"color: #008080; text-decoration-color: #008080\">   248.4</span> │ <span style=\"color: #008080; text-decoration-color: #008080\">     0</span> │ <span style=\"color: #008080; text-decoration-color: #008080\">     300</span> │ <span style=\"color: #008080; text-decoration-color: #008080\">   350</span> │ <span style=\"color: #008080; text-decoration-color: #008080\">   500</span> │ <span style=\"color: #008080; text-decoration-color: #008080\">   1000</span> │ <span style=\"color: #008000; text-decoration-color: #008000\">▁▇▇▃ ▅ </span> │  │\n",
       "│ │ <span style=\"color: #af87ff; text-decoration-color: #af87ff\">vues     </span> │ <span style=\"color: #008080; text-decoration-color: #008080\">   0</span> │ <span style=\"color: #008080; text-decoration-color: #008080\">      0</span> │ <span style=\"color: #008080; text-decoration-color: #008080\">    3032</span> │ <span style=\"color: #008080; text-decoration-color: #008080\">    2800</span> │ <span style=\"color: #008080; text-decoration-color: #008080\">     0</span> │ <span style=\"color: #008080; text-decoration-color: #008080\">    1431</span> │ <span style=\"color: #008080; text-decoration-color: #008080\">  2281</span> │ <span style=\"color: #008080; text-decoration-color: #008080\">  3706</span> │ <span style=\"color: #008080; text-decoration-color: #008080\">  13660</span> │ <span style=\"color: #008000; text-decoration-color: #008000\"> ▇▅▂▁  </span> │  │\n",
       "│ │ <span style=\"color: #af87ff; text-decoration-color: #af87ff\">stock    </span> │ <span style=\"color: #008080; text-decoration-color: #008080\">   0</span> │ <span style=\"color: #008080; text-decoration-color: #008080\">      0</span> │ <span style=\"color: #008080; text-decoration-color: #008080\">   7.586</span> │ <span style=\"color: #008080; text-decoration-color: #008080\">   10.21</span> │ <span style=\"color: #008080; text-decoration-color: #008080\">     0</span> │ <span style=\"color: #008080; text-decoration-color: #008080\">       6</span> │ <span style=\"color: #008080; text-decoration-color: #008080\">     6</span> │ <span style=\"color: #008080; text-decoration-color: #008080\">     7</span> │ <span style=\"color: #008080; text-decoration-color: #008080\">    105</span> │ <span style=\"color: #008000; text-decoration-color: #008000\">   ▇   </span> │  │\n",
       "│ │ <span style=\"color: #af87ff; text-decoration-color: #af87ff\">code     </span> │ <span style=\"color: #008080; text-decoration-color: #008080\">   0</span> │ <span style=\"color: #008080; text-decoration-color: #008080\">      0</span> │ <span style=\"color: #008080; text-decoration-color: #008080\">       1</span> │ <span style=\"color: #008080; text-decoration-color: #008080\">       0</span> │ <span style=\"color: #008080; text-decoration-color: #008080\">     1</span> │ <span style=\"color: #008080; text-decoration-color: #008080\">       1</span> │ <span style=\"color: #008080; text-decoration-color: #008080\">     1</span> │ <span style=\"color: #008080; text-decoration-color: #008080\">     1</span> │ <span style=\"color: #008080; text-decoration-color: #008080\">      1</span> │ <span style=\"color: #008000; text-decoration-color: #008000\">    ▇  </span> │  │\n",
       "│ └───────────┴──────┴─────────┴──────────┴──────────┴────────┴──────────┴────────┴────────┴─────────┴─────────┘  │\n",
       "│ <span style=\"font-style: italic\">                                                    string                                                    </span>  │\n",
       "│ ┏━━━━━━━━┳━━━━┳━━━━━━┳━━━━━━━━━━━━┳━━━━━━━━━━━━┳━━━━━━━━━━━┳━━━━━━━━━━━━┳━━━━━━━━━━━┳━━━━━━━━━━━━┳━━━━━━━━━━━┓  │\n",
       "│ ┃<span style=\"font-weight: bold\">        </span>┃<span style=\"font-weight: bold\">    </span>┃<span style=\"font-weight: bold\">      </span>┃<span style=\"font-weight: bold\">            </span>┃<span style=\"font-weight: bold\">            </span>┃<span style=\"font-weight: bold\">           </span>┃<span style=\"font-weight: bold\">            </span>┃<span style=\"font-weight: bold\"> chars per </span>┃<span style=\"font-weight: bold\"> words per  </span>┃<span style=\"font-weight: bold\"> total     </span>┃  │\n",
       "│ ┃<span style=\"font-weight: bold\"> column </span>┃<span style=\"font-weight: bold\"> NA </span>┃<span style=\"font-weight: bold\"> NA % </span>┃<span style=\"font-weight: bold\"> shortest   </span>┃<span style=\"font-weight: bold\"> longest    </span>┃<span style=\"font-weight: bold\"> min       </span>┃<span style=\"font-weight: bold\"> max        </span>┃<span style=\"font-weight: bold\"> row       </span>┃<span style=\"font-weight: bold\"> row        </span>┃<span style=\"font-weight: bold\"> words     </span>┃  │\n",
       "│ ┡━━━━━━━━╇━━━━╇━━━━━━╇━━━━━━━━━━━━╇━━━━━━━━━━━━╇━━━━━━━━━━━╇━━━━━━━━━━━━╇━━━━━━━━━━━╇━━━━━━━━━━━━╇━━━━━━━━━━━┩  │\n",
       "│ │ <span style=\"color: #af87ff; text-decoration-color: #af87ff\">ref   </span> │ <span style=\"color: #008080; text-decoration-color: #008080\"> 0</span> │ <span style=\"color: #008080; text-decoration-color: #008080\">   0</span> │ <span style=\"color: #af87ff; text-decoration-color: #af87ff\">AB001     </span> │ <span style=\"color: #af87ff; text-decoration-color: #af87ff\">RL--07---S</span> │ <span style=\"color: #af87ff; text-decoration-color: #af87ff\">3062PCN-4</span> │ <span style=\"color: #af87ff; text-decoration-color: #af87ff\">SYD02-1010</span> │ <span style=\"color: #008080; text-decoration-color: #008080\">     10.5</span> │ <span style=\"color: #008080; text-decoration-color: #008080\">         1</span> │ <span style=\"color: #008080; text-decoration-color: #008080\">      244</span> │  │\n",
       "│ │        │    │      │            │ <span style=\"color: #af87ff; text-decoration-color: #af87ff\">-700-701-7</span> │ <span style=\"color: #af87ff; text-decoration-color: #af87ff\">0        </span> │ <span style=\"color: #af87ff; text-decoration-color: #af87ff\">-1011     </span> │           │            │           │  │\n",
       "│ │ <span style=\"color: #af87ff; text-decoration-color: #af87ff\">nom   </span> │ <span style=\"color: #008080; text-decoration-color: #008080\"> 0</span> │ <span style=\"color: #008080; text-decoration-color: #008080\">   0</span> │ <span style=\"color: #af87ff; text-decoration-color: #af87ff\">Retouche A</span> │ <span style=\"color: #af87ff; text-decoration-color: #af87ff\">Robe de   </span> │ <span style=\"color: #af87ff; text-decoration-color: #af87ff\">Aphrodite</span> │ <span style=\"color: #af87ff; text-decoration-color: #af87ff\">Veste     </span> │ <span style=\"color: #008080; text-decoration-color: #008080\">     31.6</span> │ <span style=\"color: #008080; text-decoration-color: #008080\">       5.9</span> │ <span style=\"color: #008080; text-decoration-color: #008080\">     1447</span> │  │\n",
       "│ │        │    │      │            │ <span style=\"color: #af87ff; text-decoration-color: #af87ff\">Cocktail  </span> │ <span style=\"color: #af87ff; text-decoration-color: #af87ff\">Serment  </span> │ <span style=\"color: #af87ff; text-decoration-color: #af87ff\">chinoise  </span> │           │            │           │  │\n",
       "│ │        │    │      │            │ <span style=\"color: #af87ff; text-decoration-color: #af87ff\">courte    </span> │ <span style=\"color: #af87ff; text-decoration-color: #af87ff\">d?Amour  </span> │ <span style=\"color: #af87ff; text-decoration-color: #af87ff\">noire     </span> │           │            │           │  │\n",
       "│ │        │    │      │            │ <span style=\"color: #af87ff; text-decoration-color: #af87ff\">Nuits à   </span> │ <span style=\"color: #af87ff; text-decoration-color: #af87ff\">Rouge 36 </span> │ <span style=\"color: #af87ff; text-decoration-color: #af87ff\">EPHEMERE  </span> │           │            │           │  │\n",
       "│ │        │    │      │            │ <span style=\"color: #af87ff; text-decoration-color: #af87ff\">MELBOURNE </span> │           │ <span style=\"color: #af87ff; text-decoration-color: #af87ff\">38/40     </span> │           │            │           │  │\n",
       "│ │        │    │      │            │ <span style=\"color: #af87ff; text-decoration-color: #af87ff\">-         </span> │           │            │           │            │           │  │\n",
       "│ │        │    │      │            │ <span style=\"color: #af87ff; text-decoration-color: #af87ff\">Bourgogne </span> │           │            │           │            │           │  │\n",
       "│ └────────┴────┴──────┴────────────┴────────────┴───────────┴────────────┴───────────┴────────────┴───────────┘  │\n",
       "╰────────────────────────────────────────────────────── End ──────────────────────────────────────────────────────╯\n",
       "</pre>\n"
      ],
      "text/plain": [
       "╭──────────────────────────────────────────────── skimpy summary ─────────────────────────────────────────────────╮\n",
       "│ \u001b[3m         Data Summary         \u001b[0m \u001b[3m      Data Types       \u001b[0m                                                          │\n",
       "│ ┏━━━━━━━━━━━━━━━━━━━┳━━━━━━━━┓ ┏━━━━━━━━━━━━━┳━━━━━━━┓                                                          │\n",
       "│ ┃\u001b[1;36m \u001b[0m\u001b[1;36mDataframe        \u001b[0m\u001b[1;36m \u001b[0m┃\u001b[1;36m \u001b[0m\u001b[1;36mValues\u001b[0m\u001b[1;36m \u001b[0m┃ ┃\u001b[1;36m \u001b[0m\u001b[1;36mColumn Type\u001b[0m\u001b[1;36m \u001b[0m┃\u001b[1;36m \u001b[0m\u001b[1;36mCount\u001b[0m\u001b[1;36m \u001b[0m┃                                                          │\n",
       "│ ┡━━━━━━━━━━━━━━━━━━━╇━━━━━━━━┩ ┡━━━━━━━━━━━━━╇━━━━━━━┩                                                          │\n",
       "│ │ Number of rows    │ 244    │ │ int64       │ 4     │                                                          │\n",
       "│ │ Number of columns │ 7      │ │ string      │ 2     │                                                          │\n",
       "│ └───────────────────┴────────┘ │ float64     │ 1     │                                                          │\n",
       "│                                └─────────────┴───────┘                                                          │\n",
       "│ \u001b[3m                                                    number                                                    \u001b[0m  │\n",
       "│ ┏━━━━━━━━━━━┳━━━━━━┳━━━━━━━━━┳━━━━━━━━━━┳━━━━━━━━━━┳━━━━━━━━┳━━━━━━━━━━┳━━━━━━━━┳━━━━━━━━┳━━━━━━━━━┳━━━━━━━━━┓  │\n",
       "│ ┃\u001b[1m \u001b[0m\u001b[1mcolumn   \u001b[0m\u001b[1m \u001b[0m┃\u001b[1m \u001b[0m\u001b[1mNA  \u001b[0m\u001b[1m \u001b[0m┃\u001b[1m \u001b[0m\u001b[1mNA %   \u001b[0m\u001b[1m \u001b[0m┃\u001b[1m \u001b[0m\u001b[1mmean    \u001b[0m\u001b[1m \u001b[0m┃\u001b[1m \u001b[0m\u001b[1msd      \u001b[0m\u001b[1m \u001b[0m┃\u001b[1m \u001b[0m\u001b[1mp0    \u001b[0m\u001b[1m \u001b[0m┃\u001b[1m \u001b[0m\u001b[1mp25     \u001b[0m\u001b[1m \u001b[0m┃\u001b[1m \u001b[0m\u001b[1mp50   \u001b[0m\u001b[1m \u001b[0m┃\u001b[1m \u001b[0m\u001b[1mp75   \u001b[0m\u001b[1m \u001b[0m┃\u001b[1m \u001b[0m\u001b[1mp100   \u001b[0m\u001b[1m \u001b[0m┃\u001b[1m \u001b[0m\u001b[1mhist   \u001b[0m\u001b[1m \u001b[0m┃  │\n",
       "│ ┡━━━━━━━━━━━╇━━━━━━╇━━━━━━━━━╇━━━━━━━━━━╇━━━━━━━━━━╇━━━━━━━━╇━━━━━━━━━━╇━━━━━━━━╇━━━━━━━━╇━━━━━━━━━╇━━━━━━━━━┩  │\n",
       "│ │ \u001b[38;5;141mprix     \u001b[0m │ \u001b[36m   0\u001b[0m │ \u001b[36m      0\u001b[0m │ \u001b[36m   40.12\u001b[0m │ \u001b[36m   24.67\u001b[0m │ \u001b[36m  9.45\u001b[0m │ \u001b[36m   16.27\u001b[0m │ \u001b[36m  31.5\u001b[0m │ \u001b[36m  62.9\u001b[0m │ \u001b[36m  135.4\u001b[0m │ \u001b[32m ▇▅▃▂  \u001b[0m │  │\n",
       "│ │ \u001b[38;5;141mpoids    \u001b[0m │ \u001b[36m   0\u001b[0m │ \u001b[36m      0\u001b[0m │ \u001b[36m   439.1\u001b[0m │ \u001b[36m   248.4\u001b[0m │ \u001b[36m     0\u001b[0m │ \u001b[36m     300\u001b[0m │ \u001b[36m   350\u001b[0m │ \u001b[36m   500\u001b[0m │ \u001b[36m   1000\u001b[0m │ \u001b[32m▁▇▇▃ ▅ \u001b[0m │  │\n",
       "│ │ \u001b[38;5;141mvues     \u001b[0m │ \u001b[36m   0\u001b[0m │ \u001b[36m      0\u001b[0m │ \u001b[36m    3032\u001b[0m │ \u001b[36m    2800\u001b[0m │ \u001b[36m     0\u001b[0m │ \u001b[36m    1431\u001b[0m │ \u001b[36m  2281\u001b[0m │ \u001b[36m  3706\u001b[0m │ \u001b[36m  13660\u001b[0m │ \u001b[32m ▇▅▂▁  \u001b[0m │  │\n",
       "│ │ \u001b[38;5;141mstock    \u001b[0m │ \u001b[36m   0\u001b[0m │ \u001b[36m      0\u001b[0m │ \u001b[36m   7.586\u001b[0m │ \u001b[36m   10.21\u001b[0m │ \u001b[36m     0\u001b[0m │ \u001b[36m       6\u001b[0m │ \u001b[36m     6\u001b[0m │ \u001b[36m     7\u001b[0m │ \u001b[36m    105\u001b[0m │ \u001b[32m   ▇   \u001b[0m │  │\n",
       "│ │ \u001b[38;5;141mcode     \u001b[0m │ \u001b[36m   0\u001b[0m │ \u001b[36m      0\u001b[0m │ \u001b[36m       1\u001b[0m │ \u001b[36m       0\u001b[0m │ \u001b[36m     1\u001b[0m │ \u001b[36m       1\u001b[0m │ \u001b[36m     1\u001b[0m │ \u001b[36m     1\u001b[0m │ \u001b[36m      1\u001b[0m │ \u001b[32m    ▇  \u001b[0m │  │\n",
       "│ └───────────┴──────┴─────────┴──────────┴──────────┴────────┴──────────┴────────┴────────┴─────────┴─────────┘  │\n",
       "│ \u001b[3m                                                    string                                                    \u001b[0m  │\n",
       "│ ┏━━━━━━━━┳━━━━┳━━━━━━┳━━━━━━━━━━━━┳━━━━━━━━━━━━┳━━━━━━━━━━━┳━━━━━━━━━━━━┳━━━━━━━━━━━┳━━━━━━━━━━━━┳━━━━━━━━━━━┓  │\n",
       "│ ┃\u001b[1m        \u001b[0m┃\u001b[1m    \u001b[0m┃\u001b[1m      \u001b[0m┃\u001b[1m            \u001b[0m┃\u001b[1m            \u001b[0m┃\u001b[1m           \u001b[0m┃\u001b[1m            \u001b[0m┃\u001b[1m \u001b[0m\u001b[1mchars per\u001b[0m\u001b[1m \u001b[0m┃\u001b[1m \u001b[0m\u001b[1mwords per \u001b[0m\u001b[1m \u001b[0m┃\u001b[1m \u001b[0m\u001b[1mtotal    \u001b[0m\u001b[1m \u001b[0m┃  │\n",
       "│ ┃\u001b[1m \u001b[0m\u001b[1mcolumn\u001b[0m\u001b[1m \u001b[0m┃\u001b[1m \u001b[0m\u001b[1mNA\u001b[0m\u001b[1m \u001b[0m┃\u001b[1m \u001b[0m\u001b[1mNA %\u001b[0m\u001b[1m \u001b[0m┃\u001b[1m \u001b[0m\u001b[1mshortest  \u001b[0m\u001b[1m \u001b[0m┃\u001b[1m \u001b[0m\u001b[1mlongest   \u001b[0m\u001b[1m \u001b[0m┃\u001b[1m \u001b[0m\u001b[1mmin      \u001b[0m\u001b[1m \u001b[0m┃\u001b[1m \u001b[0m\u001b[1mmax       \u001b[0m\u001b[1m \u001b[0m┃\u001b[1m \u001b[0m\u001b[1mrow      \u001b[0m\u001b[1m \u001b[0m┃\u001b[1m \u001b[0m\u001b[1mrow       \u001b[0m\u001b[1m \u001b[0m┃\u001b[1m \u001b[0m\u001b[1mwords    \u001b[0m\u001b[1m \u001b[0m┃  │\n",
       "│ ┡━━━━━━━━╇━━━━╇━━━━━━╇━━━━━━━━━━━━╇━━━━━━━━━━━━╇━━━━━━━━━━━╇━━━━━━━━━━━━╇━━━━━━━━━━━╇━━━━━━━━━━━━╇━━━━━━━━━━━┩  │\n",
       "│ │ \u001b[38;5;141mref   \u001b[0m │ \u001b[36m 0\u001b[0m │ \u001b[36m   0\u001b[0m │ \u001b[38;5;141mAB001     \u001b[0m │ \u001b[38;5;141mRL--07---S\u001b[0m │ \u001b[38;5;141m3062PCN-4\u001b[0m │ \u001b[38;5;141mSYD02-1010\u001b[0m │ \u001b[36m     10.5\u001b[0m │ \u001b[36m         1\u001b[0m │ \u001b[36m      244\u001b[0m │  │\n",
       "│ │        │    │      │            │ \u001b[38;5;141m-700-701-7\u001b[0m │ \u001b[38;5;141m0        \u001b[0m │ \u001b[38;5;141m-1011     \u001b[0m │           │            │           │  │\n",
       "│ │ \u001b[38;5;141mnom   \u001b[0m │ \u001b[36m 0\u001b[0m │ \u001b[36m   0\u001b[0m │ \u001b[38;5;141mRetouche A\u001b[0m │ \u001b[38;5;141mRobe de   \u001b[0m │ \u001b[38;5;141mAphrodite\u001b[0m │ \u001b[38;5;141mVeste     \u001b[0m │ \u001b[36m     31.6\u001b[0m │ \u001b[36m       5.9\u001b[0m │ \u001b[36m     1447\u001b[0m │  │\n",
       "│ │        │    │      │            │ \u001b[38;5;141mCocktail  \u001b[0m │ \u001b[38;5;141mSerment  \u001b[0m │ \u001b[38;5;141mchinoise  \u001b[0m │           │            │           │  │\n",
       "│ │        │    │      │            │ \u001b[38;5;141mcourte    \u001b[0m │ \u001b[38;5;141md?Amour  \u001b[0m │ \u001b[38;5;141mnoire     \u001b[0m │           │            │           │  │\n",
       "│ │        │    │      │            │ \u001b[38;5;141mNuits à   \u001b[0m │ \u001b[38;5;141mRouge 36 \u001b[0m │ \u001b[38;5;141mEPHEMERE  \u001b[0m │           │            │           │  │\n",
       "│ │        │    │      │            │ \u001b[38;5;141mMELBOURNE \u001b[0m │           │ \u001b[38;5;141m38/40     \u001b[0m │           │            │           │  │\n",
       "│ │        │    │      │            │ \u001b[38;5;141m-         \u001b[0m │           │            │           │            │           │  │\n",
       "│ │        │    │      │            │ \u001b[38;5;141mBourgogne \u001b[0m │           │            │           │            │           │  │\n",
       "│ └────────┴────┴──────┴────────────┴────────────┴───────────┴────────────┴───────────┴────────────┴───────────┘  │\n",
       "╰────────────────────────────────────────────────────── End ──────────────────────────────────────────────────────╯\n"
      ]
     },
     "metadata": {},
     "output_type": "display_data"
    }
   ],
   "source": [
    "skim(df)"
   ]
  },
  {
   "cell_type": "markdown",
   "id": "a29d87b1",
   "metadata": {},
   "source": [
    "## Assignation de critères de recherches"
   ]
  },
  {
   "cell_type": "code",
   "execution_count": 5,
   "id": "f7092ab1",
   "metadata": {},
   "outputs": [],
   "source": [
    "cr1 = 'Escarpins'"
   ]
  },
  {
   "cell_type": "code",
   "execution_count": 6,
   "id": "6b663a5e",
   "metadata": {},
   "outputs": [],
   "source": [
    "cr2 = 'Mocassins'"
   ]
  },
  {
   "cell_type": "code",
   "execution_count": 7,
   "id": "54d13b9d",
   "metadata": {},
   "outputs": [],
   "source": [
    "cr3 = 100 # prix"
   ]
  },
  {
   "cell_type": "markdown",
   "id": "40073ba0",
   "metadata": {},
   "source": [
    "## DF contenant les critères ci-avant avec un trie par prix par ordre croissant"
   ]
  },
  {
   "cell_type": "code",
   "execution_count": 8,
   "id": "6d71be92",
   "metadata": {},
   "outputs": [
    {
     "data": {
      "text/html": [
       "<div><style>\n",
       ".dataframe > thead > tr,\n",
       ".dataframe > tbody > tr {\n",
       "  text-align: right;\n",
       "  white-space: pre-wrap;\n",
       "}\n",
       "</style>\n",
       "<small>shape: (6, 7)</small><table border=\"1\" class=\"dataframe\"><thead><tr><th>ref</th><th>nom</th><th>prix</th><th>poids</th><th>vues</th><th>stock</th><th>code</th></tr><tr><td>str</td><td>str</td><td>f64</td><td>i64</td><td>i64</td><td>i64</td><td>i64</td></tr></thead><tbody><tr><td>&quot;CHAER-MOCB-0006&quot;</td><td>&quot;Mocassins AEROSOLES - Bronze&quot;</td><td>40.95</td><td>1000</td><td>201</td><td>5</td><td>1</td></tr><tr><td>&quot;CHAER-PRCLB-0002&quot;</td><td>&quot;Mocassins AEROSOLES - SWEET AS…</td><td>40.95</td><td>1000</td><td>224</td><td>4</td><td>1</td></tr><tr><td>&quot;CHAER-PRCLB-0003&quot;</td><td>&quot;Mocassins AEROSOLES - Private …</td><td>40.95</td><td>1000</td><td>224</td><td>5</td><td>1</td></tr><tr><td>&quot;CHAER-HANB-0004&quot;</td><td>&quot;Escarpins Cuir AEROSOLES - Han…</td><td>48.195</td><td>1000</td><td>287</td><td>3</td><td>1</td></tr><tr><td>&quot;CHAER-ESBAN-0009&quot;</td><td>&quot;Escarpins Cuir AEROSOLES - Bab…</td><td>62.895</td><td>1000</td><td>355</td><td>6</td><td>1</td></tr><tr><td>&quot;CHAER-ESBAR-0010&quot;</td><td>&quot;Escarpins Cuir AEROSOLES - Bab…</td><td>62.895</td><td>1000</td><td>283</td><td>6</td><td>1</td></tr></tbody></table></div>"
      ],
      "text/plain": [
       "shape: (6, 7)\n",
       "┌──────────────────┬─────────────────────────────────┬────────┬───────┬──────┬───────┬──────┐\n",
       "│ ref              ┆ nom                             ┆ prix   ┆ poids ┆ vues ┆ stock ┆ code │\n",
       "│ ---              ┆ ---                             ┆ ---    ┆ ---   ┆ ---  ┆ ---   ┆ ---  │\n",
       "│ str              ┆ str                             ┆ f64    ┆ i64   ┆ i64  ┆ i64   ┆ i64  │\n",
       "╞══════════════════╪═════════════════════════════════╪════════╪═══════╪══════╪═══════╪══════╡\n",
       "│ CHAER-MOCB-0006  ┆ Mocassins AEROSOLES - Bronze    ┆ 40.95  ┆ 1000  ┆ 201  ┆ 5     ┆ 1    │\n",
       "│ CHAER-PRCLB-0002 ┆ Mocassins AEROSOLES - SWEET AS… ┆ 40.95  ┆ 1000  ┆ 224  ┆ 4     ┆ 1    │\n",
       "│ CHAER-PRCLB-0003 ┆ Mocassins AEROSOLES - Private … ┆ 40.95  ┆ 1000  ┆ 224  ┆ 5     ┆ 1    │\n",
       "│ CHAER-HANB-0004  ┆ Escarpins Cuir AEROSOLES - Han… ┆ 48.195 ┆ 1000  ┆ 287  ┆ 3     ┆ 1    │\n",
       "│ CHAER-ESBAN-0009 ┆ Escarpins Cuir AEROSOLES - Bab… ┆ 62.895 ┆ 1000  ┆ 355  ┆ 6     ┆ 1    │\n",
       "│ CHAER-ESBAR-0010 ┆ Escarpins Cuir AEROSOLES - Bab… ┆ 62.895 ┆ 1000  ┆ 283  ┆ 6     ┆ 1    │\n",
       "└──────────────────┴─────────────────────────────────┴────────┴───────┴──────┴───────┴──────┘"
      ]
     },
     "execution_count": 8,
     "metadata": {},
     "output_type": "execute_result"
    }
   ],
   "source": [
    "df.filter(((pl.col('nom').str.contains(cr1))\n",
    "          | (pl.col('nom').str.contains(cr2)))\n",
    "          & (pl.col('prix') <= cr3)).sort(by='prix', descending=False)"
   ]
  }
 ],
 "metadata": {
  "kernelspec": {
   "display_name": "Python 3",
   "language": "python",
   "name": "python3"
  },
  "language_info": {
   "codemirror_mode": {
    "name": "ipython",
    "version": 3
   },
   "file_extension": ".py",
   "mimetype": "text/x-python",
   "name": "python",
   "nbconvert_exporter": "python",
   "pygments_lexer": "ipython3",
   "version": "3.12.5"
  }
 },
 "nbformat": 4,
 "nbformat_minor": 5
}
