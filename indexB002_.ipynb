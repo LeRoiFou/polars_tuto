{
 "cells": [
  {
   "cell_type": "markdown",
   "metadata": {},
   "source": [
    "[Learning the Polars DataFrame Library!](https://www.youtube.com/watch?v=OTVDmA6CRlQ)\n",
    "\n",
    "[00:29:10]\n",
    "\n",
    "Date : "
   ]
  }
 ],
 "metadata": {
  "language_info": {
   "name": "python"
  }
 },
 "nbformat": 4,
 "nbformat_minor": 2
}
