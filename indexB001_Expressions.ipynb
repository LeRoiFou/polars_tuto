{
 "cells": [
  {
   "cell_type": "markdown",
   "metadata": {},
   "source": [
    "[Learning the Polars DataFrame Library!](https://www.youtube.com/watch?v=OTVDmA6CRlQ)\n",
    "\n",
    "Les expressions : sélection, filtre...\n",
    "\n",
    "Date : 06/02/25"
   ]
  },
  {
   "cell_type": "code",
   "execution_count": 1,
   "metadata": {},
   "outputs": [],
   "source": [
    "import polars as pl\n",
    "from skimpy import skim"
   ]
  },
  {
   "cell_type": "code",
   "execution_count": 2,
   "metadata": {},
   "outputs": [],
   "source": [
    "pokemon = pl.read_csv('data/pokemon_data.csv')"
   ]
  },
  {
   "cell_type": "code",
   "execution_count": 3,
   "metadata": {},
   "outputs": [
    {
     "data": {
      "text/html": [
       "<div><style>\n",
       ".dataframe > thead > tr,\n",
       ".dataframe > tbody > tr {\n",
       "  text-align: right;\n",
       "  white-space: pre-wrap;\n",
       "}\n",
       "</style>\n",
       "<small>shape: (5, 12)</small><table border=\"1\" class=\"dataframe\"><thead><tr><th>#</th><th>Name</th><th>Type 1</th><th>Type 2</th><th>HP</th><th>Attack</th><th>Defense</th><th>Sp. Atk</th><th>Sp. Def</th><th>Speed</th><th>Generation</th><th>Legendary</th></tr><tr><td>i64</td><td>str</td><td>str</td><td>str</td><td>i64</td><td>i64</td><td>i64</td><td>i64</td><td>i64</td><td>i64</td><td>i64</td><td>bool</td></tr></thead><tbody><tr><td>1</td><td>&quot;Bulbasaur&quot;</td><td>&quot;Grass&quot;</td><td>&quot;Poison&quot;</td><td>45</td><td>49</td><td>49</td><td>65</td><td>65</td><td>45</td><td>1</td><td>false</td></tr><tr><td>2</td><td>&quot;Ivysaur&quot;</td><td>&quot;Grass&quot;</td><td>&quot;Poison&quot;</td><td>60</td><td>62</td><td>63</td><td>80</td><td>80</td><td>60</td><td>1</td><td>false</td></tr><tr><td>3</td><td>&quot;Venusaur&quot;</td><td>&quot;Grass&quot;</td><td>&quot;Poison&quot;</td><td>80</td><td>82</td><td>83</td><td>100</td><td>100</td><td>80</td><td>1</td><td>false</td></tr><tr><td>3</td><td>&quot;VenusaurMega Venusaur&quot;</td><td>&quot;Grass&quot;</td><td>&quot;Poison&quot;</td><td>80</td><td>100</td><td>123</td><td>122</td><td>120</td><td>80</td><td>1</td><td>false</td></tr><tr><td>4</td><td>&quot;Charmander&quot;</td><td>&quot;Fire&quot;</td><td>null</td><td>39</td><td>52</td><td>43</td><td>60</td><td>50</td><td>65</td><td>1</td><td>false</td></tr></tbody></table></div>"
      ],
      "text/plain": [
       "shape: (5, 12)\n",
       "┌─────┬───────────────────────┬────────┬────────┬───┬─────────┬───────┬────────────┬───────────┐\n",
       "│ #   ┆ Name                  ┆ Type 1 ┆ Type 2 ┆ … ┆ Sp. Def ┆ Speed ┆ Generation ┆ Legendary │\n",
       "│ --- ┆ ---                   ┆ ---    ┆ ---    ┆   ┆ ---     ┆ ---   ┆ ---        ┆ ---       │\n",
       "│ i64 ┆ str                   ┆ str    ┆ str    ┆   ┆ i64     ┆ i64   ┆ i64        ┆ bool      │\n",
       "╞═════╪═══════════════════════╪════════╪════════╪═══╪═════════╪═══════╪════════════╪═══════════╡\n",
       "│ 1   ┆ Bulbasaur             ┆ Grass  ┆ Poison ┆ … ┆ 65      ┆ 45    ┆ 1          ┆ false     │\n",
       "│ 2   ┆ Ivysaur               ┆ Grass  ┆ Poison ┆ … ┆ 80      ┆ 60    ┆ 1          ┆ false     │\n",
       "│ 3   ┆ Venusaur              ┆ Grass  ┆ Poison ┆ … ┆ 100     ┆ 80    ┆ 1          ┆ false     │\n",
       "│ 3   ┆ VenusaurMega Venusaur ┆ Grass  ┆ Poison ┆ … ┆ 120     ┆ 80    ┆ 1          ┆ false     │\n",
       "│ 4   ┆ Charmander            ┆ Fire   ┆ null   ┆ … ┆ 50      ┆ 65    ┆ 1          ┆ false     │\n",
       "└─────┴───────────────────────┴────────┴────────┴───┴─────────┴───────┴────────────┴───────────┘"
      ]
     },
     "execution_count": 3,
     "metadata": {},
     "output_type": "execute_result"
    }
   ],
   "source": [
    "pokemon.head()"
   ]
  },
  {
   "cell_type": "code",
   "execution_count": 4,
   "metadata": {},
   "outputs": [
    {
     "data": {
      "text/html": [
       "<pre style=\"white-space:pre;overflow-x:auto;line-height:normal;font-family:Menlo,'DejaVu Sans Mono',consolas,'Courier New',monospace\">╭──────────────────────────────────────────────── skimpy summary ─────────────────────────────────────────────────╮\n",
       "│ <span style=\"font-style: italic\">         Data Summary         </span> <span style=\"font-style: italic\">      Data Types       </span>                                                          │\n",
       "│ ┏━━━━━━━━━━━━━━━━━━━┳━━━━━━━━┓ ┏━━━━━━━━━━━━━┳━━━━━━━┓                                                          │\n",
       "│ ┃<span style=\"color: #008080; text-decoration-color: #008080; font-weight: bold\"> dataframe         </span>┃<span style=\"color: #008080; text-decoration-color: #008080; font-weight: bold\"> Values </span>┃ ┃<span style=\"color: #008080; text-decoration-color: #008080; font-weight: bold\"> Column Type </span>┃<span style=\"color: #008080; text-decoration-color: #008080; font-weight: bold\"> Count </span>┃                                                          │\n",
       "│ ┡━━━━━━━━━━━━━━━━━━━╇━━━━━━━━┩ ┡━━━━━━━━━━━━━╇━━━━━━━┩                                                          │\n",
       "│ │ Number of rows    │ 800    │ │ int32       │ 8     │                                                          │\n",
       "│ │ Number of columns │ 12     │ │ string      │ 3     │                                                          │\n",
       "│ └───────────────────┴────────┘ │ bool        │ 1     │                                                          │\n",
       "│                                └─────────────┴───────┘                                                          │\n",
       "│ <span style=\"font-style: italic\">                                                    number                                                    </span>  │\n",
       "│ ┏━━━━━━━━━━━━━━━━━┳━━━━━━┳━━━━━━━━┳━━━━━━━━━┳━━━━━━━━━┳━━━━━━┳━━━━━━━━━┳━━━━━━━━━┳━━━━━━━━━┳━━━━━━━┳━━━━━━━━━┓  │\n",
       "│ ┃<span style=\"font-weight: bold\"> column_name     </span>┃<span style=\"font-weight: bold\"> NA   </span>┃<span style=\"font-weight: bold\"> NA %   </span>┃<span style=\"font-weight: bold\"> mean    </span>┃<span style=\"font-weight: bold\"> sd      </span>┃<span style=\"font-weight: bold\"> p0   </span>┃<span style=\"font-weight: bold\"> p25     </span>┃<span style=\"font-weight: bold\"> p50     </span>┃<span style=\"font-weight: bold\"> p75     </span>┃<span style=\"font-weight: bold\"> p100  </span>┃<span style=\"font-weight: bold\"> hist    </span>┃  │\n",
       "│ ┡━━━━━━━━━━━━━━━━━╇━━━━━━╇━━━━━━━━╇━━━━━━━━━╇━━━━━━━━━╇━━━━━━╇━━━━━━━━━╇━━━━━━━━━╇━━━━━━━━━╇━━━━━━━╇━━━━━━━━━┩  │\n",
       "│ │ <span style=\"color: #af87ff; text-decoration-color: #af87ff\">#              </span> │ <span style=\"color: #008080; text-decoration-color: #008080\">   0</span> │ <span style=\"color: #008080; text-decoration-color: #008080\">     0</span> │ <span style=\"color: #008080; text-decoration-color: #008080\">  362.8</span> │ <span style=\"color: #008080; text-decoration-color: #008080\">  208.3</span> │ <span style=\"color: #008080; text-decoration-color: #008080\">   1</span> │ <span style=\"color: #008080; text-decoration-color: #008080\">  184.8</span> │ <span style=\"color: #008080; text-decoration-color: #008080\">  364.5</span> │ <span style=\"color: #008080; text-decoration-color: #008080\">  539.2</span> │ <span style=\"color: #008080; text-decoration-color: #008080\">  721</span> │ <span style=\"color: #008000; text-decoration-color: #008000\">▇▇▇▇▇▇ </span> │  │\n",
       "│ │ <span style=\"color: #af87ff; text-decoration-color: #af87ff\">HP             </span> │ <span style=\"color: #008080; text-decoration-color: #008080\">   0</span> │ <span style=\"color: #008080; text-decoration-color: #008080\">     0</span> │ <span style=\"color: #008080; text-decoration-color: #008080\">  69.26</span> │ <span style=\"color: #008080; text-decoration-color: #008080\">  25.53</span> │ <span style=\"color: #008080; text-decoration-color: #008080\">   1</span> │ <span style=\"color: #008080; text-decoration-color: #008080\">     50</span> │ <span style=\"color: #008080; text-decoration-color: #008080\">     65</span> │ <span style=\"color: #008080; text-decoration-color: #008080\">     80</span> │ <span style=\"color: #008080; text-decoration-color: #008080\">  255</span> │ <span style=\"color: #008000; text-decoration-color: #008000\">  ▁▇▂  </span> │  │\n",
       "│ │ <span style=\"color: #af87ff; text-decoration-color: #af87ff\">Attack         </span> │ <span style=\"color: #008080; text-decoration-color: #008080\">   0</span> │ <span style=\"color: #008080; text-decoration-color: #008080\">     0</span> │ <span style=\"color: #008080; text-decoration-color: #008080\">     79</span> │ <span style=\"color: #008080; text-decoration-color: #008080\">  32.46</span> │ <span style=\"color: #008080; text-decoration-color: #008080\">   5</span> │ <span style=\"color: #008080; text-decoration-color: #008080\">     55</span> │ <span style=\"color: #008080; text-decoration-color: #008080\">     75</span> │ <span style=\"color: #008080; text-decoration-color: #008080\">    100</span> │ <span style=\"color: #008080; text-decoration-color: #008080\">  190</span> │ <span style=\"color: #008000; text-decoration-color: #008000\"> ▂▇▇▅▂ </span> │  │\n",
       "│ │ <span style=\"color: #af87ff; text-decoration-color: #af87ff\">Defense        </span> │ <span style=\"color: #008080; text-decoration-color: #008080\">   0</span> │ <span style=\"color: #008080; text-decoration-color: #008080\">     0</span> │ <span style=\"color: #008080; text-decoration-color: #008080\">  73.84</span> │ <span style=\"color: #008080; text-decoration-color: #008080\">  31.18</span> │ <span style=\"color: #008080; text-decoration-color: #008080\">   5</span> │ <span style=\"color: #008080; text-decoration-color: #008080\">     50</span> │ <span style=\"color: #008080; text-decoration-color: #008080\">     70</span> │ <span style=\"color: #008080; text-decoration-color: #008080\">     90</span> │ <span style=\"color: #008080; text-decoration-color: #008080\">  230</span> │ <span style=\"color: #008000; text-decoration-color: #008000\"> ▂▇▅▁  </span> │  │\n",
       "│ │ <span style=\"color: #af87ff; text-decoration-color: #af87ff\">Sp. Atk        </span> │ <span style=\"color: #008080; text-decoration-color: #008080\">   0</span> │ <span style=\"color: #008080; text-decoration-color: #008080\">     0</span> │ <span style=\"color: #008080; text-decoration-color: #008080\">  72.82</span> │ <span style=\"color: #008080; text-decoration-color: #008080\">  32.72</span> │ <span style=\"color: #008080; text-decoration-color: #008080\">  10</span> │ <span style=\"color: #008080; text-decoration-color: #008080\">  49.75</span> │ <span style=\"color: #008080; text-decoration-color: #008080\">     65</span> │ <span style=\"color: #008080; text-decoration-color: #008080\">     95</span> │ <span style=\"color: #008080; text-decoration-color: #008080\">  194</span> │ <span style=\"color: #008000; text-decoration-color: #008000\"> ▃▇▅▃▁ </span> │  │\n",
       "│ │ <span style=\"color: #af87ff; text-decoration-color: #af87ff\">Sp. Def        </span> │ <span style=\"color: #008080; text-decoration-color: #008080\">   0</span> │ <span style=\"color: #008080; text-decoration-color: #008080\">     0</span> │ <span style=\"color: #008080; text-decoration-color: #008080\">   71.9</span> │ <span style=\"color: #008080; text-decoration-color: #008080\">  27.83</span> │ <span style=\"color: #008080; text-decoration-color: #008080\">  20</span> │ <span style=\"color: #008080; text-decoration-color: #008080\">     50</span> │ <span style=\"color: #008080; text-decoration-color: #008080\">     70</span> │ <span style=\"color: #008080; text-decoration-color: #008080\">     90</span> │ <span style=\"color: #008080; text-decoration-color: #008080\">  230</span> │ <span style=\"color: #008000; text-decoration-color: #008000\"> ▅▇▃▁  </span> │  │\n",
       "│ │ <span style=\"color: #af87ff; text-decoration-color: #af87ff\">Speed          </span> │ <span style=\"color: #008080; text-decoration-color: #008080\">   0</span> │ <span style=\"color: #008080; text-decoration-color: #008080\">     0</span> │ <span style=\"color: #008080; text-decoration-color: #008080\">  68.28</span> │ <span style=\"color: #008080; text-decoration-color: #008080\">  29.06</span> │ <span style=\"color: #008080; text-decoration-color: #008080\">   5</span> │ <span style=\"color: #008080; text-decoration-color: #008080\">     45</span> │ <span style=\"color: #008080; text-decoration-color: #008080\">     65</span> │ <span style=\"color: #008080; text-decoration-color: #008080\">     90</span> │ <span style=\"color: #008080; text-decoration-color: #008080\">  180</span> │ <span style=\"color: #008000; text-decoration-color: #008000\"> ▃▇▇▅▁ </span> │  │\n",
       "│ │ <span style=\"color: #af87ff; text-decoration-color: #af87ff\">Generation     </span> │ <span style=\"color: #008080; text-decoration-color: #008080\">   0</span> │ <span style=\"color: #008080; text-decoration-color: #008080\">     0</span> │ <span style=\"color: #008080; text-decoration-color: #008080\">  3.324</span> │ <span style=\"color: #008080; text-decoration-color: #008080\">  1.661</span> │ <span style=\"color: #008080; text-decoration-color: #008080\">   1</span> │ <span style=\"color: #008080; text-decoration-color: #008080\">      2</span> │ <span style=\"color: #008080; text-decoration-color: #008080\">      3</span> │ <span style=\"color: #008080; text-decoration-color: #008080\">      5</span> │ <span style=\"color: #008080; text-decoration-color: #008080\">    6</span> │ <span style=\"color: #008000; text-decoration-color: #008000\">▇▅▇▆▇▃ </span> │  │\n",
       "│ └─────────────────┴──────┴────────┴─────────┴─────────┴──────┴─────────┴─────────┴─────────┴───────┴─────────┘  │\n",
       "│ <span style=\"font-style: italic\">                                                     bool                                                     </span>  │\n",
       "│ ┏━━━━━━━━━━━━━━━━━━━━━━━━━━━━━━━━━━━━┳━━━━━━━━━━━━━━━━━┳━━━━━━━━━━━━━━━━━━━━━━━━━━━━━━━┳━━━━━━━━━━━━━━━━━━━━━┓  │\n",
       "│ ┃<span style=\"font-weight: bold\"> column_name                        </span>┃<span style=\"font-weight: bold\"> true            </span>┃<span style=\"font-weight: bold\"> true rate                     </span>┃<span style=\"font-weight: bold\"> hist                </span>┃  │\n",
       "│ ┡━━━━━━━━━━━━━━━━━━━━━━━━━━━━━━━━━━━━╇━━━━━━━━━━━━━━━━━╇━━━━━━━━━━━━━━━━━━━━━━━━━━━━━━━╇━━━━━━━━━━━━━━━━━━━━━┩  │\n",
       "│ │ <span style=\"color: #af87ff; text-decoration-color: #af87ff\">Legendary                         </span> │ <span style=\"color: #008080; text-decoration-color: #008080\">             65</span> │ <span style=\"color: #008080; text-decoration-color: #008080\">                        0.081</span> │ <span style=\"color: #008000; text-decoration-color: #008000\">      ▇    ▁       </span> │  │\n",
       "│ └────────────────────────────────────┴─────────────────┴───────────────────────────────┴─────────────────────┘  │\n",
       "│ <span style=\"font-style: italic\">                                                    string                                                    </span>  │\n",
       "│ ┏━━━━━━━━━━━━━━━━━━━━━━━━━━┳━━━━━━━━━━┳━━━━━━━━━━━━━━┳━━━━━━━━━━━━━━━━━━━━━━━━━━━━━┳━━━━━━━━━━━━━━━━━━━━━━━━━┓  │\n",
       "│ ┃<span style=\"font-weight: bold\"> column_name              </span>┃<span style=\"font-weight: bold\"> NA       </span>┃<span style=\"font-weight: bold\"> NA %         </span>┃<span style=\"font-weight: bold\"> words per row               </span>┃<span style=\"font-weight: bold\"> total words             </span>┃  │\n",
       "│ ┡━━━━━━━━━━━━━━━━━━━━━━━━━━╇━━━━━━━━━━╇━━━━━━━━━━━━━━╇━━━━━━━━━━━━━━━━━━━━━━━━━━━━━╇━━━━━━━━━━━━━━━━━━━━━━━━━┩  │\n",
       "│ │ <span style=\"color: #af87ff; text-decoration-color: #af87ff\">Name                    </span> │ <span style=\"color: #008080; text-decoration-color: #008080\">       0</span> │ <span style=\"color: #008080; text-decoration-color: #008080\">           0</span> │ <span style=\"color: #008080; text-decoration-color: #008080\">                        1.1</span> │ <span style=\"color: #008080; text-decoration-color: #008080\">                    901</span> │  │\n",
       "│ │ <span style=\"color: #af87ff; text-decoration-color: #af87ff\">Type 1                  </span> │ <span style=\"color: #008080; text-decoration-color: #008080\">       0</span> │ <span style=\"color: #008080; text-decoration-color: #008080\">           0</span> │ <span style=\"color: #008080; text-decoration-color: #008080\">                          1</span> │ <span style=\"color: #008080; text-decoration-color: #008080\">                    800</span> │  │\n",
       "│ │ <span style=\"color: #af87ff; text-decoration-color: #af87ff\">Type 2                  </span> │ <span style=\"color: #008080; text-decoration-color: #008080\">     386</span> │ <span style=\"color: #008080; text-decoration-color: #008080\">       48.25</span> │ <span style=\"color: #008080; text-decoration-color: #008080\">                       0.52</span> │ <span style=\"color: #008080; text-decoration-color: #008080\">                    414</span> │  │\n",
       "│ └──────────────────────────┴──────────┴──────────────┴─────────────────────────────┴─────────────────────────┘  │\n",
       "╰────────────────────────────────────────────────────── End ──────────────────────────────────────────────────────╯\n",
       "</pre>\n"
      ],
      "text/plain": [
       "╭──────────────────────────────────────────────── skimpy summary ─────────────────────────────────────────────────╮\n",
       "│ \u001b[3m         Data Summary         \u001b[0m \u001b[3m      Data Types       \u001b[0m                                                          │\n",
       "│ ┏━━━━━━━━━━━━━━━━━━━┳━━━━━━━━┓ ┏━━━━━━━━━━━━━┳━━━━━━━┓                                                          │\n",
       "│ ┃\u001b[1;36m \u001b[0m\u001b[1;36mdataframe        \u001b[0m\u001b[1;36m \u001b[0m┃\u001b[1;36m \u001b[0m\u001b[1;36mValues\u001b[0m\u001b[1;36m \u001b[0m┃ ┃\u001b[1;36m \u001b[0m\u001b[1;36mColumn Type\u001b[0m\u001b[1;36m \u001b[0m┃\u001b[1;36m \u001b[0m\u001b[1;36mCount\u001b[0m\u001b[1;36m \u001b[0m┃                                                          │\n",
       "│ ┡━━━━━━━━━━━━━━━━━━━╇━━━━━━━━┩ ┡━━━━━━━━━━━━━╇━━━━━━━┩                                                          │\n",
       "│ │ Number of rows    │ 800    │ │ int32       │ 8     │                                                          │\n",
       "│ │ Number of columns │ 12     │ │ string      │ 3     │                                                          │\n",
       "│ └───────────────────┴────────┘ │ bool        │ 1     │                                                          │\n",
       "│                                └─────────────┴───────┘                                                          │\n",
       "│ \u001b[3m                                                    number                                                    \u001b[0m  │\n",
       "│ ┏━━━━━━━━━━━━━━━━━┳━━━━━━┳━━━━━━━━┳━━━━━━━━━┳━━━━━━━━━┳━━━━━━┳━━━━━━━━━┳━━━━━━━━━┳━━━━━━━━━┳━━━━━━━┳━━━━━━━━━┓  │\n",
       "│ ┃\u001b[1m \u001b[0m\u001b[1mcolumn_name    \u001b[0m\u001b[1m \u001b[0m┃\u001b[1m \u001b[0m\u001b[1mNA  \u001b[0m\u001b[1m \u001b[0m┃\u001b[1m \u001b[0m\u001b[1mNA %  \u001b[0m\u001b[1m \u001b[0m┃\u001b[1m \u001b[0m\u001b[1mmean   \u001b[0m\u001b[1m \u001b[0m┃\u001b[1m \u001b[0m\u001b[1msd     \u001b[0m\u001b[1m \u001b[0m┃\u001b[1m \u001b[0m\u001b[1mp0  \u001b[0m\u001b[1m \u001b[0m┃\u001b[1m \u001b[0m\u001b[1mp25    \u001b[0m\u001b[1m \u001b[0m┃\u001b[1m \u001b[0m\u001b[1mp50    \u001b[0m\u001b[1m \u001b[0m┃\u001b[1m \u001b[0m\u001b[1mp75    \u001b[0m\u001b[1m \u001b[0m┃\u001b[1m \u001b[0m\u001b[1mp100 \u001b[0m\u001b[1m \u001b[0m┃\u001b[1m \u001b[0m\u001b[1mhist   \u001b[0m\u001b[1m \u001b[0m┃  │\n",
       "│ ┡━━━━━━━━━━━━━━━━━╇━━━━━━╇━━━━━━━━╇━━━━━━━━━╇━━━━━━━━━╇━━━━━━╇━━━━━━━━━╇━━━━━━━━━╇━━━━━━━━━╇━━━━━━━╇━━━━━━━━━┩  │\n",
       "│ │ \u001b[38;5;141m#              \u001b[0m │ \u001b[36m   0\u001b[0m │ \u001b[36m     0\u001b[0m │ \u001b[36m  362.8\u001b[0m │ \u001b[36m  208.3\u001b[0m │ \u001b[36m   1\u001b[0m │ \u001b[36m  184.8\u001b[0m │ \u001b[36m  364.5\u001b[0m │ \u001b[36m  539.2\u001b[0m │ \u001b[36m  721\u001b[0m │ \u001b[32m▇▇▇▇▇▇ \u001b[0m │  │\n",
       "│ │ \u001b[38;5;141mHP             \u001b[0m │ \u001b[36m   0\u001b[0m │ \u001b[36m     0\u001b[0m │ \u001b[36m  69.26\u001b[0m │ \u001b[36m  25.53\u001b[0m │ \u001b[36m   1\u001b[0m │ \u001b[36m     50\u001b[0m │ \u001b[36m     65\u001b[0m │ \u001b[36m     80\u001b[0m │ \u001b[36m  255\u001b[0m │ \u001b[32m  ▁▇▂  \u001b[0m │  │\n",
       "│ │ \u001b[38;5;141mAttack         \u001b[0m │ \u001b[36m   0\u001b[0m │ \u001b[36m     0\u001b[0m │ \u001b[36m     79\u001b[0m │ \u001b[36m  32.46\u001b[0m │ \u001b[36m   5\u001b[0m │ \u001b[36m     55\u001b[0m │ \u001b[36m     75\u001b[0m │ \u001b[36m    100\u001b[0m │ \u001b[36m  190\u001b[0m │ \u001b[32m ▂▇▇▅▂ \u001b[0m │  │\n",
       "│ │ \u001b[38;5;141mDefense        \u001b[0m │ \u001b[36m   0\u001b[0m │ \u001b[36m     0\u001b[0m │ \u001b[36m  73.84\u001b[0m │ \u001b[36m  31.18\u001b[0m │ \u001b[36m   5\u001b[0m │ \u001b[36m     50\u001b[0m │ \u001b[36m     70\u001b[0m │ \u001b[36m     90\u001b[0m │ \u001b[36m  230\u001b[0m │ \u001b[32m ▂▇▅▁  \u001b[0m │  │\n",
       "│ │ \u001b[38;5;141mSp. Atk        \u001b[0m │ \u001b[36m   0\u001b[0m │ \u001b[36m     0\u001b[0m │ \u001b[36m  72.82\u001b[0m │ \u001b[36m  32.72\u001b[0m │ \u001b[36m  10\u001b[0m │ \u001b[36m  49.75\u001b[0m │ \u001b[36m     65\u001b[0m │ \u001b[36m     95\u001b[0m │ \u001b[36m  194\u001b[0m │ \u001b[32m ▃▇▅▃▁ \u001b[0m │  │\n",
       "│ │ \u001b[38;5;141mSp. Def        \u001b[0m │ \u001b[36m   0\u001b[0m │ \u001b[36m     0\u001b[0m │ \u001b[36m   71.9\u001b[0m │ \u001b[36m  27.83\u001b[0m │ \u001b[36m  20\u001b[0m │ \u001b[36m     50\u001b[0m │ \u001b[36m     70\u001b[0m │ \u001b[36m     90\u001b[0m │ \u001b[36m  230\u001b[0m │ \u001b[32m ▅▇▃▁  \u001b[0m │  │\n",
       "│ │ \u001b[38;5;141mSpeed          \u001b[0m │ \u001b[36m   0\u001b[0m │ \u001b[36m     0\u001b[0m │ \u001b[36m  68.28\u001b[0m │ \u001b[36m  29.06\u001b[0m │ \u001b[36m   5\u001b[0m │ \u001b[36m     45\u001b[0m │ \u001b[36m     65\u001b[0m │ \u001b[36m     90\u001b[0m │ \u001b[36m  180\u001b[0m │ \u001b[32m ▃▇▇▅▁ \u001b[0m │  │\n",
       "│ │ \u001b[38;5;141mGeneration     \u001b[0m │ \u001b[36m   0\u001b[0m │ \u001b[36m     0\u001b[0m │ \u001b[36m  3.324\u001b[0m │ \u001b[36m  1.661\u001b[0m │ \u001b[36m   1\u001b[0m │ \u001b[36m      2\u001b[0m │ \u001b[36m      3\u001b[0m │ \u001b[36m      5\u001b[0m │ \u001b[36m    6\u001b[0m │ \u001b[32m▇▅▇▆▇▃ \u001b[0m │  │\n",
       "│ └─────────────────┴──────┴────────┴─────────┴─────────┴──────┴─────────┴─────────┴─────────┴───────┴─────────┘  │\n",
       "│ \u001b[3m                                                     bool                                                     \u001b[0m  │\n",
       "│ ┏━━━━━━━━━━━━━━━━━━━━━━━━━━━━━━━━━━━━┳━━━━━━━━━━━━━━━━━┳━━━━━━━━━━━━━━━━━━━━━━━━━━━━━━━┳━━━━━━━━━━━━━━━━━━━━━┓  │\n",
       "│ ┃\u001b[1m \u001b[0m\u001b[1mcolumn_name                       \u001b[0m\u001b[1m \u001b[0m┃\u001b[1m \u001b[0m\u001b[1mtrue           \u001b[0m\u001b[1m \u001b[0m┃\u001b[1m \u001b[0m\u001b[1mtrue rate                    \u001b[0m\u001b[1m \u001b[0m┃\u001b[1m \u001b[0m\u001b[1mhist               \u001b[0m\u001b[1m \u001b[0m┃  │\n",
       "│ ┡━━━━━━━━━━━━━━━━━━━━━━━━━━━━━━━━━━━━╇━━━━━━━━━━━━━━━━━╇━━━━━━━━━━━━━━━━━━━━━━━━━━━━━━━╇━━━━━━━━━━━━━━━━━━━━━┩  │\n",
       "│ │ \u001b[38;5;141mLegendary                         \u001b[0m │ \u001b[36m             65\u001b[0m │ \u001b[36m                        0.081\u001b[0m │ \u001b[32m      ▇    ▁       \u001b[0m │  │\n",
       "│ └────────────────────────────────────┴─────────────────┴───────────────────────────────┴─────────────────────┘  │\n",
       "│ \u001b[3m                                                    string                                                    \u001b[0m  │\n",
       "│ ┏━━━━━━━━━━━━━━━━━━━━━━━━━━┳━━━━━━━━━━┳━━━━━━━━━━━━━━┳━━━━━━━━━━━━━━━━━━━━━━━━━━━━━┳━━━━━━━━━━━━━━━━━━━━━━━━━┓  │\n",
       "│ ┃\u001b[1m \u001b[0m\u001b[1mcolumn_name             \u001b[0m\u001b[1m \u001b[0m┃\u001b[1m \u001b[0m\u001b[1mNA      \u001b[0m\u001b[1m \u001b[0m┃\u001b[1m \u001b[0m\u001b[1mNA %        \u001b[0m\u001b[1m \u001b[0m┃\u001b[1m \u001b[0m\u001b[1mwords per row              \u001b[0m\u001b[1m \u001b[0m┃\u001b[1m \u001b[0m\u001b[1mtotal words            \u001b[0m\u001b[1m \u001b[0m┃  │\n",
       "│ ┡━━━━━━━━━━━━━━━━━━━━━━━━━━╇━━━━━━━━━━╇━━━━━━━━━━━━━━╇━━━━━━━━━━━━━━━━━━━━━━━━━━━━━╇━━━━━━━━━━━━━━━━━━━━━━━━━┩  │\n",
       "│ │ \u001b[38;5;141mName                    \u001b[0m │ \u001b[36m       0\u001b[0m │ \u001b[36m           0\u001b[0m │ \u001b[36m                        1.1\u001b[0m │ \u001b[36m                    901\u001b[0m │  │\n",
       "│ │ \u001b[38;5;141mType 1                  \u001b[0m │ \u001b[36m       0\u001b[0m │ \u001b[36m           0\u001b[0m │ \u001b[36m                          1\u001b[0m │ \u001b[36m                    800\u001b[0m │  │\n",
       "│ │ \u001b[38;5;141mType 2                  \u001b[0m │ \u001b[36m     386\u001b[0m │ \u001b[36m       48.25\u001b[0m │ \u001b[36m                       0.52\u001b[0m │ \u001b[36m                    414\u001b[0m │  │\n",
       "│ └──────────────────────────┴──────────┴──────────────┴─────────────────────────────┴─────────────────────────┘  │\n",
       "╰────────────────────────────────────────────────────── End ──────────────────────────────────────────────────────╯\n"
      ]
     },
     "metadata": {},
     "output_type": "display_data"
    }
   ],
   "source": [
    "skim(pokemon)"
   ]
  },
  {
   "cell_type": "code",
   "execution_count": 5,
   "metadata": {},
   "outputs": [
    {
     "data": {
      "text/html": [
       "<div><style>\n",
       ".dataframe > thead > tr,\n",
       ".dataframe > tbody > tr {\n",
       "  text-align: right;\n",
       "  white-space: pre-wrap;\n",
       "}\n",
       "</style>\n",
       "<small>shape: (800, 2)</small><table border=\"1\" class=\"dataframe\"><thead><tr><th>Name</th><th>Type 1</th></tr><tr><td>str</td><td>str</td></tr></thead><tbody><tr><td>&quot;Bulbasaur&quot;</td><td>&quot;Grass&quot;</td></tr><tr><td>&quot;Ivysaur&quot;</td><td>&quot;Grass&quot;</td></tr><tr><td>&quot;Venusaur&quot;</td><td>&quot;Grass&quot;</td></tr><tr><td>&quot;VenusaurMega Venusaur&quot;</td><td>&quot;Grass&quot;</td></tr><tr><td>&quot;Charmander&quot;</td><td>&quot;Fire&quot;</td></tr><tr><td>&hellip;</td><td>&hellip;</td></tr><tr><td>&quot;Diancie&quot;</td><td>&quot;Rock&quot;</td></tr><tr><td>&quot;DiancieMega Diancie&quot;</td><td>&quot;Rock&quot;</td></tr><tr><td>&quot;HoopaHoopa Confined&quot;</td><td>&quot;Psychic&quot;</td></tr><tr><td>&quot;HoopaHoopa Unbound&quot;</td><td>&quot;Psychic&quot;</td></tr><tr><td>&quot;Volcanion&quot;</td><td>&quot;Fire&quot;</td></tr></tbody></table></div>"
      ],
      "text/plain": [
       "shape: (800, 2)\n",
       "┌───────────────────────┬─────────┐\n",
       "│ Name                  ┆ Type 1  │\n",
       "│ ---                   ┆ ---     │\n",
       "│ str                   ┆ str     │\n",
       "╞═══════════════════════╪═════════╡\n",
       "│ Bulbasaur             ┆ Grass   │\n",
       "│ Ivysaur               ┆ Grass   │\n",
       "│ Venusaur              ┆ Grass   │\n",
       "│ VenusaurMega Venusaur ┆ Grass   │\n",
       "│ Charmander            ┆ Fire    │\n",
       "│ …                     ┆ …       │\n",
       "│ Diancie               ┆ Rock    │\n",
       "│ DiancieMega Diancie   ┆ Rock    │\n",
       "│ HoopaHoopa Confined   ┆ Psychic │\n",
       "│ HoopaHoopa Unbound    ┆ Psychic │\n",
       "│ Volcanion             ┆ Fire    │\n",
       "└───────────────────────┴─────────┘"
      ]
     },
     "execution_count": 5,
     "metadata": {},
     "output_type": "execute_result"
    }
   ],
   "source": [
    "# Sélection de certains champs\n",
    "pokemon.select(pl.col('Name', 'Type 1'))"
   ]
  },
  {
   "cell_type": "code",
   "execution_count": 6,
   "metadata": {},
   "outputs": [
    {
     "data": {
      "text/html": [
       "<div><style>\n",
       ".dataframe > thead > tr,\n",
       ".dataframe > tbody > tr {\n",
       "  text-align: right;\n",
       "  white-space: pre-wrap;\n",
       "}\n",
       "</style>\n",
       "<small>shape: (65, 12)</small><table border=\"1\" class=\"dataframe\"><thead><tr><th>#</th><th>Name</th><th>Type 1</th><th>Type 2</th><th>HP</th><th>Attack</th><th>Defense</th><th>Sp. Atk</th><th>Sp. Def</th><th>Speed</th><th>Generation</th><th>Legendary</th></tr><tr><td>i64</td><td>str</td><td>str</td><td>str</td><td>i64</td><td>i64</td><td>i64</td><td>i64</td><td>i64</td><td>i64</td><td>i64</td><td>bool</td></tr></thead><tbody><tr><td>144</td><td>&quot;Articuno&quot;</td><td>&quot;Ice&quot;</td><td>&quot;Flying&quot;</td><td>90</td><td>85</td><td>100</td><td>95</td><td>125</td><td>85</td><td>1</td><td>true</td></tr><tr><td>145</td><td>&quot;Zapdos&quot;</td><td>&quot;Electric&quot;</td><td>&quot;Flying&quot;</td><td>90</td><td>90</td><td>85</td><td>125</td><td>90</td><td>100</td><td>1</td><td>true</td></tr><tr><td>146</td><td>&quot;Moltres&quot;</td><td>&quot;Fire&quot;</td><td>&quot;Flying&quot;</td><td>90</td><td>100</td><td>90</td><td>125</td><td>85</td><td>90</td><td>1</td><td>true</td></tr><tr><td>150</td><td>&quot;Mewtwo&quot;</td><td>&quot;Psychic&quot;</td><td>null</td><td>106</td><td>110</td><td>90</td><td>154</td><td>90</td><td>130</td><td>1</td><td>true</td></tr><tr><td>150</td><td>&quot;MewtwoMega Mewtwo X&quot;</td><td>&quot;Psychic&quot;</td><td>&quot;Fighting&quot;</td><td>106</td><td>190</td><td>100</td><td>154</td><td>100</td><td>130</td><td>1</td><td>true</td></tr><tr><td>&hellip;</td><td>&hellip;</td><td>&hellip;</td><td>&hellip;</td><td>&hellip;</td><td>&hellip;</td><td>&hellip;</td><td>&hellip;</td><td>&hellip;</td><td>&hellip;</td><td>&hellip;</td><td>&hellip;</td></tr><tr><td>719</td><td>&quot;Diancie&quot;</td><td>&quot;Rock&quot;</td><td>&quot;Fairy&quot;</td><td>50</td><td>100</td><td>150</td><td>100</td><td>150</td><td>50</td><td>6</td><td>true</td></tr><tr><td>719</td><td>&quot;DiancieMega Diancie&quot;</td><td>&quot;Rock&quot;</td><td>&quot;Fairy&quot;</td><td>50</td><td>160</td><td>110</td><td>160</td><td>110</td><td>110</td><td>6</td><td>true</td></tr><tr><td>720</td><td>&quot;HoopaHoopa Confined&quot;</td><td>&quot;Psychic&quot;</td><td>&quot;Ghost&quot;</td><td>80</td><td>110</td><td>60</td><td>150</td><td>130</td><td>70</td><td>6</td><td>true</td></tr><tr><td>720</td><td>&quot;HoopaHoopa Unbound&quot;</td><td>&quot;Psychic&quot;</td><td>&quot;Dark&quot;</td><td>80</td><td>160</td><td>60</td><td>170</td><td>130</td><td>80</td><td>6</td><td>true</td></tr><tr><td>721</td><td>&quot;Volcanion&quot;</td><td>&quot;Fire&quot;</td><td>&quot;Water&quot;</td><td>80</td><td>110</td><td>120</td><td>130</td><td>90</td><td>70</td><td>6</td><td>true</td></tr></tbody></table></div>"
      ],
      "text/plain": [
       "shape: (65, 12)\n",
       "┌─────┬─────────────────────┬──────────┬──────────┬───┬─────────┬───────┬────────────┬───────────┐\n",
       "│ #   ┆ Name                ┆ Type 1   ┆ Type 2   ┆ … ┆ Sp. Def ┆ Speed ┆ Generation ┆ Legendary │\n",
       "│ --- ┆ ---                 ┆ ---      ┆ ---      ┆   ┆ ---     ┆ ---   ┆ ---        ┆ ---       │\n",
       "│ i64 ┆ str                 ┆ str      ┆ str      ┆   ┆ i64     ┆ i64   ┆ i64        ┆ bool      │\n",
       "╞═════╪═════════════════════╪══════════╪══════════╪═══╪═════════╪═══════╪════════════╪═══════════╡\n",
       "│ 144 ┆ Articuno            ┆ Ice      ┆ Flying   ┆ … ┆ 125     ┆ 85    ┆ 1          ┆ true      │\n",
       "│ 145 ┆ Zapdos              ┆ Electric ┆ Flying   ┆ … ┆ 90      ┆ 100   ┆ 1          ┆ true      │\n",
       "│ 146 ┆ Moltres             ┆ Fire     ┆ Flying   ┆ … ┆ 85      ┆ 90    ┆ 1          ┆ true      │\n",
       "│ 150 ┆ Mewtwo              ┆ Psychic  ┆ null     ┆ … ┆ 90      ┆ 130   ┆ 1          ┆ true      │\n",
       "│ 150 ┆ MewtwoMega Mewtwo X ┆ Psychic  ┆ Fighting ┆ … ┆ 100     ┆ 130   ┆ 1          ┆ true      │\n",
       "│ …   ┆ …                   ┆ …        ┆ …        ┆ … ┆ …       ┆ …     ┆ …          ┆ …         │\n",
       "│ 719 ┆ Diancie             ┆ Rock     ┆ Fairy    ┆ … ┆ 150     ┆ 50    ┆ 6          ┆ true      │\n",
       "│ 719 ┆ DiancieMega Diancie ┆ Rock     ┆ Fairy    ┆ … ┆ 110     ┆ 110   ┆ 6          ┆ true      │\n",
       "│ 720 ┆ HoopaHoopa Confined ┆ Psychic  ┆ Ghost    ┆ … ┆ 130     ┆ 70    ┆ 6          ┆ true      │\n",
       "│ 720 ┆ HoopaHoopa Unbound  ┆ Psychic  ┆ Dark     ┆ … ┆ 130     ┆ 80    ┆ 6          ┆ true      │\n",
       "│ 721 ┆ Volcanion           ┆ Fire     ┆ Water    ┆ … ┆ 90      ┆ 70    ┆ 6          ┆ true      │\n",
       "└─────┴─────────────────────┴──────────┴──────────┴───┴─────────┴───────┴────────────┴───────────┘"
      ]
     },
     "execution_count": 6,
     "metadata": {},
     "output_type": "execute_result"
    }
   ],
   "source": [
    "# Filtre : True pour le champ Legendary\n",
    "pokemon.filter(pl.col(\"Legendary\"))"
   ]
  },
  {
   "cell_type": "code",
   "execution_count": 9,
   "metadata": {},
   "outputs": [
    {
     "data": {
      "text/html": [
       "<div><style>\n",
       ".dataframe > thead > tr,\n",
       ".dataframe > tbody > tr {\n",
       "  text-align: right;\n",
       "  white-space: pre-wrap;\n",
       "}\n",
       "</style>\n",
       "<small>shape: (3, 12)</small><table border=\"1\" class=\"dataframe\"><thead><tr><th>#</th><th>Name</th><th>Type 1</th><th>Type 2</th><th>HP</th><th>Attack</th><th>Defense</th><th>Sp. Atk</th><th>Sp. Def</th><th>Speed</th><th>Generation</th><th>Legendary</th></tr><tr><td>i64</td><td>str</td><td>str</td><td>str</td><td>i64</td><td>i64</td><td>i64</td><td>i64</td><td>i64</td><td>i64</td><td>i64</td><td>bool</td></tr></thead><tbody><tr><td>492</td><td>&quot;ShayminLand Forme&quot;</td><td>&quot;Grass&quot;</td><td>null</td><td>100</td><td>100</td><td>100</td><td>100</td><td>100</td><td>100</td><td>4</td><td>true</td></tr><tr><td>492</td><td>&quot;ShayminSky Forme&quot;</td><td>&quot;Grass&quot;</td><td>&quot;Flying&quot;</td><td>100</td><td>103</td><td>75</td><td>120</td><td>75</td><td>127</td><td>4</td><td>true</td></tr><tr><td>640</td><td>&quot;Virizion&quot;</td><td>&quot;Grass&quot;</td><td>&quot;Fighting&quot;</td><td>91</td><td>90</td><td>72</td><td>90</td><td>129</td><td>108</td><td>5</td><td>true</td></tr></tbody></table></div>"
      ],
      "text/plain": [
       "shape: (3, 12)\n",
       "┌─────┬───────────────────┬────────┬──────────┬───┬─────────┬───────┬────────────┬───────────┐\n",
       "│ #   ┆ Name              ┆ Type 1 ┆ Type 2   ┆ … ┆ Sp. Def ┆ Speed ┆ Generation ┆ Legendary │\n",
       "│ --- ┆ ---               ┆ ---    ┆ ---      ┆   ┆ ---     ┆ ---   ┆ ---        ┆ ---       │\n",
       "│ i64 ┆ str               ┆ str    ┆ str      ┆   ┆ i64     ┆ i64   ┆ i64        ┆ bool      │\n",
       "╞═════╪═══════════════════╪════════╪══════════╪═══╪═════════╪═══════╪════════════╪═══════════╡\n",
       "│ 492 ┆ ShayminLand Forme ┆ Grass  ┆ null     ┆ … ┆ 100     ┆ 100   ┆ 4          ┆ true      │\n",
       "│ 492 ┆ ShayminSky Forme  ┆ Grass  ┆ Flying   ┆ … ┆ 75      ┆ 127   ┆ 4          ┆ true      │\n",
       "│ 640 ┆ Virizion          ┆ Grass  ┆ Fighting ┆ … ┆ 129     ┆ 108   ┆ 5          ┆ true      │\n",
       "└─────┴───────────────────┴────────┴──────────┴───┴─────────┴───────┴────────────┴───────────┘"
      ]
     },
     "execution_count": 9,
     "metadata": {},
     "output_type": "execute_result"
    }
   ],
   "source": [
    "# Filtre : champ Legendary = True et champ Type 1 = Grass\n",
    "pokemon.filter((pl.col(\"Legendary\")) & (pl.col(\"Type 1\") == \"Grass\"))"
   ]
  }
 ],
 "metadata": {
  "kernelspec": {
   "display_name": "Python 3",
   "language": "python",
   "name": "python3"
  },
  "language_info": {
   "codemirror_mode": {
    "name": "ipython",
    "version": 3
   },
   "file_extension": ".py",
   "mimetype": "text/x-python",
   "name": "python",
   "nbconvert_exporter": "python",
   "pygments_lexer": "ipython3",
   "version": "3.12.5"
  }
 },
 "nbformat": 4,
 "nbformat_minor": 2
}
