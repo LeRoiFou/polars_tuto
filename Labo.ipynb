{
 "cells": [
  {
   "cell_type": "markdown",
   "metadata": {},
   "source": [
    "# <font color =\"blue\">Exercices 17 à 21</font>"
   ]
  },
  {
   "cell_type": "markdown",
   "metadata": {},
   "source": [
    "# Exercices sur polars\n",
    "\n",
    "Exercices copiés de pandas (voir dossier pandas_tuto - cours PandasAXXX)\n",
    "\n",
    "Date : 13/02/25 <br>\n",
    "Editeur : Laurent Reynaud"
   ]
  },
  {
   "cell_type": "code",
   "execution_count": 1,
   "metadata": {},
   "outputs": [],
   "source": [
    "import polars as pl\n",
    "import numpy as np"
   ]
  },
  {
   "cell_type": "markdown",
   "metadata": {},
   "source": [
    "## Importing polars\n",
    "\n",
    "### Getting started and checking your polars setup\n",
    "\n",
    "Difficulty: *easy* \n",
    "\n",
    "**1.** Import polars under the alias `pl`."
   ]
  },
  {
   "cell_type": "markdown",
   "metadata": {},
   "source": [
    "**2.** Print the version of polars that has been imported."
   ]
  },
  {
   "cell_type": "markdown",
   "metadata": {},
   "source": [
    "**3.** Print out all the *version* information of the libraries that are required by the polars library."
   ]
  },
  {
   "cell_type": "markdown",
   "metadata": {},
   "source": [
    "## DataFrame basics\n",
    "\n",
    "### A few of the fundamental routines for selecting, sorting, adding and aggregating data in DataFrames\n",
    "\n",
    "Difficulty: *easy*\n",
    "\n",
    "consider the following Python dictionary `data` and Python list `labels`:\n",
    "\n",
    "``` python\n",
    "data = {'animal': ['cat', 'cat', 'snake', 'dog', 'dog', 'cat', 'snake', 'cat', 'dog', 'dog'],\n",
    "        'age': [2.5, 3, 0.5, np.nan, 5, 2, 4.5, np.nan, 7, 3],\n",
    "        'visits': [1, 3, 2, 3, 2, 3, 1, 1, 2, 1],\n",
    "        'priority': ['yes', 'yes', 'no', 'yes', 'no', 'no', 'no', 'yes', 'no', 'no']}\n",
    "```\n",
    "(This is just some meaningless data I made up with the theme of animals and trips to a vet.)\n",
    "\n",
    "**4.** Create a DataFrame `df` from this dictionary `data`."
   ]
  },
  {
   "cell_type": "code",
   "execution_count": 2,
   "metadata": {},
   "outputs": [
    {
     "data": {
      "text/html": [
       "<div><style>\n",
       ".dataframe > thead > tr,\n",
       ".dataframe > tbody > tr {\n",
       "  text-align: right;\n",
       "  white-space: pre-wrap;\n",
       "}\n",
       "</style>\n",
       "<small>shape: (10, 4)</small><table border=\"1\" class=\"dataframe\"><thead><tr><th>animal</th><th>age</th><th>visits</th><th>priority</th></tr><tr><td>str</td><td>f64</td><td>i64</td><td>str</td></tr></thead><tbody><tr><td>&quot;cat&quot;</td><td>2.5</td><td>1</td><td>&quot;yes&quot;</td></tr><tr><td>&quot;cat&quot;</td><td>3.0</td><td>3</td><td>&quot;yes&quot;</td></tr><tr><td>&quot;snake&quot;</td><td>0.5</td><td>2</td><td>&quot;no&quot;</td></tr><tr><td>&quot;dog&quot;</td><td>NaN</td><td>3</td><td>&quot;yes&quot;</td></tr><tr><td>&quot;dog&quot;</td><td>5.0</td><td>2</td><td>&quot;no&quot;</td></tr><tr><td>&quot;cat&quot;</td><td>2.0</td><td>3</td><td>&quot;no&quot;</td></tr><tr><td>&quot;snake&quot;</td><td>4.5</td><td>1</td><td>&quot;no&quot;</td></tr><tr><td>&quot;cat&quot;</td><td>NaN</td><td>1</td><td>&quot;yes&quot;</td></tr><tr><td>&quot;dog&quot;</td><td>7.0</td><td>2</td><td>&quot;no&quot;</td></tr><tr><td>&quot;dog&quot;</td><td>3.0</td><td>1</td><td>&quot;no&quot;</td></tr></tbody></table></div>"
      ],
      "text/plain": [
       "shape: (10, 4)\n",
       "┌────────┬─────┬────────┬──────────┐\n",
       "│ animal ┆ age ┆ visits ┆ priority │\n",
       "│ ---    ┆ --- ┆ ---    ┆ ---      │\n",
       "│ str    ┆ f64 ┆ i64    ┆ str      │\n",
       "╞════════╪═════╪════════╪══════════╡\n",
       "│ cat    ┆ 2.5 ┆ 1      ┆ yes      │\n",
       "│ cat    ┆ 3.0 ┆ 3      ┆ yes      │\n",
       "│ snake  ┆ 0.5 ┆ 2      ┆ no       │\n",
       "│ dog    ┆ NaN ┆ 3      ┆ yes      │\n",
       "│ dog    ┆ 5.0 ┆ 2      ┆ no       │\n",
       "│ cat    ┆ 2.0 ┆ 3      ┆ no       │\n",
       "│ snake  ┆ 4.5 ┆ 1      ┆ no       │\n",
       "│ cat    ┆ NaN ┆ 1      ┆ yes      │\n",
       "│ dog    ┆ 7.0 ┆ 2      ┆ no       │\n",
       "│ dog    ┆ 3.0 ┆ 1      ┆ no       │\n",
       "└────────┴─────┴────────┴──────────┘"
      ]
     },
     "execution_count": 2,
     "metadata": {},
     "output_type": "execute_result"
    }
   ],
   "source": [
    "data = {'animal': ['cat', 'cat', 'snake', 'dog', 'dog', 'cat', 'snake', 'cat', 'dog', 'dog'],\n",
    "        'age': [2.5, 3, 0.5, np.nan, 5, 2, 4.5, np.nan, 7, 3],\n",
    "        'visits': [1, 3, 2, 3, 2, 3, 1, 1, 2, 1],\n",
    "        'priority': ['yes', 'yes', 'no', 'yes', 'no', 'no', 'no', 'yes', 'no', 'no']}\n",
    "df = pl.DataFrame(data=data)\n",
    "df"
   ]
  },
  {
   "cell_type": "markdown",
   "metadata": {},
   "source": [
    "**5.** Display a summary of the basic information about this DataFrame and its data (*hint: there is a single method that can be called on the DataFrame*)."
   ]
  },
  {
   "cell_type": "markdown",
   "metadata": {},
   "source": [
    "**6.** Return the first 3 rows of the DataFrame `df`."
   ]
  },
  {
   "cell_type": "markdown",
   "metadata": {},
   "source": [
    "**7.** Select just the 'animal' and 'age' columns from the DataFrame `df`."
   ]
  },
  {
   "cell_type": "markdown",
   "metadata": {},
   "source": [
    "**8.** Select the data in rows `['cat']` with columns 'animal' *and* in columns `['animal', 'age']`."
   ]
  },
  {
   "cell_type": "markdown",
   "metadata": {},
   "source": [
    "**9.** Select only the rows where the number of visits is greater than 2."
   ]
  },
  {
   "cell_type": "markdown",
   "metadata": {},
   "source": [
    "**10.** Select the rows where the age is missing, i.e. it is `NaN`."
   ]
  },
  {
   "cell_type": "markdown",
   "metadata": {},
   "source": [
    "**11.** Select the rows where the animal is a cat *and* the age is less than 3."
   ]
  },
  {
   "cell_type": "markdown",
   "metadata": {},
   "source": [
    "**12.** Select the rows the age is between 2 and 4 (inclusive)."
   ]
  },
  {
   "cell_type": "markdown",
   "metadata": {},
   "source": [
    "**13.** Change the age in row 5 to 1.5."
   ]
  },
  {
   "cell_type": "markdown",
   "metadata": {},
   "source": [
    "**14.** Calculate the sum of all visits in `df` (i.e. find the total number of visits)."
   ]
  },
  {
   "cell_type": "markdown",
   "metadata": {},
   "source": [
    "**15.** Calculate the mean age for each different animal in `df`."
   ]
  },
  {
   "cell_type": "markdown",
   "metadata": {},
   "source": [
    "**16.** Append a new row to `df` with your choice of values for each column. Then delete that row to return the original DataFrame.\n"
   ]
  },
  {
   "cell_type": "markdown",
   "metadata": {},
   "source": [
    "**17.** Count the number of each type of animal in `df`."
   ]
  },
  {
   "cell_type": "markdown",
   "metadata": {},
   "source": [
    "**18.** Sort `df` first by the values in the 'age' in *decending* order, then by the value in the 'visits' column in *ascending* order"
   ]
  },
  {
   "cell_type": "markdown",
   "metadata": {},
   "source": [
    "**19.** The 'priority' column contains the values 'yes' and 'no'. Replace this column with a column of boolean values: 'yes' should be `True` and 'no' should be `False`."
   ]
  },
  {
   "cell_type": "markdown",
   "metadata": {},
   "source": [
    "**20.** In the 'animal' column, change the 'snake' entries to 'python'."
   ]
  },
  {
   "cell_type": "markdown",
   "metadata": {},
   "source": [
    "**21.** For each animal type and each number of visits, find the mean age. In other words, each row is an animal, each column is a number of visits and the values are the mean ages."
   ]
  }
 ],
 "metadata": {
  "kernelspec": {
   "display_name": "Python 3",
   "language": "python",
   "name": "python3"
  },
  "language_info": {
   "codemirror_mode": {
    "name": "ipython",
    "version": 3
   },
   "file_extension": ".py",
   "mimetype": "text/x-python",
   "name": "python",
   "nbconvert_exporter": "python",
   "pygments_lexer": "ipython3",
   "version": "3.12.5"
  }
 },
 "nbformat": 4,
 "nbformat_minor": 2
}
