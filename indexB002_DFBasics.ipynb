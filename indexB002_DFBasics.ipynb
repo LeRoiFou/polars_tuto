{
 "cells": [
  {
   "cell_type": "markdown",
   "metadata": {},
   "source": [
    "# Exercices sur polars\n",
    "\n",
    "Exercices copiés de pandas (voir dossier pandas_tuto - cours PandasAXXX)\n",
    "\n",
    "Date : 13/02/25 <br>\n",
    "Editeur : Laurent Reynaud"
   ]
  },
  {
   "cell_type": "code",
   "execution_count": 15,
   "metadata": {},
   "outputs": [],
   "source": [
    "import polars as pl\n",
    "import numpy as np"
   ]
  },
  {
   "cell_type": "markdown",
   "metadata": {},
   "source": [
    "## DataFrame basics\n",
    "\n",
    "### A few of the fundamental routines for selecting, sorting, adding and aggregating data in DataFrames\n",
    "\n",
    "Difficulty: *easy*\n",
    "\n",
    "consider the following Python dictionary `data` and Python list `labels`:\n",
    "\n",
    "``` python\n",
    "data = {'animal': ['cat', 'cat', 'snake', 'dog', 'dog', 'cat', 'snake', 'cat', 'dog', 'dog'],\n",
    "        'age': [2.5, 3, 0.5, np.nan, 5, 2, 4.5, np.nan, 7, 3],\n",
    "        'visits': [1, 3, 2, 3, 2, 3, 1, 1, 2, 1],\n",
    "        'priority': ['yes', 'yes', 'no', 'yes', 'no', 'no', 'no', 'yes', 'no', 'no']}\n",
    "```\n",
    "(This is just some meaningless data I made up with the theme of animals and trips to a vet.)\n",
    "\n",
    "**4.** Create a DataFrame `df` from this dictionary `data`."
   ]
  },
  {
   "cell_type": "code",
   "execution_count": 16,
   "metadata": {},
   "outputs": [
    {
     "data": {
      "text/html": [
       "<div><style>\n",
       ".dataframe > thead > tr,\n",
       ".dataframe > tbody > tr {\n",
       "  text-align: right;\n",
       "  white-space: pre-wrap;\n",
       "}\n",
       "</style>\n",
       "<small>shape: (10, 4)</small><table border=\"1\" class=\"dataframe\"><thead><tr><th>animal</th><th>age</th><th>visits</th><th>priority</th></tr><tr><td>str</td><td>f64</td><td>i64</td><td>str</td></tr></thead><tbody><tr><td>&quot;cat&quot;</td><td>2.5</td><td>1</td><td>&quot;yes&quot;</td></tr><tr><td>&quot;cat&quot;</td><td>3.0</td><td>3</td><td>&quot;yes&quot;</td></tr><tr><td>&quot;snake&quot;</td><td>0.5</td><td>2</td><td>&quot;no&quot;</td></tr><tr><td>&quot;dog&quot;</td><td>NaN</td><td>3</td><td>&quot;yes&quot;</td></tr><tr><td>&quot;dog&quot;</td><td>5.0</td><td>2</td><td>&quot;no&quot;</td></tr><tr><td>&quot;cat&quot;</td><td>2.0</td><td>3</td><td>&quot;no&quot;</td></tr><tr><td>&quot;snake&quot;</td><td>4.5</td><td>1</td><td>&quot;no&quot;</td></tr><tr><td>&quot;cat&quot;</td><td>NaN</td><td>1</td><td>&quot;yes&quot;</td></tr><tr><td>&quot;dog&quot;</td><td>7.0</td><td>2</td><td>&quot;no&quot;</td></tr><tr><td>&quot;dog&quot;</td><td>3.0</td><td>1</td><td>&quot;no&quot;</td></tr></tbody></table></div>"
      ],
      "text/plain": [
       "shape: (10, 4)\n",
       "┌────────┬─────┬────────┬──────────┐\n",
       "│ animal ┆ age ┆ visits ┆ priority │\n",
       "│ ---    ┆ --- ┆ ---    ┆ ---      │\n",
       "│ str    ┆ f64 ┆ i64    ┆ str      │\n",
       "╞════════╪═════╪════════╪══════════╡\n",
       "│ cat    ┆ 2.5 ┆ 1      ┆ yes      │\n",
       "│ cat    ┆ 3.0 ┆ 3      ┆ yes      │\n",
       "│ snake  ┆ 0.5 ┆ 2      ┆ no       │\n",
       "│ dog    ┆ NaN ┆ 3      ┆ yes      │\n",
       "│ dog    ┆ 5.0 ┆ 2      ┆ no       │\n",
       "│ cat    ┆ 2.0 ┆ 3      ┆ no       │\n",
       "│ snake  ┆ 4.5 ┆ 1      ┆ no       │\n",
       "│ cat    ┆ NaN ┆ 1      ┆ yes      │\n",
       "│ dog    ┆ 7.0 ┆ 2      ┆ no       │\n",
       "│ dog    ┆ 3.0 ┆ 1      ┆ no       │\n",
       "└────────┴─────┴────────┴──────────┘"
      ]
     },
     "execution_count": 16,
     "metadata": {},
     "output_type": "execute_result"
    }
   ],
   "source": [
    "data = {'animal': ['cat', 'cat', 'snake', 'dog', 'dog', 'cat', 'snake', 'cat', 'dog', 'dog'],\n",
    "        'age': [2.5, 3, 0.5, np.nan, 5, 2, 4.5, np.nan, 7, 3],\n",
    "        'visits': [1, 3, 2, 3, 2, 3, 1, 1, 2, 1],\n",
    "        'priority': ['yes', 'yes', 'no', 'yes', 'no', 'no', 'no', 'yes', 'no', 'no']}\n",
    "df = pl.DataFrame(data=data)\n",
    "df"
   ]
  },
  {
   "cell_type": "markdown",
   "metadata": {},
   "source": [
    "**5.** Display a summary of the basic information about this DataFrame and its data (*hint: there is a single method that can be called on the DataFrame*)."
   ]
  },
  {
   "cell_type": "code",
   "execution_count": 17,
   "metadata": {},
   "outputs": [
    {
     "data": {
      "text/html": [
       "<div><style>\n",
       ".dataframe > thead > tr,\n",
       ".dataframe > tbody > tr {\n",
       "  text-align: right;\n",
       "  white-space: pre-wrap;\n",
       "}\n",
       "</style>\n",
       "<small>shape: (9, 5)</small><table border=\"1\" class=\"dataframe\"><thead><tr><th>statistic</th><th>animal</th><th>age</th><th>visits</th><th>priority</th></tr><tr><td>str</td><td>str</td><td>f64</td><td>f64</td><td>str</td></tr></thead><tbody><tr><td>&quot;count&quot;</td><td>&quot;10&quot;</td><td>10.0</td><td>10.0</td><td>&quot;10&quot;</td></tr><tr><td>&quot;null_count&quot;</td><td>&quot;0&quot;</td><td>0.0</td><td>0.0</td><td>&quot;0&quot;</td></tr><tr><td>&quot;mean&quot;</td><td>null</td><td>NaN</td><td>1.9</td><td>null</td></tr><tr><td>&quot;std&quot;</td><td>null</td><td>NaN</td><td>0.875595</td><td>null</td></tr><tr><td>&quot;min&quot;</td><td>&quot;cat&quot;</td><td>0.5</td><td>1.0</td><td>&quot;no&quot;</td></tr><tr><td>&quot;25%&quot;</td><td>null</td><td>2.5</td><td>1.0</td><td>null</td></tr><tr><td>&quot;50%&quot;</td><td>null</td><td>4.5</td><td>2.0</td><td>null</td></tr><tr><td>&quot;75%&quot;</td><td>null</td><td>7.0</td><td>3.0</td><td>null</td></tr><tr><td>&quot;max&quot;</td><td>&quot;snake&quot;</td><td>7.0</td><td>3.0</td><td>&quot;yes&quot;</td></tr></tbody></table></div>"
      ],
      "text/plain": [
       "shape: (9, 5)\n",
       "┌────────────┬────────┬──────┬──────────┬──────────┐\n",
       "│ statistic  ┆ animal ┆ age  ┆ visits   ┆ priority │\n",
       "│ ---        ┆ ---    ┆ ---  ┆ ---      ┆ ---      │\n",
       "│ str        ┆ str    ┆ f64  ┆ f64      ┆ str      │\n",
       "╞════════════╪════════╪══════╪══════════╪══════════╡\n",
       "│ count      ┆ 10     ┆ 10.0 ┆ 10.0     ┆ 10       │\n",
       "│ null_count ┆ 0      ┆ 0.0  ┆ 0.0      ┆ 0        │\n",
       "│ mean       ┆ null   ┆ NaN  ┆ 1.9      ┆ null     │\n",
       "│ std        ┆ null   ┆ NaN  ┆ 0.875595 ┆ null     │\n",
       "│ min        ┆ cat    ┆ 0.5  ┆ 1.0      ┆ no       │\n",
       "│ 25%        ┆ null   ┆ 2.5  ┆ 1.0      ┆ null     │\n",
       "│ 50%        ┆ null   ┆ 4.5  ┆ 2.0      ┆ null     │\n",
       "│ 75%        ┆ null   ┆ 7.0  ┆ 3.0      ┆ null     │\n",
       "│ max        ┆ snake  ┆ 7.0  ┆ 3.0      ┆ yes      │\n",
       "└────────────┴────────┴──────┴──────────┴──────────┘"
      ]
     },
     "execution_count": 17,
     "metadata": {},
     "output_type": "execute_result"
    }
   ],
   "source": [
    "df.describe()"
   ]
  },
  {
   "cell_type": "markdown",
   "metadata": {},
   "source": [
    "**6.** Return the first 3 rows of the DataFrame `df`."
   ]
  },
  {
   "cell_type": "code",
   "execution_count": 18,
   "metadata": {},
   "outputs": [
    {
     "data": {
      "text/html": [
       "<div><style>\n",
       ".dataframe > thead > tr,\n",
       ".dataframe > tbody > tr {\n",
       "  text-align: right;\n",
       "  white-space: pre-wrap;\n",
       "}\n",
       "</style>\n",
       "<small>shape: (3, 4)</small><table border=\"1\" class=\"dataframe\"><thead><tr><th>animal</th><th>age</th><th>visits</th><th>priority</th></tr><tr><td>str</td><td>f64</td><td>i64</td><td>str</td></tr></thead><tbody><tr><td>&quot;cat&quot;</td><td>2.5</td><td>1</td><td>&quot;yes&quot;</td></tr><tr><td>&quot;cat&quot;</td><td>3.0</td><td>3</td><td>&quot;yes&quot;</td></tr><tr><td>&quot;snake&quot;</td><td>0.5</td><td>2</td><td>&quot;no&quot;</td></tr></tbody></table></div>"
      ],
      "text/plain": [
       "shape: (3, 4)\n",
       "┌────────┬─────┬────────┬──────────┐\n",
       "│ animal ┆ age ┆ visits ┆ priority │\n",
       "│ ---    ┆ --- ┆ ---    ┆ ---      │\n",
       "│ str    ┆ f64 ┆ i64    ┆ str      │\n",
       "╞════════╪═════╪════════╪══════════╡\n",
       "│ cat    ┆ 2.5 ┆ 1      ┆ yes      │\n",
       "│ cat    ┆ 3.0 ┆ 3      ┆ yes      │\n",
       "│ snake  ┆ 0.5 ┆ 2      ┆ no       │\n",
       "└────────┴─────┴────────┴──────────┘"
      ]
     },
     "execution_count": 18,
     "metadata": {},
     "output_type": "execute_result"
    }
   ],
   "source": [
    "df.head(3)"
   ]
  },
  {
   "cell_type": "markdown",
   "metadata": {},
   "source": [
    "**7.** Select just the 'animal' and 'age' columns from the DataFrame `df`."
   ]
  },
  {
   "cell_type": "code",
   "execution_count": 19,
   "metadata": {},
   "outputs": [
    {
     "data": {
      "text/html": [
       "<div><style>\n",
       ".dataframe > thead > tr,\n",
       ".dataframe > tbody > tr {\n",
       "  text-align: right;\n",
       "  white-space: pre-wrap;\n",
       "}\n",
       "</style>\n",
       "<small>shape: (10, 2)</small><table border=\"1\" class=\"dataframe\"><thead><tr><th>animal</th><th>age</th></tr><tr><td>str</td><td>f64</td></tr></thead><tbody><tr><td>&quot;cat&quot;</td><td>2.5</td></tr><tr><td>&quot;cat&quot;</td><td>3.0</td></tr><tr><td>&quot;snake&quot;</td><td>0.5</td></tr><tr><td>&quot;dog&quot;</td><td>NaN</td></tr><tr><td>&quot;dog&quot;</td><td>5.0</td></tr><tr><td>&quot;cat&quot;</td><td>2.0</td></tr><tr><td>&quot;snake&quot;</td><td>4.5</td></tr><tr><td>&quot;cat&quot;</td><td>NaN</td></tr><tr><td>&quot;dog&quot;</td><td>7.0</td></tr><tr><td>&quot;dog&quot;</td><td>3.0</td></tr></tbody></table></div>"
      ],
      "text/plain": [
       "shape: (10, 2)\n",
       "┌────────┬─────┐\n",
       "│ animal ┆ age │\n",
       "│ ---    ┆ --- │\n",
       "│ str    ┆ f64 │\n",
       "╞════════╪═════╡\n",
       "│ cat    ┆ 2.5 │\n",
       "│ cat    ┆ 3.0 │\n",
       "│ snake  ┆ 0.5 │\n",
       "│ dog    ┆ NaN │\n",
       "│ dog    ┆ 5.0 │\n",
       "│ cat    ┆ 2.0 │\n",
       "│ snake  ┆ 4.5 │\n",
       "│ cat    ┆ NaN │\n",
       "│ dog    ┆ 7.0 │\n",
       "│ dog    ┆ 3.0 │\n",
       "└────────┴─────┘"
      ]
     },
     "execution_count": 19,
     "metadata": {},
     "output_type": "execute_result"
    }
   ],
   "source": [
    "df.select('animal', 'age')"
   ]
  },
  {
   "cell_type": "markdown",
   "metadata": {},
   "source": [
    "**8.** Select the data in rows `['cat']` with columns 'animal' *and* in columns `['animal', 'age']`."
   ]
  },
  {
   "cell_type": "code",
   "execution_count": 20,
   "metadata": {},
   "outputs": [
    {
     "data": {
      "text/html": [
       "<div><style>\n",
       ".dataframe > thead > tr,\n",
       ".dataframe > tbody > tr {\n",
       "  text-align: right;\n",
       "  white-space: pre-wrap;\n",
       "}\n",
       "</style>\n",
       "<small>shape: (4, 2)</small><table border=\"1\" class=\"dataframe\"><thead><tr><th>animal</th><th>age</th></tr><tr><td>str</td><td>f64</td></tr></thead><tbody><tr><td>&quot;cat&quot;</td><td>2.5</td></tr><tr><td>&quot;cat&quot;</td><td>3.0</td></tr><tr><td>&quot;cat&quot;</td><td>2.0</td></tr><tr><td>&quot;cat&quot;</td><td>NaN</td></tr></tbody></table></div>"
      ],
      "text/plain": [
       "shape: (4, 2)\n",
       "┌────────┬─────┐\n",
       "│ animal ┆ age │\n",
       "│ ---    ┆ --- │\n",
       "│ str    ┆ f64 │\n",
       "╞════════╪═════╡\n",
       "│ cat    ┆ 2.5 │\n",
       "│ cat    ┆ 3.0 │\n",
       "│ cat    ┆ 2.0 │\n",
       "│ cat    ┆ NaN │\n",
       "└────────┴─────┘"
      ]
     },
     "execution_count": 20,
     "metadata": {},
     "output_type": "execute_result"
    }
   ],
   "source": [
    "df.filter(pl.col('animal').str.contains('cat')).select('animal', 'age')"
   ]
  },
  {
   "cell_type": "markdown",
   "metadata": {},
   "source": [
    "**9.** Select only the rows where the number of visits is greater than 2."
   ]
  },
  {
   "cell_type": "code",
   "execution_count": 21,
   "metadata": {},
   "outputs": [
    {
     "data": {
      "text/html": [
       "<div><style>\n",
       ".dataframe > thead > tr,\n",
       ".dataframe > tbody > tr {\n",
       "  text-align: right;\n",
       "  white-space: pre-wrap;\n",
       "}\n",
       "</style>\n",
       "<small>shape: (3, 4)</small><table border=\"1\" class=\"dataframe\"><thead><tr><th>animal</th><th>age</th><th>visits</th><th>priority</th></tr><tr><td>str</td><td>f64</td><td>i64</td><td>str</td></tr></thead><tbody><tr><td>&quot;cat&quot;</td><td>3.0</td><td>3</td><td>&quot;yes&quot;</td></tr><tr><td>&quot;dog&quot;</td><td>NaN</td><td>3</td><td>&quot;yes&quot;</td></tr><tr><td>&quot;cat&quot;</td><td>2.0</td><td>3</td><td>&quot;no&quot;</td></tr></tbody></table></div>"
      ],
      "text/plain": [
       "shape: (3, 4)\n",
       "┌────────┬─────┬────────┬──────────┐\n",
       "│ animal ┆ age ┆ visits ┆ priority │\n",
       "│ ---    ┆ --- ┆ ---    ┆ ---      │\n",
       "│ str    ┆ f64 ┆ i64    ┆ str      │\n",
       "╞════════╪═════╪════════╪══════════╡\n",
       "│ cat    ┆ 3.0 ┆ 3      ┆ yes      │\n",
       "│ dog    ┆ NaN ┆ 3      ┆ yes      │\n",
       "│ cat    ┆ 2.0 ┆ 3      ┆ no       │\n",
       "└────────┴─────┴────────┴──────────┘"
      ]
     },
     "execution_count": 21,
     "metadata": {},
     "output_type": "execute_result"
    }
   ],
   "source": [
    "df.filter(pl.col('visits') > 2)"
   ]
  },
  {
   "cell_type": "markdown",
   "metadata": {},
   "source": [
    "**10.** Select the rows where the age is missing, i.e. it is `NaN`."
   ]
  },
  {
   "cell_type": "code",
   "execution_count": 22,
   "metadata": {},
   "outputs": [
    {
     "data": {
      "text/html": [
       "<div><style>\n",
       ".dataframe > thead > tr,\n",
       ".dataframe > tbody > tr {\n",
       "  text-align: right;\n",
       "  white-space: pre-wrap;\n",
       "}\n",
       "</style>\n",
       "<small>shape: (2, 4)</small><table border=\"1\" class=\"dataframe\"><thead><tr><th>animal</th><th>age</th><th>visits</th><th>priority</th></tr><tr><td>str</td><td>f64</td><td>i64</td><td>str</td></tr></thead><tbody><tr><td>&quot;dog&quot;</td><td>NaN</td><td>3</td><td>&quot;yes&quot;</td></tr><tr><td>&quot;cat&quot;</td><td>NaN</td><td>1</td><td>&quot;yes&quot;</td></tr></tbody></table></div>"
      ],
      "text/plain": [
       "shape: (2, 4)\n",
       "┌────────┬─────┬────────┬──────────┐\n",
       "│ animal ┆ age ┆ visits ┆ priority │\n",
       "│ ---    ┆ --- ┆ ---    ┆ ---      │\n",
       "│ str    ┆ f64 ┆ i64    ┆ str      │\n",
       "╞════════╪═════╪════════╪══════════╡\n",
       "│ dog    ┆ NaN ┆ 3      ┆ yes      │\n",
       "│ cat    ┆ NaN ┆ 1      ┆ yes      │\n",
       "└────────┴─────┴────────┴──────────┘"
      ]
     },
     "execution_count": 22,
     "metadata": {},
     "output_type": "execute_result"
    }
   ],
   "source": [
    "df.filter(pl.col('age').is_nan())"
   ]
  },
  {
   "cell_type": "markdown",
   "metadata": {},
   "source": [
    "**11.** Select the rows where the animal is a cat *and* the age is less than 3."
   ]
  },
  {
   "cell_type": "code",
   "execution_count": 23,
   "metadata": {},
   "outputs": [
    {
     "data": {
      "text/html": [
       "<div><style>\n",
       ".dataframe > thead > tr,\n",
       ".dataframe > tbody > tr {\n",
       "  text-align: right;\n",
       "  white-space: pre-wrap;\n",
       "}\n",
       "</style>\n",
       "<small>shape: (2, 4)</small><table border=\"1\" class=\"dataframe\"><thead><tr><th>animal</th><th>age</th><th>visits</th><th>priority</th></tr><tr><td>str</td><td>f64</td><td>i64</td><td>str</td></tr></thead><tbody><tr><td>&quot;cat&quot;</td><td>2.5</td><td>1</td><td>&quot;yes&quot;</td></tr><tr><td>&quot;cat&quot;</td><td>2.0</td><td>3</td><td>&quot;no&quot;</td></tr></tbody></table></div>"
      ],
      "text/plain": [
       "shape: (2, 4)\n",
       "┌────────┬─────┬────────┬──────────┐\n",
       "│ animal ┆ age ┆ visits ┆ priority │\n",
       "│ ---    ┆ --- ┆ ---    ┆ ---      │\n",
       "│ str    ┆ f64 ┆ i64    ┆ str      │\n",
       "╞════════╪═════╪════════╪══════════╡\n",
       "│ cat    ┆ 2.5 ┆ 1      ┆ yes      │\n",
       "│ cat    ┆ 2.0 ┆ 3      ┆ no       │\n",
       "└────────┴─────┴────────┴──────────┘"
      ]
     },
     "execution_count": 23,
     "metadata": {},
     "output_type": "execute_result"
    }
   ],
   "source": [
    "df.filter((pl.col('animal').str.contains('cat')) \n",
    "          & (pl.col('age') < 3))"
   ]
  },
  {
   "cell_type": "markdown",
   "metadata": {},
   "source": [
    "**12.** Select the rows the age is between 2 and 4 (inclusive)."
   ]
  },
  {
   "cell_type": "code",
   "execution_count": 24,
   "metadata": {},
   "outputs": [
    {
     "data": {
      "text/html": [
       "<div><style>\n",
       ".dataframe > thead > tr,\n",
       ".dataframe > tbody > tr {\n",
       "  text-align: right;\n",
       "  white-space: pre-wrap;\n",
       "}\n",
       "</style>\n",
       "<small>shape: (4, 4)</small><table border=\"1\" class=\"dataframe\"><thead><tr><th>animal</th><th>age</th><th>visits</th><th>priority</th></tr><tr><td>str</td><td>f64</td><td>i64</td><td>str</td></tr></thead><tbody><tr><td>&quot;cat&quot;</td><td>2.5</td><td>1</td><td>&quot;yes&quot;</td></tr><tr><td>&quot;cat&quot;</td><td>3.0</td><td>3</td><td>&quot;yes&quot;</td></tr><tr><td>&quot;cat&quot;</td><td>2.0</td><td>3</td><td>&quot;no&quot;</td></tr><tr><td>&quot;dog&quot;</td><td>3.0</td><td>1</td><td>&quot;no&quot;</td></tr></tbody></table></div>"
      ],
      "text/plain": [
       "shape: (4, 4)\n",
       "┌────────┬─────┬────────┬──────────┐\n",
       "│ animal ┆ age ┆ visits ┆ priority │\n",
       "│ ---    ┆ --- ┆ ---    ┆ ---      │\n",
       "│ str    ┆ f64 ┆ i64    ┆ str      │\n",
       "╞════════╪═════╪════════╪══════════╡\n",
       "│ cat    ┆ 2.5 ┆ 1      ┆ yes      │\n",
       "│ cat    ┆ 3.0 ┆ 3      ┆ yes      │\n",
       "│ cat    ┆ 2.0 ┆ 3      ┆ no       │\n",
       "│ dog    ┆ 3.0 ┆ 1      ┆ no       │\n",
       "└────────┴─────┴────────┴──────────┘"
      ]
     },
     "execution_count": 24,
     "metadata": {},
     "output_type": "execute_result"
    }
   ],
   "source": [
    "df.filter((pl.col('age') >= 2) & (pl.col('age') <= 4))"
   ]
  },
  {
   "cell_type": "markdown",
   "metadata": {},
   "source": [
    "**14.** Calculate the sum of all visits in `df` (i.e. find the total number of visits)."
   ]
  },
  {
   "cell_type": "code",
   "execution_count": 25,
   "metadata": {},
   "outputs": [
    {
     "data": {
      "text/plain": [
       "19"
      ]
     },
     "execution_count": 25,
     "metadata": {},
     "output_type": "execute_result"
    }
   ],
   "source": [
    "df['visits'].sum()"
   ]
  },
  {
   "cell_type": "markdown",
   "metadata": {},
   "source": [
    "**15.** Calculate the mean age for each different animal in `df`."
   ]
  },
  {
   "cell_type": "code",
   "execution_count": 26,
   "metadata": {},
   "outputs": [
    {
     "data": {
      "text/html": [
       "<div><style>\n",
       ".dataframe > thead > tr,\n",
       ".dataframe > tbody > tr {\n",
       "  text-align: right;\n",
       "  white-space: pre-wrap;\n",
       "}\n",
       "</style>\n",
       "<small>shape: (3, 2)</small><table border=\"1\" class=\"dataframe\"><thead><tr><th>animal</th><th>age</th></tr><tr><td>str</td><td>f64</td></tr></thead><tbody><tr><td>&quot;snake&quot;</td><td>2.5</td></tr><tr><td>&quot;cat&quot;</td><td>NaN</td></tr><tr><td>&quot;dog&quot;</td><td>NaN</td></tr></tbody></table></div>"
      ],
      "text/plain": [
       "shape: (3, 2)\n",
       "┌────────┬─────┐\n",
       "│ animal ┆ age │\n",
       "│ ---    ┆ --- │\n",
       "│ str    ┆ f64 │\n",
       "╞════════╪═════╡\n",
       "│ snake  ┆ 2.5 │\n",
       "│ cat    ┆ NaN │\n",
       "│ dog    ┆ NaN │\n",
       "└────────┴─────┘"
      ]
     },
     "execution_count": 26,
     "metadata": {},
     "output_type": "execute_result"
    }
   ],
   "source": [
    "df.group_by('animal').agg(pl.col('age').mean())"
   ]
  },
  {
   "cell_type": "markdown",
   "metadata": {},
   "source": [
    "**16.** Append a new row to `df` with your choice of values for each column. Then delete that row to return the original DataFrame.\n"
   ]
  },
  {
   "cell_type": "code",
   "execution_count": 27,
   "metadata": {},
   "outputs": [
    {
     "data": {
      "text/html": [
       "<div><style>\n",
       ".dataframe > thead > tr,\n",
       ".dataframe > tbody > tr {\n",
       "  text-align: right;\n",
       "  white-space: pre-wrap;\n",
       "}\n",
       "</style>\n",
       "<small>shape: (5, 4)</small><table border=\"1\" class=\"dataframe\"><thead><tr><th>animal</th><th>age</th><th>visits</th><th>priority</th></tr><tr><td>str</td><td>f64</td><td>i64</td><td>str</td></tr></thead><tbody><tr><td>&quot;snake&quot;</td><td>4.5</td><td>1</td><td>&quot;no&quot;</td></tr><tr><td>&quot;cat&quot;</td><td>NaN</td><td>1</td><td>&quot;yes&quot;</td></tr><tr><td>&quot;dog&quot;</td><td>7.0</td><td>2</td><td>&quot;no&quot;</td></tr><tr><td>&quot;dog&quot;</td><td>3.0</td><td>1</td><td>&quot;no&quot;</td></tr><tr><td>&quot;rabbit&quot;</td><td>2.0</td><td>1</td><td>&quot;no&quot;</td></tr></tbody></table></div>"
      ],
      "text/plain": [
       "shape: (5, 4)\n",
       "┌────────┬─────┬────────┬──────────┐\n",
       "│ animal ┆ age ┆ visits ┆ priority │\n",
       "│ ---    ┆ --- ┆ ---    ┆ ---      │\n",
       "│ str    ┆ f64 ┆ i64    ┆ str      │\n",
       "╞════════╪═════╪════════╪══════════╡\n",
       "│ snake  ┆ 4.5 ┆ 1      ┆ no       │\n",
       "│ cat    ┆ NaN ┆ 1      ┆ yes      │\n",
       "│ dog    ┆ 7.0 ┆ 2      ┆ no       │\n",
       "│ dog    ┆ 3.0 ┆ 1      ┆ no       │\n",
       "│ rabbit ┆ 2.0 ┆ 1      ┆ no       │\n",
       "└────────┴─────┴────────┴──────────┘"
      ]
     },
     "execution_count": 27,
     "metadata": {},
     "output_type": "execute_result"
    }
   ],
   "source": [
    "# Append a new row\n",
    "new_row = {'animal': 'rabbit', 'age': 2.0, 'visits': 1, 'priority': 'no'}\n",
    "df = df.vstack(pl.DataFrame([new_row]))\n",
    "df.tail()"
   ]
  },
  {
   "cell_type": "code",
   "execution_count": 28,
   "metadata": {},
   "outputs": [
    {
     "data": {
      "text/html": [
       "<div><style>\n",
       ".dataframe > thead > tr,\n",
       ".dataframe > tbody > tr {\n",
       "  text-align: right;\n",
       "  white-space: pre-wrap;\n",
       "}\n",
       "</style>\n",
       "<small>shape: (5, 4)</small><table border=\"1\" class=\"dataframe\"><thead><tr><th>animal</th><th>age</th><th>visits</th><th>priority</th></tr><tr><td>str</td><td>f64</td><td>i64</td><td>str</td></tr></thead><tbody><tr><td>&quot;cat&quot;</td><td>2.0</td><td>3</td><td>&quot;no&quot;</td></tr><tr><td>&quot;snake&quot;</td><td>4.5</td><td>1</td><td>&quot;no&quot;</td></tr><tr><td>&quot;cat&quot;</td><td>NaN</td><td>1</td><td>&quot;yes&quot;</td></tr><tr><td>&quot;dog&quot;</td><td>7.0</td><td>2</td><td>&quot;no&quot;</td></tr><tr><td>&quot;dog&quot;</td><td>3.0</td><td>1</td><td>&quot;no&quot;</td></tr></tbody></table></div>"
      ],
      "text/plain": [
       "shape: (5, 4)\n",
       "┌────────┬─────┬────────┬──────────┐\n",
       "│ animal ┆ age ┆ visits ┆ priority │\n",
       "│ ---    ┆ --- ┆ ---    ┆ ---      │\n",
       "│ str    ┆ f64 ┆ i64    ┆ str      │\n",
       "╞════════╪═════╪════════╪══════════╡\n",
       "│ cat    ┆ 2.0 ┆ 3      ┆ no       │\n",
       "│ snake  ┆ 4.5 ┆ 1      ┆ no       │\n",
       "│ cat    ┆ NaN ┆ 1      ┆ yes      │\n",
       "│ dog    ┆ 7.0 ┆ 2      ┆ no       │\n",
       "│ dog    ┆ 3.0 ┆ 1      ┆ no       │\n",
       "└────────┴─────┴────────┴──────────┘"
      ]
     },
     "execution_count": 28,
     "metadata": {},
     "output_type": "execute_result"
    }
   ],
   "source": [
    "# Delete the new row to return to the original DataFrame\n",
    "df = df.head(-1)\n",
    "df.tail()"
   ]
  },
  {
   "cell_type": "markdown",
   "metadata": {},
   "source": [
    "**17.** Count the number of each type of animal in `df`."
   ]
  },
  {
   "cell_type": "code",
   "execution_count": 29,
   "metadata": {},
   "outputs": [
    {
     "data": {
      "text/html": [
       "<div><style>\n",
       ".dataframe > thead > tr,\n",
       ".dataframe > tbody > tr {\n",
       "  text-align: right;\n",
       "  white-space: pre-wrap;\n",
       "}\n",
       "</style>\n",
       "<small>shape: (3, 2)</small><table border=\"1\" class=\"dataframe\"><thead><tr><th>animal</th><th>count</th></tr><tr><td>str</td><td>u32</td></tr></thead><tbody><tr><td>&quot;dog&quot;</td><td>4</td></tr><tr><td>&quot;cat&quot;</td><td>4</td></tr><tr><td>&quot;snake&quot;</td><td>2</td></tr></tbody></table></div>"
      ],
      "text/plain": [
       "shape: (3, 2)\n",
       "┌────────┬───────┐\n",
       "│ animal ┆ count │\n",
       "│ ---    ┆ ---   │\n",
       "│ str    ┆ u32   │\n",
       "╞════════╪═══════╡\n",
       "│ dog    ┆ 4     │\n",
       "│ cat    ┆ 4     │\n",
       "│ snake  ┆ 2     │\n",
       "└────────┴───────┘"
      ]
     },
     "execution_count": 29,
     "metadata": {},
     "output_type": "execute_result"
    }
   ],
   "source": [
    "df['animal'].value_counts()"
   ]
  },
  {
   "cell_type": "markdown",
   "metadata": {},
   "source": [
    "**18.** Sort `df` first by the values in the 'age' in *decending* order, then by the value in the 'visits' column in *ascending* order"
   ]
  },
  {
   "cell_type": "code",
   "execution_count": 30,
   "metadata": {},
   "outputs": [
    {
     "data": {
      "text/html": [
       "<div><style>\n",
       ".dataframe > thead > tr,\n",
       ".dataframe > tbody > tr {\n",
       "  text-align: right;\n",
       "  white-space: pre-wrap;\n",
       "}\n",
       "</style>\n",
       "<small>shape: (10, 4)</small><table border=\"1\" class=\"dataframe\"><thead><tr><th>animal</th><th>age</th><th>visits</th><th>priority</th></tr><tr><td>str</td><td>f64</td><td>i64</td><td>str</td></tr></thead><tbody><tr><td>&quot;cat&quot;</td><td>NaN</td><td>1</td><td>&quot;yes&quot;</td></tr><tr><td>&quot;dog&quot;</td><td>NaN</td><td>3</td><td>&quot;yes&quot;</td></tr><tr><td>&quot;dog&quot;</td><td>7.0</td><td>2</td><td>&quot;no&quot;</td></tr><tr><td>&quot;dog&quot;</td><td>5.0</td><td>2</td><td>&quot;no&quot;</td></tr><tr><td>&quot;snake&quot;</td><td>4.5</td><td>1</td><td>&quot;no&quot;</td></tr><tr><td>&quot;dog&quot;</td><td>3.0</td><td>1</td><td>&quot;no&quot;</td></tr><tr><td>&quot;cat&quot;</td><td>3.0</td><td>3</td><td>&quot;yes&quot;</td></tr><tr><td>&quot;cat&quot;</td><td>2.5</td><td>1</td><td>&quot;yes&quot;</td></tr><tr><td>&quot;cat&quot;</td><td>2.0</td><td>3</td><td>&quot;no&quot;</td></tr><tr><td>&quot;snake&quot;</td><td>0.5</td><td>2</td><td>&quot;no&quot;</td></tr></tbody></table></div>"
      ],
      "text/plain": [
       "shape: (10, 4)\n",
       "┌────────┬─────┬────────┬──────────┐\n",
       "│ animal ┆ age ┆ visits ┆ priority │\n",
       "│ ---    ┆ --- ┆ ---    ┆ ---      │\n",
       "│ str    ┆ f64 ┆ i64    ┆ str      │\n",
       "╞════════╪═════╪════════╪══════════╡\n",
       "│ cat    ┆ NaN ┆ 1      ┆ yes      │\n",
       "│ dog    ┆ NaN ┆ 3      ┆ yes      │\n",
       "│ dog    ┆ 7.0 ┆ 2      ┆ no       │\n",
       "│ dog    ┆ 5.0 ┆ 2      ┆ no       │\n",
       "│ snake  ┆ 4.5 ┆ 1      ┆ no       │\n",
       "│ dog    ┆ 3.0 ┆ 1      ┆ no       │\n",
       "│ cat    ┆ 3.0 ┆ 3      ┆ yes      │\n",
       "│ cat    ┆ 2.5 ┆ 1      ┆ yes      │\n",
       "│ cat    ┆ 2.0 ┆ 3      ┆ no       │\n",
       "│ snake  ┆ 0.5 ┆ 2      ┆ no       │\n",
       "└────────┴─────┴────────┴──────────┘"
      ]
     },
     "execution_count": 30,
     "metadata": {},
     "output_type": "execute_result"
    }
   ],
   "source": [
    "df.sort(['age', 'visits'], descending=[True, False])"
   ]
  },
  {
   "cell_type": "markdown",
   "metadata": {},
   "source": [
    "**19.** The 'priority' column contains the values 'yes' and 'no'. Replace this column with a column of boolean values: 'yes' should be `True` and 'no' should be `False`."
   ]
  },
  {
   "cell_type": "code",
   "execution_count": 31,
   "metadata": {},
   "outputs": [
    {
     "data": {
      "text/html": [
       "<div><style>\n",
       ".dataframe > thead > tr,\n",
       ".dataframe > tbody > tr {\n",
       "  text-align: right;\n",
       "  white-space: pre-wrap;\n",
       "}\n",
       "</style>\n",
       "<small>shape: (10, 4)</small><table border=\"1\" class=\"dataframe\"><thead><tr><th>animal</th><th>age</th><th>visits</th><th>priority</th></tr><tr><td>str</td><td>f64</td><td>i64</td><td>bool</td></tr></thead><tbody><tr><td>&quot;cat&quot;</td><td>2.5</td><td>1</td><td>true</td></tr><tr><td>&quot;cat&quot;</td><td>3.0</td><td>3</td><td>true</td></tr><tr><td>&quot;snake&quot;</td><td>0.5</td><td>2</td><td>false</td></tr><tr><td>&quot;dog&quot;</td><td>NaN</td><td>3</td><td>true</td></tr><tr><td>&quot;dog&quot;</td><td>5.0</td><td>2</td><td>false</td></tr><tr><td>&quot;cat&quot;</td><td>2.0</td><td>3</td><td>false</td></tr><tr><td>&quot;snake&quot;</td><td>4.5</td><td>1</td><td>false</td></tr><tr><td>&quot;cat&quot;</td><td>NaN</td><td>1</td><td>true</td></tr><tr><td>&quot;dog&quot;</td><td>7.0</td><td>2</td><td>false</td></tr><tr><td>&quot;dog&quot;</td><td>3.0</td><td>1</td><td>false</td></tr></tbody></table></div>"
      ],
      "text/plain": [
       "shape: (10, 4)\n",
       "┌────────┬─────┬────────┬──────────┐\n",
       "│ animal ┆ age ┆ visits ┆ priority │\n",
       "│ ---    ┆ --- ┆ ---    ┆ ---      │\n",
       "│ str    ┆ f64 ┆ i64    ┆ bool     │\n",
       "╞════════╪═════╪════════╪══════════╡\n",
       "│ cat    ┆ 2.5 ┆ 1      ┆ true     │\n",
       "│ cat    ┆ 3.0 ┆ 3      ┆ true     │\n",
       "│ snake  ┆ 0.5 ┆ 2      ┆ false    │\n",
       "│ dog    ┆ NaN ┆ 3      ┆ true     │\n",
       "│ dog    ┆ 5.0 ┆ 2      ┆ false    │\n",
       "│ cat    ┆ 2.0 ┆ 3      ┆ false    │\n",
       "│ snake  ┆ 4.5 ┆ 1      ┆ false    │\n",
       "│ cat    ┆ NaN ┆ 1      ┆ true     │\n",
       "│ dog    ┆ 7.0 ┆ 2      ┆ false    │\n",
       "│ dog    ┆ 3.0 ┆ 1      ┆ false    │\n",
       "└────────┴─────┴────────┴──────────┘"
      ]
     },
     "execution_count": 31,
     "metadata": {},
     "output_type": "execute_result"
    }
   ],
   "source": [
    "df.with_columns(\n",
    "    pl.when(pl.col('priority') == 'yes')\n",
    "    .then(True)\n",
    "    .otherwise(False)\n",
    "    .alias('priority'),\n",
    "    )"
   ]
  },
  {
   "cell_type": "markdown",
   "metadata": {},
   "source": [
    "**20.** In the 'animal' column, change the 'snake' entries to 'python'."
   ]
  },
  {
   "cell_type": "code",
   "execution_count": 32,
   "metadata": {},
   "outputs": [
    {
     "data": {
      "text/html": [
       "<div><style>\n",
       ".dataframe > thead > tr,\n",
       ".dataframe > tbody > tr {\n",
       "  text-align: right;\n",
       "  white-space: pre-wrap;\n",
       "}\n",
       "</style>\n",
       "<small>shape: (10, 4)</small><table border=\"1\" class=\"dataframe\"><thead><tr><th>animal</th><th>age</th><th>visits</th><th>priority</th></tr><tr><td>str</td><td>f64</td><td>i64</td><td>str</td></tr></thead><tbody><tr><td>&quot;cat&quot;</td><td>2.5</td><td>1</td><td>&quot;yes&quot;</td></tr><tr><td>&quot;cat&quot;</td><td>3.0</td><td>3</td><td>&quot;yes&quot;</td></tr><tr><td>&quot;python&quot;</td><td>0.5</td><td>2</td><td>&quot;no&quot;</td></tr><tr><td>&quot;dog&quot;</td><td>NaN</td><td>3</td><td>&quot;yes&quot;</td></tr><tr><td>&quot;dog&quot;</td><td>5.0</td><td>2</td><td>&quot;no&quot;</td></tr><tr><td>&quot;cat&quot;</td><td>2.0</td><td>3</td><td>&quot;no&quot;</td></tr><tr><td>&quot;python&quot;</td><td>4.5</td><td>1</td><td>&quot;no&quot;</td></tr><tr><td>&quot;cat&quot;</td><td>NaN</td><td>1</td><td>&quot;yes&quot;</td></tr><tr><td>&quot;dog&quot;</td><td>7.0</td><td>2</td><td>&quot;no&quot;</td></tr><tr><td>&quot;dog&quot;</td><td>3.0</td><td>1</td><td>&quot;no&quot;</td></tr></tbody></table></div>"
      ],
      "text/plain": [
       "shape: (10, 4)\n",
       "┌────────┬─────┬────────┬──────────┐\n",
       "│ animal ┆ age ┆ visits ┆ priority │\n",
       "│ ---    ┆ --- ┆ ---    ┆ ---      │\n",
       "│ str    ┆ f64 ┆ i64    ┆ str      │\n",
       "╞════════╪═════╪════════╪══════════╡\n",
       "│ cat    ┆ 2.5 ┆ 1      ┆ yes      │\n",
       "│ cat    ┆ 3.0 ┆ 3      ┆ yes      │\n",
       "│ python ┆ 0.5 ┆ 2      ┆ no       │\n",
       "│ dog    ┆ NaN ┆ 3      ┆ yes      │\n",
       "│ dog    ┆ 5.0 ┆ 2      ┆ no       │\n",
       "│ cat    ┆ 2.0 ┆ 3      ┆ no       │\n",
       "│ python ┆ 4.5 ┆ 1      ┆ no       │\n",
       "│ cat    ┆ NaN ┆ 1      ┆ yes      │\n",
       "│ dog    ┆ 7.0 ┆ 2      ┆ no       │\n",
       "│ dog    ┆ 3.0 ┆ 1      ┆ no       │\n",
       "└────────┴─────┴────────┴──────────┘"
      ]
     },
     "execution_count": 32,
     "metadata": {},
     "output_type": "execute_result"
    }
   ],
   "source": [
    "df.with_columns(\n",
    "    pl.col('animal').replace(\"snake\", \"python\").alias('animal')\n",
    ")"
   ]
  },
  {
   "cell_type": "markdown",
   "metadata": {},
   "source": [
    "**21.** For each animal type and each number of visits, find the mean age. In other words, each row is an animal, each column is a number of visits and the values are the mean ages."
   ]
  },
  {
   "cell_type": "code",
   "execution_count": 33,
   "metadata": {},
   "outputs": [
    {
     "name": "stderr",
     "output_type": "stream",
     "text": [
      "C:\\Users\\LRCOM\\AppData\\Local\\Temp\\ipykernel_13508\\1744509873.py:1: DeprecationWarning: The argument `columns` for `DataFrame.pivot` is deprecated. It has been renamed to `on`.\n",
      "  df.pivot(\n"
     ]
    },
    {
     "data": {
      "text/html": [
       "<div><style>\n",
       ".dataframe > thead > tr,\n",
       ".dataframe > tbody > tr {\n",
       "  text-align: right;\n",
       "  white-space: pre-wrap;\n",
       "}\n",
       "</style>\n",
       "<small>shape: (3, 4)</small><table border=\"1\" class=\"dataframe\"><thead><tr><th>animal</th><th>1</th><th>3</th><th>2</th></tr><tr><td>str</td><td>f64</td><td>f64</td><td>f64</td></tr></thead><tbody><tr><td>&quot;cat&quot;</td><td>NaN</td><td>2.5</td><td>null</td></tr><tr><td>&quot;snake&quot;</td><td>4.5</td><td>null</td><td>0.5</td></tr><tr><td>&quot;dog&quot;</td><td>3.0</td><td>NaN</td><td>6.0</td></tr></tbody></table></div>"
      ],
      "text/plain": [
       "shape: (3, 4)\n",
       "┌────────┬─────┬──────┬──────┐\n",
       "│ animal ┆ 1   ┆ 3    ┆ 2    │\n",
       "│ ---    ┆ --- ┆ ---  ┆ ---  │\n",
       "│ str    ┆ f64 ┆ f64  ┆ f64  │\n",
       "╞════════╪═════╪══════╪══════╡\n",
       "│ cat    ┆ NaN ┆ 2.5  ┆ null │\n",
       "│ snake  ┆ 4.5 ┆ null ┆ 0.5  │\n",
       "│ dog    ┆ 3.0 ┆ NaN  ┆ 6.0  │\n",
       "└────────┴─────┴──────┴──────┘"
      ]
     },
     "execution_count": 33,
     "metadata": {},
     "output_type": "execute_result"
    }
   ],
   "source": [
    "df.pivot(\n",
    "    values='age', index='animal', columns='visits', \n",
    "    aggregate_function='mean')"
   ]
  }
 ],
 "metadata": {
  "kernelspec": {
   "display_name": "Python 3",
   "language": "python",
   "name": "python3"
  },
  "language_info": {
   "codemirror_mode": {
    "name": "ipython",
    "version": 3
   },
   "file_extension": ".py",
   "mimetype": "text/x-python",
   "name": "python",
   "nbconvert_exporter": "python",
   "pygments_lexer": "ipython3",
   "version": "3.12.5"
  }
 },
 "nbformat": 4,
 "nbformat_minor": 2
}
