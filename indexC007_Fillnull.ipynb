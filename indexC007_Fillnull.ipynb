{
 "cells": [
  {
   "cell_type": "markdown",
   "id": "426121d8",
   "metadata": {},
   "source": [
    "# Fill_null()\n",
    "\n",
    "Sur pandas, la fonction utilisée est fillna(), alors que sur polars la fonction utilisée pour remplacer les valeurs vides, c'est fill_null().\n",
    "\n",
    "Problème sur polars : il n'est pas possible de remplacer les valeurs nulles dans un champ de type date, ou float... contrairement avec pandas.\n",
    "La seule solution est de remplacer ces cellules vides en convertissant ces champs en type str...\n",
    "\n",
    "Date : 24/04/2025 <br>\n",
    "Editeur : Laurent Reynaud"
   ]
  },
  {
   "cell_type": "code",
   "execution_count": 1,
   "id": "4a48a7e7",
   "metadata": {},
   "outputs": [],
   "source": [
    "import polars as pl\n",
    "from skimpy import skim"
   ]
  },
  {
   "cell_type": "code",
   "execution_count": 2,
   "id": "0a84c4af",
   "metadata": {},
   "outputs": [],
   "source": [
    "df = pl.read_excel('data/Fillna.xlsx', sheet_name='Feuil1')"
   ]
  },
  {
   "cell_type": "code",
   "execution_count": 3,
   "id": "8591c296",
   "metadata": {},
   "outputs": [
    {
     "data": {
      "text/html": [
       "<div><style>\n",
       ".dataframe > thead > tr,\n",
       ".dataframe > tbody > tr {\n",
       "  text-align: right;\n",
       "  white-space: pre-wrap;\n",
       "}\n",
       "</style>\n",
       "<small>shape: (5, 4)</small><table border=\"1\" class=\"dataframe\"><thead><tr><th>Vendeur</th><th>Article</th><th>Date</th><th>Montant</th></tr><tr><td>str</td><td>str</td><td>date</td><td>i64</td></tr></thead><tbody><tr><td>&quot;Jet Claire&quot;</td><td>&quot;AXT1247&quot;</td><td>2023-05-14</td><td>null</td></tr><tr><td>&quot;Kaman Medhi&quot;</td><td>&quot;AXT1222&quot;</td><td>2023-06-25</td><td>4000</td></tr><tr><td>&quot;Kanar Fouad&quot;</td><td>&quot;AXT1245&quot;</td><td>2023-06-24</td><td>8600</td></tr><tr><td>&quot;Jet Claire&quot;</td><td>null</td><td>null</td><td>6400</td></tr><tr><td>&quot;Kaman Medhi&quot;</td><td>&quot;AXT1231&quot;</td><td>2023-05-29</td><td>4200</td></tr></tbody></table></div>"
      ],
      "text/plain": [
       "shape: (5, 4)\n",
       "┌─────────────┬─────────┬────────────┬─────────┐\n",
       "│ Vendeur     ┆ Article ┆ Date       ┆ Montant │\n",
       "│ ---         ┆ ---     ┆ ---        ┆ ---     │\n",
       "│ str         ┆ str     ┆ date       ┆ i64     │\n",
       "╞═════════════╪═════════╪════════════╪═════════╡\n",
       "│ Jet Claire  ┆ AXT1247 ┆ 2023-05-14 ┆ null    │\n",
       "│ Kaman Medhi ┆ AXT1222 ┆ 2023-06-25 ┆ 4000    │\n",
       "│ Kanar Fouad ┆ AXT1245 ┆ 2023-06-24 ┆ 8600    │\n",
       "│ Jet Claire  ┆ null    ┆ null       ┆ 6400    │\n",
       "│ Kaman Medhi ┆ AXT1231 ┆ 2023-05-29 ┆ 4200    │\n",
       "└─────────────┴─────────┴────────────┴─────────┘"
      ]
     },
     "execution_count": 3,
     "metadata": {},
     "output_type": "execute_result"
    }
   ],
   "source": [
    "df.head()"
   ]
  },
  {
   "cell_type": "code",
   "execution_count": 4,
   "id": "3fdae3ed",
   "metadata": {},
   "outputs": [
    {
     "data": {
      "text/html": [
       "<pre style=\"white-space:pre;overflow-x:auto;line-height:normal;font-family:Menlo,'DejaVu Sans Mono',consolas,'Courier New',monospace\">╭──────────────────────────────────────────────── skimpy summary ─────────────────────────────────────────────────╮\n",
       "│ <span style=\"font-style: italic\">         Data Summary         </span> <span style=\"font-style: italic\">      Data Types       </span>                                                          │\n",
       "│ ┏━━━━━━━━━━━━━━━━━━━┳━━━━━━━━┓ ┏━━━━━━━━━━━━━┳━━━━━━━┓                                                          │\n",
       "│ ┃<span style=\"color: #008080; text-decoration-color: #008080; font-weight: bold\"> Dataframe         </span>┃<span style=\"color: #008080; text-decoration-color: #008080; font-weight: bold\"> Values </span>┃ ┃<span style=\"color: #008080; text-decoration-color: #008080; font-weight: bold\"> Column Type </span>┃<span style=\"color: #008080; text-decoration-color: #008080; font-weight: bold\"> Count </span>┃                                                          │\n",
       "│ ┡━━━━━━━━━━━━━━━━━━━╇━━━━━━━━┩ ┡━━━━━━━━━━━━━╇━━━━━━━┩                                                          │\n",
       "│ │ Number of rows    │ 26     │ │ string      │ 2     │                                                          │\n",
       "│ │ Number of columns │ 4      │ │ datetime64  │ 1     │                                                          │\n",
       "│ └───────────────────┴────────┘ │ float64     │ 1     │                                                          │\n",
       "│                                └─────────────┴───────┘                                                          │\n",
       "│ <span style=\"font-style: italic\">                                                    number                                                    </span>  │\n",
       "│ ┏━━━━━━━━━━━┳━━━━━┳━━━━━━━━━━━━━━━━━━━━━━━━┳━━━━━━━┳━━━━━━━┳━━━━━━━┳━━━━━━━┳━━━━━━━┳━━━━━━━┳━━━━━━━━┳━━━━━━━━┓  │\n",
       "│ ┃<span style=\"font-weight: bold\"> column    </span>┃<span style=\"font-weight: bold\"> NA  </span>┃<span style=\"font-weight: bold\"> NA %                   </span>┃<span style=\"font-weight: bold\"> mean  </span>┃<span style=\"font-weight: bold\"> sd    </span>┃<span style=\"font-weight: bold\"> p0    </span>┃<span style=\"font-weight: bold\"> p25   </span>┃<span style=\"font-weight: bold\"> p50   </span>┃<span style=\"font-weight: bold\"> p75   </span>┃<span style=\"font-weight: bold\"> p100   </span>┃<span style=\"font-weight: bold\"> hist   </span>┃  │\n",
       "│ ┡━━━━━━━━━━━╇━━━━━╇━━━━━━━━━━━━━━━━━━━━━━━━╇━━━━━━━╇━━━━━━━╇━━━━━━━╇━━━━━━━╇━━━━━━━╇━━━━━━━╇━━━━━━━━╇━━━━━━━━┩  │\n",
       "│ │ <span style=\"color: #af87ff; text-decoration-color: #af87ff\">Montant  </span> │ <span style=\"color: #008080; text-decoration-color: #008080\">  4</span> │ <span style=\"color: #008080; text-decoration-color: #008080\">    15.384615384615385</span> │ <span style=\"color: #008080; text-decoration-color: #008080\"> 7086</span> │ <span style=\"color: #008080; text-decoration-color: #008080\"> 2970</span> │ <span style=\"color: #008080; text-decoration-color: #008080\"> 3400</span> │ <span style=\"color: #008080; text-decoration-color: #008080\"> 4575</span> │ <span style=\"color: #008080; text-decoration-color: #008080\"> 6750</span> │ <span style=\"color: #008080; text-decoration-color: #008080\"> 8900</span> │ <span style=\"color: #008080; text-decoration-color: #008080\"> 14000</span> │ <span style=\"color: #008000; text-decoration-color: #008000\">▆▇▂▂▃▁</span> │  │\n",
       "│ └───────────┴─────┴────────────────────────┴───────┴───────┴───────┴───────┴───────┴───────┴────────┴────────┘  │\n",
       "│ <span style=\"font-style: italic\">                                                   datetime                                                   </span>  │\n",
       "│ ┏━━━━━━━━━━━━━┳━━━━━━━┳━━━━━━━━━━━━━━━━━━━━━━━━━━━━━━┳━━━━━━━━━━━━━━━━━━━┳━━━━━━━━━━━━━━━━━━┳━━━━━━━━━━━━━━━━┓  │\n",
       "│ ┃<span style=\"font-weight: bold\"> column      </span>┃<span style=\"font-weight: bold\"> NA    </span>┃<span style=\"font-weight: bold\"> NA %                         </span>┃<span style=\"font-weight: bold\"> first             </span>┃<span style=\"font-weight: bold\"> last             </span>┃<span style=\"font-weight: bold\"> frequency      </span>┃  │\n",
       "│ ┡━━━━━━━━━━━━━╇━━━━━━━╇━━━━━━━━━━━━━━━━━━━━━━━━━━━━━━╇━━━━━━━━━━━━━━━━━━━╇━━━━━━━━━━━━━━━━━━╇━━━━━━━━━━━━━━━━┩  │\n",
       "│ │ <span style=\"color: #af87ff; text-decoration-color: #af87ff\">Date       </span> │ <span style=\"color: #008080; text-decoration-color: #008080\">    5</span> │ <span style=\"color: #008080; text-decoration-color: #008080\">           19.23076923076923</span> │ <span style=\"color: #800000; text-decoration-color: #800000\">   2023-04-01    </span> │ <span style=\"color: #800000; text-decoration-color: #800000\">   2023-06-25   </span> │ <span style=\"color: #af87ff; text-decoration-color: #af87ff\">None          </span> │  │\n",
       "│ └─────────────┴───────┴──────────────────────────────┴───────────────────┴──────────────────┴────────────────┘  │\n",
       "│ <span style=\"font-style: italic\">                                                    string                                                    </span>  │\n",
       "│ ┏━━━━━━━━━┳━━━━┳━━━━━━━━━━━┳━━━━━━━━━━┳━━━━━━━━━━━┳━━━━━━━━━━━┳━━━━━━━━━━━┳━━━━━━━━━━━┳━━━━━━━━━━━┳━━━━━━━━━━┓  │\n",
       "│ ┃<span style=\"font-weight: bold\">         </span>┃<span style=\"font-weight: bold\">    </span>┃<span style=\"font-weight: bold\">           </span>┃<span style=\"font-weight: bold\">          </span>┃<span style=\"font-weight: bold\">           </span>┃<span style=\"font-weight: bold\">           </span>┃<span style=\"font-weight: bold\">           </span>┃<span style=\"font-weight: bold\"> chars per </span>┃<span style=\"font-weight: bold\"> words per </span>┃<span style=\"font-weight: bold\"> total    </span>┃  │\n",
       "│ ┃<span style=\"font-weight: bold\"> column  </span>┃<span style=\"font-weight: bold\"> NA </span>┃<span style=\"font-weight: bold\"> NA %      </span>┃<span style=\"font-weight: bold\"> shortest </span>┃<span style=\"font-weight: bold\"> longest   </span>┃<span style=\"font-weight: bold\"> min       </span>┃<span style=\"font-weight: bold\"> max       </span>┃<span style=\"font-weight: bold\"> row       </span>┃<span style=\"font-weight: bold\"> row       </span>┃<span style=\"font-weight: bold\"> words    </span>┃  │\n",
       "│ ┡━━━━━━━━━╇━━━━╇━━━━━━━━━━━╇━━━━━━━━━━╇━━━━━━━━━━━╇━━━━━━━━━━━╇━━━━━━━━━━━╇━━━━━━━━━━━╇━━━━━━━━━━━╇━━━━━━━━━━┩  │\n",
       "│ │ <span style=\"color: #af87ff; text-decoration-color: #af87ff\">Vendeur</span> │ <span style=\"color: #008080; text-decoration-color: #008080\"> 0</span> │ <span style=\"color: #008080; text-decoration-color: #008080\">        0</span> │ <span style=\"color: #af87ff; text-decoration-color: #af87ff\">Gori Ali</span> │ <span style=\"color: #af87ff; text-decoration-color: #af87ff\">Galls    </span> │ <span style=\"color: #af87ff; text-decoration-color: #af87ff\">Fortune  </span> │ <span style=\"color: #af87ff; text-decoration-color: #af87ff\">Lile     </span> │ <span style=\"color: #008080; text-decoration-color: #008080\">     11.1</span> │ <span style=\"color: #008080; text-decoration-color: #008080\">        2</span> │ <span style=\"color: #008080; text-decoration-color: #008080\">      52</span> │  │\n",
       "│ │         │    │           │          │ <span style=\"color: #af87ff; text-decoration-color: #af87ff\">Charline </span> │ <span style=\"color: #af87ff; text-decoration-color: #af87ff\">Alain    </span> │ <span style=\"color: #af87ff; text-decoration-color: #af87ff\">Maurice  </span> │           │           │          │  │\n",
       "│ │ <span style=\"color: #af87ff; text-decoration-color: #af87ff\">Article</span> │ <span style=\"color: #008080; text-decoration-color: #008080\"> 5</span> │ <span style=\"color: #008080; text-decoration-color: #008080\">19.230769</span> │ <span style=\"color: #af87ff; text-decoration-color: #af87ff\">AXT1247 </span> │ <span style=\"color: #af87ff; text-decoration-color: #af87ff\">AXT1247  </span> │ <span style=\"color: #af87ff; text-decoration-color: #af87ff\">AXT1220  </span> │ <span style=\"color: #af87ff; text-decoration-color: #af87ff\">AXT1247  </span> │ <span style=\"color: #008080; text-decoration-color: #008080\">        7</span> │ <span style=\"color: #008080; text-decoration-color: #008080\">     0.81</span> │ <span style=\"color: #008080; text-decoration-color: #008080\">      21</span> │  │\n",
       "│ │         │    │ <span style=\"color: #008080; text-decoration-color: #008080\"> 23076923</span> │          │           │           │           │           │           │          │  │\n",
       "│ └─────────┴────┴───────────┴──────────┴───────────┴───────────┴───────────┴───────────┴───────────┴──────────┘  │\n",
       "╰────────────────────────────────────────────────────── End ──────────────────────────────────────────────────────╯\n",
       "</pre>\n"
      ],
      "text/plain": [
       "╭──────────────────────────────────────────────── skimpy summary ─────────────────────────────────────────────────╮\n",
       "│ \u001b[3m         Data Summary         \u001b[0m \u001b[3m      Data Types       \u001b[0m                                                          │\n",
       "│ ┏━━━━━━━━━━━━━━━━━━━┳━━━━━━━━┓ ┏━━━━━━━━━━━━━┳━━━━━━━┓                                                          │\n",
       "│ ┃\u001b[1;36m \u001b[0m\u001b[1;36mDataframe        \u001b[0m\u001b[1;36m \u001b[0m┃\u001b[1;36m \u001b[0m\u001b[1;36mValues\u001b[0m\u001b[1;36m \u001b[0m┃ ┃\u001b[1;36m \u001b[0m\u001b[1;36mColumn Type\u001b[0m\u001b[1;36m \u001b[0m┃\u001b[1;36m \u001b[0m\u001b[1;36mCount\u001b[0m\u001b[1;36m \u001b[0m┃                                                          │\n",
       "│ ┡━━━━━━━━━━━━━━━━━━━╇━━━━━━━━┩ ┡━━━━━━━━━━━━━╇━━━━━━━┩                                                          │\n",
       "│ │ Number of rows    │ 26     │ │ string      │ 2     │                                                          │\n",
       "│ │ Number of columns │ 4      │ │ datetime64  │ 1     │                                                          │\n",
       "│ └───────────────────┴────────┘ │ float64     │ 1     │                                                          │\n",
       "│                                └─────────────┴───────┘                                                          │\n",
       "│ \u001b[3m                                                    number                                                    \u001b[0m  │\n",
       "│ ┏━━━━━━━━━━━┳━━━━━┳━━━━━━━━━━━━━━━━━━━━━━━━┳━━━━━━━┳━━━━━━━┳━━━━━━━┳━━━━━━━┳━━━━━━━┳━━━━━━━┳━━━━━━━━┳━━━━━━━━┓  │\n",
       "│ ┃\u001b[1m \u001b[0m\u001b[1mcolumn   \u001b[0m\u001b[1m \u001b[0m┃\u001b[1m \u001b[0m\u001b[1mNA \u001b[0m\u001b[1m \u001b[0m┃\u001b[1m \u001b[0m\u001b[1mNA %                  \u001b[0m\u001b[1m \u001b[0m┃\u001b[1m \u001b[0m\u001b[1mmean \u001b[0m\u001b[1m \u001b[0m┃\u001b[1m \u001b[0m\u001b[1msd   \u001b[0m\u001b[1m \u001b[0m┃\u001b[1m \u001b[0m\u001b[1mp0   \u001b[0m\u001b[1m \u001b[0m┃\u001b[1m \u001b[0m\u001b[1mp25  \u001b[0m\u001b[1m \u001b[0m┃\u001b[1m \u001b[0m\u001b[1mp50  \u001b[0m\u001b[1m \u001b[0m┃\u001b[1m \u001b[0m\u001b[1mp75  \u001b[0m\u001b[1m \u001b[0m┃\u001b[1m \u001b[0m\u001b[1mp100  \u001b[0m\u001b[1m \u001b[0m┃\u001b[1m \u001b[0m\u001b[1mhist  \u001b[0m\u001b[1m \u001b[0m┃  │\n",
       "│ ┡━━━━━━━━━━━╇━━━━━╇━━━━━━━━━━━━━━━━━━━━━━━━╇━━━━━━━╇━━━━━━━╇━━━━━━━╇━━━━━━━╇━━━━━━━╇━━━━━━━╇━━━━━━━━╇━━━━━━━━┩  │\n",
       "│ │ \u001b[38;5;141mMontant  \u001b[0m │ \u001b[36m  4\u001b[0m │ \u001b[36m    15.384615384615385\u001b[0m │ \u001b[36m 7086\u001b[0m │ \u001b[36m 2970\u001b[0m │ \u001b[36m 3400\u001b[0m │ \u001b[36m 4575\u001b[0m │ \u001b[36m 6750\u001b[0m │ \u001b[36m 8900\u001b[0m │ \u001b[36m 14000\u001b[0m │ \u001b[32m▆▇▂▂▃▁\u001b[0m │  │\n",
       "│ └───────────┴─────┴────────────────────────┴───────┴───────┴───────┴───────┴───────┴───────┴────────┴────────┘  │\n",
       "│ \u001b[3m                                                   datetime                                                   \u001b[0m  │\n",
       "│ ┏━━━━━━━━━━━━━┳━━━━━━━┳━━━━━━━━━━━━━━━━━━━━━━━━━━━━━━┳━━━━━━━━━━━━━━━━━━━┳━━━━━━━━━━━━━━━━━━┳━━━━━━━━━━━━━━━━┓  │\n",
       "│ ┃\u001b[1m \u001b[0m\u001b[1mcolumn     \u001b[0m\u001b[1m \u001b[0m┃\u001b[1m \u001b[0m\u001b[1mNA   \u001b[0m\u001b[1m \u001b[0m┃\u001b[1m \u001b[0m\u001b[1mNA %                        \u001b[0m\u001b[1m \u001b[0m┃\u001b[1m \u001b[0m\u001b[1mfirst            \u001b[0m\u001b[1m \u001b[0m┃\u001b[1m \u001b[0m\u001b[1mlast            \u001b[0m\u001b[1m \u001b[0m┃\u001b[1m \u001b[0m\u001b[1mfrequency     \u001b[0m\u001b[1m \u001b[0m┃  │\n",
       "│ ┡━━━━━━━━━━━━━╇━━━━━━━╇━━━━━━━━━━━━━━━━━━━━━━━━━━━━━━╇━━━━━━━━━━━━━━━━━━━╇━━━━━━━━━━━━━━━━━━╇━━━━━━━━━━━━━━━━┩  │\n",
       "│ │ \u001b[38;5;141mDate       \u001b[0m │ \u001b[36m    5\u001b[0m │ \u001b[36m           19.23076923076923\u001b[0m │ \u001b[31m   2023-04-01    \u001b[0m │ \u001b[31m   2023-06-25   \u001b[0m │ \u001b[38;5;141mNone          \u001b[0m │  │\n",
       "│ └─────────────┴───────┴──────────────────────────────┴───────────────────┴──────────────────┴────────────────┘  │\n",
       "│ \u001b[3m                                                    string                                                    \u001b[0m  │\n",
       "│ ┏━━━━━━━━━┳━━━━┳━━━━━━━━━━━┳━━━━━━━━━━┳━━━━━━━━━━━┳━━━━━━━━━━━┳━━━━━━━━━━━┳━━━━━━━━━━━┳━━━━━━━━━━━┳━━━━━━━━━━┓  │\n",
       "│ ┃\u001b[1m         \u001b[0m┃\u001b[1m    \u001b[0m┃\u001b[1m           \u001b[0m┃\u001b[1m          \u001b[0m┃\u001b[1m           \u001b[0m┃\u001b[1m           \u001b[0m┃\u001b[1m           \u001b[0m┃\u001b[1m \u001b[0m\u001b[1mchars per\u001b[0m\u001b[1m \u001b[0m┃\u001b[1m \u001b[0m\u001b[1mwords per\u001b[0m\u001b[1m \u001b[0m┃\u001b[1m \u001b[0m\u001b[1mtotal   \u001b[0m\u001b[1m \u001b[0m┃  │\n",
       "│ ┃\u001b[1m \u001b[0m\u001b[1mcolumn \u001b[0m\u001b[1m \u001b[0m┃\u001b[1m \u001b[0m\u001b[1mNA\u001b[0m\u001b[1m \u001b[0m┃\u001b[1m \u001b[0m\u001b[1mNA %     \u001b[0m\u001b[1m \u001b[0m┃\u001b[1m \u001b[0m\u001b[1mshortest\u001b[0m\u001b[1m \u001b[0m┃\u001b[1m \u001b[0m\u001b[1mlongest  \u001b[0m\u001b[1m \u001b[0m┃\u001b[1m \u001b[0m\u001b[1mmin      \u001b[0m\u001b[1m \u001b[0m┃\u001b[1m \u001b[0m\u001b[1mmax      \u001b[0m\u001b[1m \u001b[0m┃\u001b[1m \u001b[0m\u001b[1mrow      \u001b[0m\u001b[1m \u001b[0m┃\u001b[1m \u001b[0m\u001b[1mrow      \u001b[0m\u001b[1m \u001b[0m┃\u001b[1m \u001b[0m\u001b[1mwords   \u001b[0m\u001b[1m \u001b[0m┃  │\n",
       "│ ┡━━━━━━━━━╇━━━━╇━━━━━━━━━━━╇━━━━━━━━━━╇━━━━━━━━━━━╇━━━━━━━━━━━╇━━━━━━━━━━━╇━━━━━━━━━━━╇━━━━━━━━━━━╇━━━━━━━━━━┩  │\n",
       "│ │ \u001b[38;5;141mVendeur\u001b[0m │ \u001b[36m 0\u001b[0m │ \u001b[36m        0\u001b[0m │ \u001b[38;5;141mGori Ali\u001b[0m │ \u001b[38;5;141mGalls    \u001b[0m │ \u001b[38;5;141mFortune  \u001b[0m │ \u001b[38;5;141mLile     \u001b[0m │ \u001b[36m     11.1\u001b[0m │ \u001b[36m        2\u001b[0m │ \u001b[36m      52\u001b[0m │  │\n",
       "│ │         │    │           │          │ \u001b[38;5;141mCharline \u001b[0m │ \u001b[38;5;141mAlain    \u001b[0m │ \u001b[38;5;141mMaurice  \u001b[0m │           │           │          │  │\n",
       "│ │ \u001b[38;5;141mArticle\u001b[0m │ \u001b[36m 5\u001b[0m │ \u001b[36m19.230769\u001b[0m │ \u001b[38;5;141mAXT1247 \u001b[0m │ \u001b[38;5;141mAXT1247  \u001b[0m │ \u001b[38;5;141mAXT1220  \u001b[0m │ \u001b[38;5;141mAXT1247  \u001b[0m │ \u001b[36m        7\u001b[0m │ \u001b[36m     0.81\u001b[0m │ \u001b[36m      21\u001b[0m │  │\n",
       "│ │         │    │ \u001b[36m 23076923\u001b[0m │          │           │           │           │           │           │          │  │\n",
       "│ └─────────┴────┴───────────┴──────────┴───────────┴───────────┴───────────┴───────────┴───────────┴──────────┘  │\n",
       "╰────────────────────────────────────────────────────── End ──────────────────────────────────────────────────────╯\n"
      ]
     },
     "metadata": {},
     "output_type": "display_data"
    }
   ],
   "source": [
    "skim(df)"
   ]
  },
  {
   "cell_type": "markdown",
   "id": "9e9a4d01",
   "metadata": {},
   "source": [
    "## Remplacement des valeurs vides par un texte"
   ]
  },
  {
   "cell_type": "code",
   "execution_count": 6,
   "id": "28628caf",
   "metadata": {},
   "outputs": [
    {
     "data": {
      "text/html": [
       "<div><style>\n",
       ".dataframe > thead > tr,\n",
       ".dataframe > tbody > tr {\n",
       "  text-align: right;\n",
       "  white-space: pre-wrap;\n",
       "}\n",
       "</style>\n",
       "<small>shape: (26, 4)</small><table border=\"1\" class=\"dataframe\"><thead><tr><th>Vendeur</th><th>Article</th><th>Date</th><th>Montant</th></tr><tr><td>str</td><td>str</td><td>date</td><td>i64</td></tr></thead><tbody><tr><td>&quot;Jet Claire&quot;</td><td>&quot;AXT1247&quot;</td><td>2023-05-14</td><td>null</td></tr><tr><td>&quot;Kaman Medhi&quot;</td><td>&quot;AXT1222&quot;</td><td>2023-06-25</td><td>4000</td></tr><tr><td>&quot;Kanar Fouad&quot;</td><td>&quot;AXT1245&quot;</td><td>2023-06-24</td><td>8600</td></tr><tr><td>&quot;Jet Claire&quot;</td><td>&quot;soon&quot;</td><td>null</td><td>6400</td></tr><tr><td>&quot;Kaman Medhi&quot;</td><td>&quot;AXT1231&quot;</td><td>2023-05-29</td><td>4200</td></tr><tr><td>&hellip;</td><td>&hellip;</td><td>&hellip;</td><td>&hellip;</td></tr><tr><td>&quot;Gori Ali&quot;</td><td>&quot;AXT1222&quot;</td><td>2023-04-30</td><td>7000</td></tr><tr><td>&quot;Lile Maurice&quot;</td><td>&quot;AXT1234&quot;</td><td>2023-05-25</td><td>10400</td></tr><tr><td>&quot;Gature Emilie&quot;</td><td>&quot;AXT1247&quot;</td><td>2023-04-09</td><td>null</td></tr><tr><td>&quot;Jet Claire&quot;</td><td>&quot;AXT1223&quot;</td><td>2023-06-21</td><td>4100</td></tr><tr><td>&quot;Galls Charline&quot;</td><td>&quot;soon&quot;</td><td>null</td><td>null</td></tr></tbody></table></div>"
      ],
      "text/plain": [
       "shape: (26, 4)\n",
       "┌────────────────┬─────────┬────────────┬─────────┐\n",
       "│ Vendeur        ┆ Article ┆ Date       ┆ Montant │\n",
       "│ ---            ┆ ---     ┆ ---        ┆ ---     │\n",
       "│ str            ┆ str     ┆ date       ┆ i64     │\n",
       "╞════════════════╪═════════╪════════════╪═════════╡\n",
       "│ Jet Claire     ┆ AXT1247 ┆ 2023-05-14 ┆ null    │\n",
       "│ Kaman Medhi    ┆ AXT1222 ┆ 2023-06-25 ┆ 4000    │\n",
       "│ Kanar Fouad    ┆ AXT1245 ┆ 2023-06-24 ┆ 8600    │\n",
       "│ Jet Claire     ┆ soon    ┆ null       ┆ 6400    │\n",
       "│ Kaman Medhi    ┆ AXT1231 ┆ 2023-05-29 ┆ 4200    │\n",
       "│ …              ┆ …       ┆ …          ┆ …       │\n",
       "│ Gori Ali       ┆ AXT1222 ┆ 2023-04-30 ┆ 7000    │\n",
       "│ Lile Maurice   ┆ AXT1234 ┆ 2023-05-25 ┆ 10400   │\n",
       "│ Gature Emilie  ┆ AXT1247 ┆ 2023-04-09 ┆ null    │\n",
       "│ Jet Claire     ┆ AXT1223 ┆ 2023-06-21 ┆ 4100    │\n",
       "│ Galls Charline ┆ soon    ┆ null       ┆ null    │\n",
       "└────────────────┴─────────┴────────────┴─────────┘"
      ]
     },
     "execution_count": 6,
     "metadata": {},
     "output_type": "execute_result"
    }
   ],
   "source": [
    "df.fill_null('soon')"
   ]
  }
 ],
 "metadata": {
  "kernelspec": {
   "display_name": "Python 3",
   "language": "python",
   "name": "python3"
  },
  "language_info": {
   "codemirror_mode": {
    "name": "ipython",
    "version": 3
   },
   "file_extension": ".py",
   "mimetype": "text/x-python",
   "name": "python",
   "nbconvert_exporter": "python",
   "pygments_lexer": "ipython3",
   "version": "3.12.5"
  }
 },
 "nbformat": 4,
 "nbformat_minor": 5
}
